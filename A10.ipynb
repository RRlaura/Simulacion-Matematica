{
 "cells": [
  {
   "cell_type": "markdown",
   "id": "b36857fc-4357-42fa-9e18-18d3ad3b3624",
   "metadata": {},
   "source": [
    "Laura Rodriguez 17-10-24"
   ]
  },
  {
   "cell_type": "markdown",
   "id": "640bb551-babf-4b17-96f9-70bb8c818199",
   "metadata": {},
   "source": [
    "1.- Menciona tres ejemplos de variables aleatorias discretas:\r",
    "* Cantidad de mascotas que hay en las casas de los estudiantes de simulacion\n",
    "* Cantidad de egresados en la carrera de nanotecnologia en el periodo otoño 2024\n",
    "* Cantidad de blusas que vende una tienda al día\""
   ]
  },
  {
   "cell_type": "markdown",
   "id": "cc04d677-caeb-466b-a641-f4898fb453df",
   "metadata": {},
   "source": [
    "2.- Menciona tres ejemplos de variables aleatorias continuas:\n",
    "* Estatura de los estudiantes de simulación\n",
    "* La temperatura en la que se sirve las bebidas en una cafetería\n",
    "* La cantidad de comida que come una persona al día"
   ]
  },
  {
   "cell_type": "markdown",
   "id": "4609033c-0e0e-463b-8239-0da98d61daf7",
   "metadata": {},
   "source": [
    "3.- Dos equipos juegan una serie de juegos (4 de 7, el que gane 4 juegos gana). Cada equipo tiene un 50% de probabilidad de ganar cada juego (no empates). ¿Cuál es la probabilidad de que la serie se vaya a 7 juegos? (5/16)"
   ]
  },
  {
   "cell_type": "code",
   "execution_count": 203,
   "id": "b1afc87b-7700-47d4-a091-68b84d379f66",
   "metadata": {},
   "outputs": [
    {
     "ename": "SyntaxError",
     "evalue": "'break' outside loop (3845460848.py, line 18)",
     "output_type": "error",
     "traceback": [
      "\u001b[1;36m  Cell \u001b[1;32mIn[203], line 18\u001b[1;36m\u001b[0m\n\u001b[1;33m    break\u001b[0m\n\u001b[1;37m    ^\u001b[0m\n\u001b[1;31mSyntaxError\u001b[0m\u001b[1;31m:\u001b[0m 'break' outside loop\n"
     ]
    }
   ],
   "source": [
    "import random\n",
    "\n",
    "equipo1 = 0\n",
    "equipo2 = 0\n",
    "juegos = 0\n",
    "\n",
    "while juegos < 7:\n",
    "    resultado = random.choice([1,2])\n",
    "    if resultado == 1:\n",
    "        equipo1 += 1\n",
    "    else:\n",
    "        equipo2 += 1\n",
    "        juegos += 1\n",
    "\n",
    "#si un equipo gana 4 juegos se debe terminar la serie\n",
    "\n",
    "if equipo1 == 4 or equipo2 == 4:\n",
    "    break\n",
    "    \n",
    "    return juegos == 7 \n",
    "\n"
   ]
  },
  {
   "cell_type": "code",
   "execution_count": null,
   "id": "3caafbd8-4211-4281-87ad-4adaec31ed50",
   "metadata": {},
   "outputs": [],
   "source": []
  },
  {
   "cell_type": "code",
   "execution_count": null,
   "id": "62fe9cc7-3185-48f9-adaa-3fda77dd1789",
   "metadata": {},
   "outputs": [],
   "source": []
  },
  {
   "cell_type": "code",
   "execution_count": null,
   "id": "1ab7f7c1-b438-477c-b3be-4619b949d6b0",
   "metadata": {},
   "outputs": [],
   "source": []
  },
  {
   "cell_type": "code",
   "execution_count": null,
   "id": "8754afb4-1269-4083-8c0c-9f6f1653346c",
   "metadata": {},
   "outputs": [],
   "source": []
  },
  {
   "cell_type": "code",
   "execution_count": null,
   "id": "7376d654-cac6-4a43-8271-ff2f346aa20b",
   "metadata": {},
   "outputs": [],
   "source": []
  },
  {
   "cell_type": "code",
   "execution_count": null,
   "id": "5ef236cb-98d5-4c84-b60f-488cbe718186",
   "metadata": {},
   "outputs": [],
   "source": []
  },
  {
   "cell_type": "code",
   "execution_count": 123,
   "id": "f77ec666-5c09-484a-8ec6-a229c4a0f1c6",
   "metadata": {},
   "outputs": [
    {
     "data": {
      "text/plain": [
       "0.3125"
      ]
     },
     "execution_count": 123,
     "metadata": {},
     "output_type": "execute_result"
    }
   ],
   "source": [
    "5/16"
   ]
  },
  {
   "cell_type": "markdown",
   "id": "85d61ae7-4da0-46e6-b084-c9fbfd43669c",
   "metadata": {},
   "source": [
    "4.- Una en mil personas tienen una enfermedad H, y la prueba de la enfermedad sale correcta 98% de las veces cuando la persona está enferma. Por otro lado, si la persona está enferma la prueba tiene un error del 1%. Si alguien se hace una prueba y sale positiva, ¿cuál es la probabilidad de que tengan la enfermedad? (98/1097)"
   ]
  },
  {
   "cell_type": "code",
   "execution_count": 185,
   "id": "eeaf58f5-24a3-4ae1-a00c-2c3520eaf317",
   "metadata": {},
   "outputs": [
    {
     "data": {
      "text/plain": [
       "0.08771929824561403"
      ]
     },
     "execution_count": 185,
     "metadata": {},
     "output_type": "execute_result"
    }
   ],
   "source": [
    "import numpy as np\n",
    "n= 100000\n",
    "personas = np.random.choice([0, 1], n, p = [0.999, 0.001])\n",
    "t1_d1 = np.random.choice([0, 1], personas.sum(), p=[0.02, 0.98])\n",
    "t1_d0 = np.random.choice([0, 1], n - personas.sum(), p = [0.99, 0.01])\n",
    "\n",
    "t1_d1.sum()/(t1_d1.sum() + t1_d0.sum())"
   ]
  },
  {
   "cell_type": "markdown",
   "id": "eefc1e4d-e233-4fb5-a5e4-4d5ee58363be",
   "metadata": {},
   "source": [
    "Cual es la probabilidad de que sí esté enfermo dado que la prueba dio positivo?"
   ]
  },
  {
   "cell_type": "code",
   "execution_count": 197,
   "id": "a51d436f-cb7b-4a29-b00b-0e6ad7b2b150",
   "metadata": {},
   "outputs": [
    {
     "data": {
      "text/plain": [
       "989010.0"
      ]
     },
     "execution_count": 197,
     "metadata": {},
     "output_type": "execute_result"
    }
   ],
   "source": [
    "999000*0.99"
   ]
  },
  {
   "cell_type": "code",
   "execution_count": 175,
   "id": "4ea49be8-9e29-4c4c-8035-0e293c24b061",
   "metadata": {},
   "outputs": [
    {
     "data": {
      "text/plain": [
       "0.08933454876937101"
      ]
     },
     "execution_count": 175,
     "metadata": {},
     "output_type": "execute_result"
    }
   ],
   "source": [
    "98/1097"
   ]
  },
  {
   "cell_type": "markdown",
   "id": "375833ee-64ea-4107-a211-ccb91b61e536",
   "metadata": {},
   "source": [
    "5.- Tres amigos diferentes te dijeron que está lloviendo, y cada persona tiene 1/3 de probabilidad de mentir. Si el pronóstico del clima dijo que la probabilidad de lluvia era 25%, ¿cuál es la probabilidad de que sí esté lloviendo? (8/11)\n"
   ]
  },
  {
   "cell_type": "code",
   "execution_count": null,
   "id": "474b5f7e-97cb-4e26-8645-8d75313a8013",
   "metadata": {},
   "outputs": [],
   "source": [
    "lluvia = 0.25\n",
    "amigo1 = 1/3\n",
    "amigo2 = 1/3\n",
    "amigo3 = 1/3"
   ]
  },
  {
   "cell_type": "code",
   "execution_count": 23,
   "id": "8b5d4848-aa81-4ac3-9410-60b1ef5f5cec",
   "metadata": {},
   "outputs": [
    {
     "data": {
      "text/plain": [
       "0.7272727272727273"
      ]
     },
     "execution_count": 23,
     "metadata": {},
     "output_type": "execute_result"
    }
   ],
   "source": [
    "8/11"
   ]
  },
  {
   "cell_type": "markdown",
   "id": "ed17ac32-c24b-4acf-861f-0eeebb6e41a6",
   "metadata": {},
   "source": [
    "\n",
    "6.- Resuelve y añade a esta actividad los ejercicios que están en el notebook \"Distribuciones de probabilidad.ipynb\""
   ]
  },
  {
   "cell_type": "code",
   "execution_count": null,
   "id": "4201778e-8e20-4d61-a87f-e512ee4ae604",
   "metadata": {},
   "outputs": [],
   "source": []
  },
  {
   "cell_type": "code",
   "execution_count": null,
   "id": "fdffe20f-470d-480e-9717-7693e5c442d1",
   "metadata": {},
   "outputs": [],
   "source": []
  }
 ],
 "metadata": {
  "kernelspec": {
   "display_name": "Python 3 (ipykernel)",
   "language": "python",
   "name": "python3"
  },
  "language_info": {
   "codemirror_mode": {
    "name": "ipython",
    "version": 3
   },
   "file_extension": ".py",
   "mimetype": "text/x-python",
   "name": "python",
   "nbconvert_exporter": "python",
   "pygments_lexer": "ipython3",
   "version": "3.12.4"
  }
 },
 "nbformat": 4,
 "nbformat_minor": 5
}
