{
 "cells": [
  {
   "cell_type": "markdown",
   "id": "b36857fc-4357-42fa-9e18-18d3ad3b3624",
   "metadata": {},
   "source": [
    "Laura Rodriguez 17-10-24"
   ]
  },
  {
   "cell_type": "markdown",
   "id": "640bb551-babf-4b17-96f9-70bb8c818199",
   "metadata": {},
   "source": [
    "1.- Menciona tres ejemplos de variables aleatorias discretas:\r",
    "* Cantidad de mascotas que hay en las casas de los estudiantes de simulacion\n",
    "* Cantidad de egresados en la carrera de nanotecnologia en el periodo otoño 2024\n",
    "* Cantidad de blusas que vende una tienda al día\""
   ]
  },
  {
   "cell_type": "markdown",
   "id": "cc04d677-caeb-466b-a641-f4898fb453df",
   "metadata": {},
   "source": [
    "2.- Menciona tres ejemplos de variables aleatorias continuas:\n",
    "* Estatura de los estudiantes de simulación\n",
    "* La temperatura en la que se sirve las bebidas en una cafetería\n",
    "* La cantidad de comida que come una persona al día"
   ]
  },
  {
   "cell_type": "markdown",
   "id": "4609033c-0e0e-463b-8239-0da98d61daf7",
   "metadata": {},
   "source": [
    "3.- Dos equipos juegan una serie de juegos (4 de 7, el que gane 4 juegos gana). Cada equipo tiene un 50% de probabilidad de ganar cada juego (no empates). ¿Cuál es la probabilidad de que la serie se vaya a 7 juegos? (5/16)"
   ]
  },
  {
   "cell_type": "code",
   "execution_count": 68,
   "id": "b1afc87b-7700-47d4-a091-68b84d379f66",
   "metadata": {},
   "outputs": [
    {
     "data": {
      "text/plain": [
       "0.312084"
      ]
     },
     "execution_count": 68,
     "metadata": {},
     "output_type": "execute_result"
    }
   ],
   "source": [
    "import random\n",
    "\n",
    "def simulacion_serie():\n",
    "    equipo1 = 0\n",
    "    equipo2 = 0\n",
    "    juegos = 0\n",
    "    \n",
    "    while True:\n",
    "        resultado = random.choice([1, 2])  \n",
    "        if resultado == 1:\n",
    "            equipo1 += 1\n",
    "        else:\n",
    "            equipo2 += 1\n",
    "        juegos += 1  #para incrementar los juegos\n",
    "        \n",
    "        # Si alguno llega a 4 que se termine\n",
    "        if equipo1 == 4 or equipo2 == 4:\n",
    "            break\n",
    "        \n",
    "        #si quedan en empate 3-3 que siga otra\n",
    "        if equipo1 + equipo2 == 6:\n",
    "            return True  \n",
    "\n",
    "    return False \n",
    "\n",
    "\n",
    "personas = 1000000\n",
    "series = 0  \n",
    "\n",
    "for i in range(personas):\n",
    "    if simulacion_serie():\n",
    "        series += 1\n",
    "\n",
    "probabilidad_juegos = series / personas\n",
    "probabilidad_juegos\n"
   ]
  },
  {
   "cell_type": "code",
   "execution_count": 46,
   "id": "3caafbd8-4211-4281-87ad-4adaec31ed50",
   "metadata": {},
   "outputs": [
    {
     "data": {
      "text/plain": [
       "0.3125"
      ]
     },
     "execution_count": 46,
     "metadata": {},
     "output_type": "execute_result"
    }
   ],
   "source": [
    "5/16"
   ]
  },
  {
   "cell_type": "markdown",
   "id": "85d61ae7-4da0-46e6-b084-c9fbfd43669c",
   "metadata": {},
   "source": [
    "4.- Una en mil personas tienen una enfermedad H, y la prueba de la enfermedad sale correcta 98% de las veces cuando la persona está enferma. Por otro lado, si la persona está enferma la prueba tiene un error del 1%. Si alguien se hace una prueba y sale positiva, ¿cuál es la probabilidad de que tengan la enfermedad? (98/1097)"
   ]
  },
  {
   "cell_type": "code",
   "execution_count": 70,
   "id": "eeaf58f5-24a3-4ae1-a00c-2c3520eaf317",
   "metadata": {},
   "outputs": [
    {
     "data": {
      "text/plain": [
       "0.08333333333333333"
      ]
     },
     "execution_count": 70,
     "metadata": {},
     "output_type": "execute_result"
    }
   ],
   "source": [
    "import numpy as np\n",
    "n= 100000\n",
    "personas = np.random.choice([0, 1], n, p = [0.999, 0.001])\n",
    "t1_d1 = np.random.choice([0, 1], personas.sum(), p=[0.02, 0.98])\n",
    "t1_d0 = np.random.choice([0, 1], n - personas.sum(), p = [0.99, 0.01])\n",
    "\n",
    "t1_d1.sum()/(t1_d1.sum() + t1_d0.sum())"
   ]
  },
  {
   "cell_type": "markdown",
   "id": "eefc1e4d-e233-4fb5-a5e4-4d5ee58363be",
   "metadata": {},
   "source": [
    "Cual es la probabilidad de que sí esté enfermo dado que la prueba dio positivo?"
   ]
  },
  {
   "cell_type": "code",
   "execution_count": 197,
   "id": "a51d436f-cb7b-4a29-b00b-0e6ad7b2b150",
   "metadata": {},
   "outputs": [
    {
     "data": {
      "text/plain": [
       "989010.0"
      ]
     },
     "execution_count": 197,
     "metadata": {},
     "output_type": "execute_result"
    }
   ],
   "source": [
    "999000*0.99"
   ]
  },
  {
   "cell_type": "code",
   "execution_count": 175,
   "id": "4ea49be8-9e29-4c4c-8035-0e293c24b061",
   "metadata": {},
   "outputs": [
    {
     "data": {
      "text/plain": [
       "0.08933454876937101"
      ]
     },
     "execution_count": 175,
     "metadata": {},
     "output_type": "execute_result"
    }
   ],
   "source": [
    "98/1097"
   ]
  },
  {
   "cell_type": "markdown",
   "id": "375833ee-64ea-4107-a211-ccb91b61e536",
   "metadata": {},
   "source": [
    "5.- Tres amigos diferentes te dijeron que está lloviendo, y cada persona tiene 1/3 de probabilidad de mentir. Si el pronóstico del clima dijo que la probabilidad de lluvia era 25%, ¿cuál es la probabilidad de que sí esté lloviendo? (8/11)\n"
   ]
  },
  {
   "cell_type": "code",
   "execution_count": 76,
   "id": "8068e758-1f54-476f-a7ed-946c868f242c",
   "metadata": {},
   "outputs": [
    {
     "data": {
      "text/plain": [
       "0.7272727272727272"
      ]
     },
     "execution_count": 76,
     "metadata": {},
     "output_type": "execute_result"
    }
   ],
   "source": [
    "lluvia = 0.25\n",
    "no_lluvia = 1 - lluvia\n",
    "verdad = 2/3\n",
    "mentira = 1/3\n",
    "\n",
    "p_amigos_lluvia = verdad ** 3\n",
    "\n",
    "p_amigos_no_lluvia = mentira ** 3\n",
    "\n",
    "p_amigos = p_amigos_lluvia * lluvia + p_amigos_no_lluvia * no_lluvia\n",
    "\n",
    "p_lluvia_amigos = (p_amigos_lluvia * lluvia) / p_amigos\n",
    "p_lluvia_amigos"
   ]
  },
  {
   "cell_type": "code",
   "execution_count": 23,
   "id": "8b5d4848-aa81-4ac3-9410-60b1ef5f5cec",
   "metadata": {},
   "outputs": [
    {
     "data": {
      "text/plain": [
       "0.7272727272727273"
      ]
     },
     "execution_count": 23,
     "metadata": {},
     "output_type": "execute_result"
    }
   ],
   "source": [
    "8/11"
   ]
  },
  {
   "cell_type": "markdown",
   "id": "ed17ac32-c24b-4acf-861f-0eeebb6e41a6",
   "metadata": {},
   "source": [
    "\n",
    "6.- Resuelve y añade a esta actividad los ejercicios que están en el notebook \"Distribuciones de probabilidad.ipynb\""
   ]
  },
  {
   "cell_type": "code",
   "execution_count": null,
   "id": "2748a6cc-afbc-464e-a256-ff8b3b216940",
   "metadata": {},
   "outputs": [],
   "source": []
  },
  {
   "cell_type": "markdown",
   "id": "314447d1-412e-4d87-95ab-744f0f5cdadc",
   "metadata": {},
   "source": [
    "1.- Avientas un dado tres veces. ¿Cuál es la probabilidad de tirar dos 6 seguidos?"
   ]
  },
  {
   "cell_type": "code",
   "execution_count": 79,
   "id": "fdffe20f-470d-480e-9717-7693e5c442d1",
   "metadata": {},
   "outputs": [
    {
     "data": {
      "text/plain": [
       "0.0510668"
      ]
     },
     "execution_count": 79,
     "metadata": {},
     "output_type": "execute_result"
    }
   ],
   "source": [
    "n = 10000000\n",
    "np.random.seed(10)\n",
    "d1 = np.random.randint(1, 7, n) \n",
    "d2 = np.random.randint(1, 7, n) \n",
    "d3 = np.random.randint(1, 7, n)\n",
    "np.vstack((d1, d2, d3)) \n",
    "caso1 = ((d1 == 6) & (d2 == 6) & (d3 != 6))\n",
    "caso2 = ((d2 == 6) & (d3 == 6) & (d1 != 6))\n",
    "caso3 = ((d1 == 6) & (d2 == 6) & (d3 == 6))\n",
    "\n",
    "(caso1.sum() + caso2.sum() + caso3.sum())/n"
   ]
  },
  {
   "cell_type": "markdown",
   "id": "cd35695e-fd5c-4728-9155-ad78ef59771b",
   "metadata": {},
   "source": [
    "2.- Avientas tres dados, uno tras otro. ¿Cuál es la probabilidad de obtener número sólo en orden ascendente?"
   ]
  },
  {
   "cell_type": "code",
   "execution_count": 84,
   "id": "bdd5022f-ea1f-4d54-b7f2-89512e4561a1",
   "metadata": {},
   "outputs": [
    {
     "data": {
      "text/plain": [
       "0.093112"
      ]
     },
     "execution_count": 84,
     "metadata": {},
     "output_type": "execute_result"
    }
   ],
   "source": [
    "n = 1000000\n",
    "np.random.seed(10)\n",
    "d1 = np.random.randint(1, 7, n) \n",
    "d2 = np.random.randint(1, 7, n) \n",
    "d3 = np.random.randint(1, 7, n)\n",
    "\n",
    "exito = (d3 > d2) & (d2 > d1)\n",
    "exito.sum()/n"
   ]
  },
  {
   "cell_type": "markdown",
   "id": "4c549b3d-1a97-4575-b64f-0ee4b7792b8b",
   "metadata": {},
   "source": [
    "3.- Tienes una baraja con 100 cartas, con valores del 1 al 100. Tomas dos cartas aleatoriamente sin reemplazo. ¿Cuál es la probabilidad de que una carta valga el doble que la otra?"
   ]
  },
  {
   "cell_type": "code",
   "execution_count": 91,
   "id": "7de8aaf2-c8cc-4eb1-abd5-e2a470dc1623",
   "metadata": {},
   "outputs": [
    {
     "data": {
      "text/plain": [
       "0.010035"
      ]
     },
     "execution_count": 91,
     "metadata": {},
     "output_type": "execute_result"
    }
   ],
   "source": [
    "import numpy as np\n",
    "\n",
    "n = 1000000  \n",
    "\n",
    "carta1 = np.random.randint(1, 101, n)  # Carta 1\n",
    "carta2 = np.random.randint(1, 101, n)  # Carta 2\n",
    "\n",
    "\n",
    "exito = (carta1 == 2 * carta2) | (carta2 == 2 * carta1)\n",
    "#se usa el operador logico OR\n",
    "\n",
    "\n",
    "probabilidad = exito.sum() / n\n",
    "probabilidad\n"
   ]
  },
  {
   "cell_type": "markdown",
   "id": "b2c5ca55-11b3-4338-a092-319a02c30415",
   "metadata": {},
   "source": [
    "4.- Tienes dos monedas: una con águila y sello, y la otra con doble sello. Escoges una al azar y la tiras 5 veces; cae sello 5 veces. ¿Cuál es la probabilidad de que tomaste la moneda con doble sello?"
   ]
  },
  {
   "cell_type": "code",
   "execution_count": 95,
   "id": "b0e922c5-f116-4197-ba35-bd8f8bb546f4",
   "metadata": {},
   "outputs": [
    {
     "data": {
      "text/plain": [
       "0.9696969696969697"
      ]
     },
     "execution_count": 95,
     "metadata": {},
     "output_type": "execute_result"
    }
   ],
   "source": [
    "P_M2 = 1/2  #moneda con sello doble\n",
    "P_M1 = 1/2  #prob normal\n",
    "P_S5_M2 = 1  #5 sellos con la moneda doble\n",
    "P_S5_M1 = (1/2)**5  \n",
    "\n",
    "#prob de 5 sellos\n",
    "P_S5 = P_S5_M2 * P_M2 + P_S5_M1 * P_M1\n",
    "\n",
    "#teorema de bayes\n",
    "P_M2_S5 = (P_S5_M2 * P_M2) / P_S5\n",
    "P_M2_S5"
   ]
  },
  {
   "cell_type": "code",
   "execution_count": null,
   "id": "808c5b4b-5cea-43ca-b4bc-ed2fca1da324",
   "metadata": {},
   "outputs": [],
   "source": []
  },
  {
   "cell_type": "markdown",
   "id": "62329e9e-b79b-43e6-a348-3f90e8ca09f5",
   "metadata": {},
   "source": [
    "5.- Dos personas juegan tenis y están empatadas en 40-40. Esto significa que el set continúa hasta que alguien haya anotado 2 puntos sobre el otro:\n",
    "- Si un jugador anota la puntuación es A-40\n",
    "- Si el segundo jugador anota la puntuación regresa a 40-40\n",
    "\n",
    "El jugador 1 tiene una probabilidad de 60\\% de ganar cada punto, mientras que la probabilidad del segundo jugador es de 40\\%. ¿Cuál es la probabilidad de que el primer jugador gane el set?"
   ]
  },
  {
   "cell_type": "code",
   "execution_count": 103,
   "id": "cb7c0342-f03f-47a6-8ef3-01f149722e13",
   "metadata": {},
   "outputs": [
    {
     "data": {
      "text/plain": [
       "0.66341"
      ]
     },
     "execution_count": 103,
     "metadata": {},
     "output_type": "execute_result"
    }
   ],
   "source": [
    "import random\n",
    "\n",
    "def simular_set(prob_jugador1):\n",
    "    jugador1 = 0  \n",
    "    jugador2 = 0  \n",
    "    \n",
    "    while True:\n",
    "        if random.random() < prob_jugador1:\n",
    "            jugador1 += 1\n",
    "            jugador2 = 0  #para que se resete si el marcador del jugador 2 si el jugador 1 anota\n",
    "        else:\n",
    "            jugador2 += 1\n",
    "            jugador1 = 0  \n",
    "        \n",
    "        #para verificar si alguien ha ganado el set (2 puntos consecutivos)\n",
    "        if jugador1 == 2:\n",
    "            return 1  # Jugador 1 gana\n",
    "        elif jugador2 == 2:\n",
    "            return 0  # Jugador 2 gana\n",
    "\n",
    "n = 100000  \n",
    "victorias_jugador1 = 0\n",
    "\n",
    "for _ in range(n):\n",
    "    victorias_jugador1 += simular_set(0.6)  #proba de que gane un punto\n",
    "\n",
    "probabilidad_jugador1_gane = victorias_jugador1 / n\n",
    "probabilidad_jugador1_gane"
   ]
  },
  {
   "cell_type": "code",
   "execution_count": null,
   "id": "47bc3ae1-6943-484c-af11-e94453e9ca9d",
   "metadata": {},
   "outputs": [],
   "source": []
  }
 ],
 "metadata": {
  "kernelspec": {
   "display_name": "Python 3 (ipykernel)",
   "language": "python",
   "name": "python3"
  },
  "language_info": {
   "codemirror_mode": {
    "name": "ipython",
    "version": 3
   },
   "file_extension": ".py",
   "mimetype": "text/x-python",
   "name": "python",
   "nbconvert_exporter": "python",
   "pygments_lexer": "ipython3",
   "version": "3.12.4"
  }
 },
 "nbformat": 4,
 "nbformat_minor": 5
}
