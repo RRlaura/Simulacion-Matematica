{
 "cells": [
  {
   "cell_type": "markdown",
   "id": "71956f1b-35de-4a0d-b51e-5a3904fa5173",
   "metadata": {},
   "source": [
    "1.- Un proyecto de construcción está por comenzar. Se hace la compra de los materiales y el proveedor dice que en promedio tardan una semana con una desviación de 3 días en llegar. Una vez llegados los materiales se tarda entre 3 y 5 semanas en construir (uniforme). Después de la construcción se deben esperar 3 días antes de empezar a pintar, y toma 6 días en promedio con 2 días de desviación estándar hacerlo.\n",
    "\n",
    "a) Describe en una celda qué distribución usarías para cada paso del proceso\r\n",
    "\r\n",
    "b) Simula cada paso en el proceso un millón de veces\r\n",
    "\r\n",
    "c) Agrupa las simulaciones de cada paso para tener la simulación del proceso completo\r\n",
    "\r\n",
    "d) ¿Cuál es el tiempo promedio para de inicio-fin del proyecto?\r\n",
    "\r\n",
    "e) De acuerdo a tus simulaciones, ¿cuál es el peor caso? ¿cuál es el mejor caso?\r\n",
    "\r\n",
    "f) Si el proyecto se tiene que entregar a más tardar en 50 días o se tiene que pagar una compensación al cliente, ¿cuál es la probabilidad de que el proyecto se entregue a tiempo?\r\n",
    "\r\n",
    "g) ¿Cuál es la probabilidad de que el proyecto tome entre 20 y 40 días?"
   ]
  },
  {
   "cell_type": "markdown",
   "id": "166085db-64a4-4dd2-8a5a-d56d1cb8fc83",
   "metadata": {},
   "source": [
    "a) Vamos a usar una distribucion normal y uniforme"
   ]
  },
  {
   "cell_type": "code",
   "execution_count": 69,
   "id": "a449acbf-54a8-4fb1-aa75-bbcbd020e458",
   "metadata": {},
   "outputs": [
    {
     "name": "stdout",
     "output_type": "stream",
     "text": [
      "43.99830474685709\n",
      "22.096145527647078 65.9890075700348\n",
      "85.7815\n",
      "24.3724\n"
     ]
    }
   ],
   "source": [
    "import numpy as np\n",
    "n = 1000000 #simular el proceso un millon de veces\n",
    "\n",
    "#a) Distribuciones para cada paso del proceso\n",
    "# Tiempo de llegada de materiales (normal con media 7 días y desviación estándar 3 días)\n",
    "tiempo_materiales = np.random.normal(7, 3, n)\n",
    "\n",
    "#tiempo de construcción (uniforme entre 3 y 5 semanas -> entre 21 y 35 días)\n",
    "tiempo_construccion = np.random.uniform(21, 35, n)\n",
    "#tiempo de espera antes de pintar \n",
    "tiempo_espera = 3\n",
    "\n",
    "#tiempo de pintura \n",
    "tiempo_pintura = np.random.normal(6, 2, n)\n",
    "\n",
    "#tiempo total del proyecto\n",
    "tiempo_total = tiempo_materiales + tiempo_construccion + tiempo_espera + tiempo_pintura\n",
    "\n",
    "# d) estimar el tiempo promedio del proyecto\n",
    "tiempo_promedio = np.mean(tiempo_total) #promedio\n",
    "print(tiempo_promedio)\n",
    "\n",
    "#e) el mejor y peor caso en tiempo\n",
    "mejor_caso = np.min(tiempo_total)\n",
    "peor_caso = np.max(tiempo_total)\n",
    "print(mejor_caso, peor_caso)\n",
    "\n",
    "#f) Probabilidad de que se entregue a tiempo en 50 dias\n",
    "prob_atiempo = np.mean(tiempo_total <= 50) * 100\n",
    "print(prob_atiempo)\n",
    "\n",
    "#g) Probabilidad de que el proyecto tome entre 20 y 40 días\n",
    "prob_20_40_dias = np.mean((tiempo_total >= 20) & (tiempo_total <= 40)) * 100\n",
    "print(prob_20_40_dias)"
   ]
  },
  {
   "cell_type": "code",
   "execution_count": null,
   "id": "e27df357-67c3-42d4-a9f0-759f0980bcef",
   "metadata": {},
   "outputs": [],
   "source": [
    "#el tiempo promedio es de aprox 43 dias\n",
    "# el mejor caso es de 22 dias y el peor es de 65 dias\n",
    "# la probabilidad de que se entregue a tiempo en los 50 dias es del 85%\n",
    "# la probabilidad de que vaya a tardar entre 20 y 40 dias es de 24%"
   ]
  },
  {
   "cell_type": "markdown",
   "id": "2f5f92a2-bbf2-4e33-b612-99c62a887730",
   "metadata": {},
   "source": [
    "2.- Hay un elevador pequeño en una plaza donde se espera que entren máximo 4 personas a la vez, y su capacidad de peso para poder operar es de 300 kg. En el último censo se encontró que habían 378350 personas en la zona:\n",
    "\n",
    "185392 mujeres\n",
    "\n",
    "162690 hombres\n",
    "\n",
    "30268 personas que o prefirieron no dar la información o se identificaron como no binarias\n",
    "\n",
    "El peso promedio medido en mujeres es de 70 kg con una desviación estándar de 11 kg. En los hombres se midió un peso promedio de 80 kg y una desviación estándar de 16 kg. En el tercer grupo se midió un peso promedio de 73 kg con una desviación estándar de 12 kg.\n",
    "\n",
    "a) Si el elevador se llenara 10,000 veces, ¿cuántas de esas veces se excedería el peso permitido?\n",
    "\n",
    "b) ¿Qué peso total tendría que soportar el elevador si se quiere que el 95% de las veces que se llene no se exceda el peso permitido?"
   ]
  },
  {
   "cell_type": "code",
   "execution_count": 51,
   "id": "78720232-965d-4e89-a874-32fd061fb57d",
   "metadata": {},
   "outputs": [
    {
     "data": {
      "text/plain": [
       "46.32"
      ]
     },
     "execution_count": 51,
     "metadata": {},
     "output_type": "execute_result"
    }
   ],
   "source": [
    "import numpy as np\n",
    "n = 10000\n",
    "#datos en kg mujeres\n",
    "promedio_mujeres = 70\n",
    "desv_est_mujeres = 11\n",
    "#datos en kg hombres\n",
    "promedio_hombres = 80\n",
    "desv_est_hombres = 16\n",
    "#tercer grupo en kg\n",
    "promedio_otros = 73\n",
    "desv_est_otros = 12\n",
    "\n",
    "p_mujeres = 185392 / 378350\n",
    "p_hombres = 162690 / 378350\n",
    "p_otros = 30268 / 378350 #no informacion \n",
    "#capacidad máxima que se puede estar en el elevador en kg\n",
    "peso_maximo = 300\n",
    "\n",
    "\n",
    "# Simulación del peso total en el elevador (4 personas por vez)\n",
    "excesos = 0\n",
    "for i in range(n):\n",
    "    #4 personas al azar\n",
    "    personas = np.random.choice(['mujer', 'hombre', 'otros'], size=4, p=[p_mujeres, p_hombres, p_otros])\n",
    "    \n",
    "    # Calculamos el peso total\n",
    "    peso_total = 0\n",
    "    for persona in personas:\n",
    "        if persona == 'mujer':\n",
    "            peso_total += np.random.normal(promedio_mujeres, desv_est_mujeres) #distribucion normal\n",
    "        elif persona == 'hombre':\n",
    "            peso_total += np.random.normal(promedio_hombres, desv_est_hombres)\n",
    "        else:\n",
    "            peso_total += np.random.normal(promedio_otros, desv_est_otros)\n",
    "    \n",
    "    #si se excede el peso máximo\n",
    "    if peso_total > peso_maximo:\n",
    "        excesos += 1\n",
    "p_exceso = (excesos/n)*100\n",
    "p_exceso"
   ]
  },
  {
   "cell_type": "code",
   "execution_count": null,
   "id": "dda74975-1443-47c2-a89d-be277a5baef2",
   "metadata": {},
   "outputs": [],
   "source": [
    "#46.57 seria el porcentaje de veces que se excederia "
   ]
  },
  {
   "cell_type": "code",
   "execution_count": 55,
   "id": "0a32c39d-2152-4bed-b2f5-147e0e02e163",
   "metadata": {},
   "outputs": [
    {
     "data": {
      "text/plain": [
       "342.404959184342"
      ]
     },
     "execution_count": 55,
     "metadata": {},
     "output_type": "execute_result"
    }
   ],
   "source": [
    "from scipy.stats import norm\n",
    "\n",
    "media_total = 4 * (p_mujeres * promedio_mujeres + p_hombres * promedio_hombres + p_otros * promedio_otros)\n",
    "\n",
    "varianza_total = 4 * (p_mujeres * desv_est_mujeres**2 + p_hombres * desv_est_hombres**2 + p_otros * desv_est_otros**2)\n",
    "desv_est_total = np.sqrt(varianza_total)\n",
    "\n",
    "# Percentil 95 %95\n",
    "percentil = norm.ppf(0.95, loc=media_total, scale=desv_est_total)\n",
    "percentil"
   ]
  },
  {
   "cell_type": "markdown",
   "id": "56d81722-1cf3-41fb-a3ef-efcfc7b74aed",
   "metadata": {},
   "source": [
    "3.- Tienes diez dados justos. Si arrojas todos al mismo tiempo, ¿cuál es la probabilidad de que la suma de los dados sea múltiplo de 6?"
   ]
  },
  {
   "cell_type": "code",
   "execution_count": 12,
   "id": "7845656d-1050-42a0-8ead-a6de0ce32c1c",
   "metadata": {},
   "outputs": [
    {
     "data": {
      "text/plain": [
       "0.167105"
      ]
     },
     "execution_count": 12,
     "metadata": {},
     "output_type": "execute_result"
    }
   ],
   "source": [
    "import numpy as np\n",
    "\n",
    "n = 1000000\n",
    "dados = np.random.randint(1, 7, (n, 10))\n",
    "\n",
    "# Calcula la suma de los 10 dados para cada simulación\n",
    "sumas = np.sum(dados, axis=1)\n",
    "\n",
    "multiplo_de_6 = np.sum(sumas % 6 == 0)\n",
    "probabilidad = multiplo_de_6 / n_simulaciones\n",
    "probabilidad"
   ]
  },
  {
   "cell_type": "markdown",
   "id": "8bf809b9-13d8-4195-9deb-61b3f5925dd7",
   "metadata": {},
   "source": [
    "4.- A y B juegan al siguiente juego: un número k del 1 al 6 es elegido, y A y B avientan el dado por turnos hasta que alguien consiga que el dado caiga en k. El ganador recibe $100.\r\n",
    "\r\n",
    "a) ¿Cuál es la probabilidad de que el primer jugador gane?\r\n",
    "\r\n",
    "b) ¿Cuál es la probabilidad de que el segundo jugador gane?\r\n",
    "\r\n",
    "c) ¿Cuánto vale la pena pagar para ir primero?"
   ]
  },
  {
   "cell_type": "code",
   "execution_count": 37,
   "id": "ad5e8a27-a7c6-47ae-8489-255e5a15fa59",
   "metadata": {},
   "outputs": [
    {
     "data": {
      "text/plain": [
       "(0.544718, 0.455282)"
      ]
     },
     "execution_count": 37,
     "metadata": {},
     "output_type": "execute_result"
    }
   ],
   "source": [
    "import numpy as np\n",
    "\n",
    "# Definir el número de simulaciones\n",
    "n = 1000000\n",
    "\n",
    "# Probabilidad de que salga el número en un dado (1/6)\n",
    "probabilidad_dado = 1/6\n",
    "#iniciadores\n",
    "jugador1 = 0\n",
    "jugador2 = 0\n",
    "for i in range(n):\n",
    "    turno = 1  \n",
    "    while True:\n",
    "        if np.random.rand() < probabilidad_dado:  \n",
    "            if turno == 1:\n",
    "                jugador1 += 1\n",
    "            else:\n",
    "                jugador2 += 1\n",
    "            break\n",
    "        turno = 2 if turno == 1 else 1  \n",
    "\n",
    "prob_jugador1 = jugador1 / n\n",
    "prob_jugador2 = jugador2 / n\n",
    "prob_jugador1, prob_jugador2"
   ]
  },
  {
   "cell_type": "code",
   "execution_count": 39,
   "id": "dda0e594-9966-491d-9373-737f26c7c458",
   "metadata": {},
   "outputs": [
    {
     "data": {
      "text/plain": [
       "54.5118"
      ]
     },
     "execution_count": 39,
     "metadata": {},
     "output_type": "execute_result"
    }
   ],
   "source": [
    "prob_jugador1 = 0.545118\n",
    "premio = 100\n",
    "\n",
    "# Valor esperado de ir primero\n",
    "paga = prob_jugador1 * premio\n",
    "paga\n"
   ]
  },
  {
   "cell_type": "code",
   "execution_count": null,
   "id": "42dd5221-15b2-4d31-b622-601d88cd2306",
   "metadata": {},
   "outputs": [],
   "source": []
  },
  {
   "cell_type": "code",
   "execution_count": null,
   "id": "15e8dbb6-4e8e-49d6-b63b-961deec7fe19",
   "metadata": {},
   "outputs": [],
   "source": []
  }
 ],
 "metadata": {
  "kernelspec": {
   "display_name": "Python 3 (ipykernel)",
   "language": "python",
   "name": "python3"
  },
  "language_info": {
   "codemirror_mode": {
    "name": "ipython",
    "version": 3
   },
   "file_extension": ".py",
   "mimetype": "text/x-python",
   "name": "python",
   "nbconvert_exporter": "python",
   "pygments_lexer": "ipython3",
   "version": "3.12.4"
  }
 },
 "nbformat": 4,
 "nbformat_minor": 5
}
