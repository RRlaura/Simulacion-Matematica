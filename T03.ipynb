{
 "cells": [
  {
   "cell_type": "markdown",
   "id": "7b2d9d22-0bc2-4f70-b42f-b7b230e176ed",
   "metadata": {},
   "source": [
    "Laura Rodriguez 02-09-24"
   ]
  },
  {
   "cell_type": "markdown",
   "id": "661dc767-89c3-4246-bf6c-915d3c7d9911",
   "metadata": {},
   "source": [
    "### T03 Sympy"
   ]
  },
  {
   "cell_type": "markdown",
   "id": "8409ead2-01b8-4cc3-8fef-4b75405a5047",
   "metadata": {},
   "source": [
    "1. El perímetro de un triángulo isósceles es de 20 cm. Imagina que este triángulo rota centrado en su eje de simetría para formar la ilusión de un cono.\n",
    "\n",
    "¿Cuánto deben medir sus lados para que el volumen generado por la rotación sea el mayor posible?"
   ]
  },
  {
   "cell_type": "code",
   "execution_count": 1,
   "id": "997aa234-ff17-445a-ac25-601005653c90",
   "metadata": {},
   "outputs": [
    {
     "data": {
      "text/plain": [
       "(6, 8, 32*sqrt(5)*pi/3)"
      ]
     },
     "execution_count": 1,
     "metadata": {},
     "output_type": "execute_result"
    }
   ],
   "source": [
    "import sympy as sp\n",
    "sp.var(\"a\")\n",
    "sp.var(\"b\")\n",
    "\n",
    "#primero calculamos la altura del triangulo \n",
    "h = sp.sqrt(a**2 - (b/2)**2)\n",
    "#despues se calcula el volumen del cono\n",
    "V = sp.pi * (b/2)**2 * h / 3\n",
    "#restriccion geometrica de que la suma de los lados es 20 (perimetro)\n",
    "P = sp.Eq(2*a + b, 20)\n",
    "#resolver b en terminos de a\n",
    "bsol = sp.solve(P, b)[0]\n",
    "#sustitucion de b\n",
    "Va = V.subs(b, bsol)\n",
    "#derivada v respecto a A\n",
    "Vpri = sp.diff(Va, a)\n",
    "#para encontrar el maximo \n",
    "amax = sp.solve(Vpri, a)[0]\n",
    "#calcular b\n",
    "bmax = bsol.subs(a, amax)\n",
    "#para calcular el vlumen maximo \n",
    "Vmax = Va.subs(a, amax)\n",
    "\n",
    "#imprimir valores\n",
    "amax, bmax, Vmax"
   ]
  },
  {
   "cell_type": "markdown",
   "id": "e8eed0d6-d95a-4f95-9eae-6be8742f8434",
   "metadata": {},
   "source": [
    "2. Disponemos de una barra de aluminio de 6 metros para construir una portería de fútbol en un parque. Es una portería simple que tendrá sólo dos postes y el travesaño:\n",
    "\n",
    "Si queremos que el área de la portería sea máxima, ¿cuánto deben medir los postes y el travesaño?\n",
    "\n"
   ]
  },
  {
   "cell_type": "code",
   "execution_count": 6,
   "id": "5c8db170-cdf1-4c20-bb1f-8fe3eb858792",
   "metadata": {},
   "outputs": [
    {
     "data": {
      "text/plain": [
       "(3/2, 3, 9/2)"
      ]
     },
     "execution_count": 6,
     "metadata": {},
     "output_type": "execute_result"
    }
   ],
   "source": [
    "import sympy as sp\n",
    "sp.var(\"x\")\n",
    "sp.var(\"y\")\n",
    "# vamos a despejar la y en funcion de x para utilizar la restriccion \n",
    "y = 6 - 2*x\n",
    "#definimos el área de la portería\n",
    "A = x * y\n",
    "#derivamos con respecto a x\n",
    "dfa = sp.diff(A,x)\n",
    "#resolvemos para encontrar el valor de x\n",
    "xmax = sp.solve(dfa, x)[0]\n",
    "#calculamos y\n",
    "ymax = 6 - 2*xmax\n",
    "#area maxima\n",
    "A_max = A.subs(x, xmax)\n",
    "\n",
    "xmax, ymax, A_max"
   ]
  },
  {
   "cell_type": "markdown",
   "id": "45e97f07-bd55-4adc-8579-1afa872cb86e",
   "metadata": {},
   "source": [
    "3. **Resistencia de una viga**  Una viga de madera tiene una sección transversal rectangular de altura $h$ y ancho $w$. La resistencia $S$ de la viga es directamente proporcional al ancho y al cuadrado de su altura ($S=kwh^2$, donde $k$ es una constante de proporcionalidad). ¿Cuáles son las dimensiones de la viga más fuerte que puede cortarse a partir de un leño redondo de $24$ pulgadas de diámetro?"
   ]
  },
  {
   "cell_type": "code",
   "execution_count": 28,
   "id": "fbee5070-9ce6-4c1c-b9bd-812c12a4711a",
   "metadata": {},
   "outputs": [
    {
     "data": {
      "text/plain": [
       "(0, -24, 0)"
      ]
     },
     "execution_count": 28,
     "metadata": {},
     "output_type": "execute_result"
    }
   ],
   "source": [
    "import sympy as sp\n",
    "sp.var(\"w\")\n",
    "sp.var(\"h\")\n",
    "eqdiag = sp.Eq(w**2 + h**2, 24**2)\n",
    "#resistencia sin constante \n",
    "S = w * h**2\n",
    "#resolvemos en terminos de h\n",
    "ws = sp.solve(eqdiag, w)[0]\n",
    "#sustituimos \n",
    "Ssus = S.subs(w, ws)\n",
    "#derivamos respecto a s\n",
    "dfs = sp.diff(Ssus, h)\n",
    "#resolvemos para encontrar el maximo\n",
    "hmax = sp.solve(dfs, h)[0]\n",
    "wo = ws.subs(h, hmax)\n",
    "#resistencia maxima\n",
    "Smax = S.subs([(w, wo), (h, hmax)])\n",
    "\n",
    "hmax, wo, Smax"
   ]
  },
  {
   "cell_type": "markdown",
   "id": "00c17af1-b95d-4f19-9482-6b5e91821bb7",
   "metadata": {},
   "source": [
    "4. **Iluminación**  Una fuente luminosa se localiza sobre el centro de una mesa circular de $4 pies$ de diámetro. Encontrar la altura $h$ de la fuente luminosa de modo tal que la iluminación $I$ en el perímetro de la mesa sea máxima si $I=k(\\sin \\alpha)/s^2$, donde $s$ es la altura oblicua, $\\alpha$ es el ángulo al cual la luz incide sobre la mesa y $k$ es una constante (El valor de esta última constante es irrelevante para el problema, ya que no se pide el valor de la iluminación)."
   ]
  },
  {
   "cell_type": "code",
   "execution_count": 20,
   "id": "9a78bd0c-5cbd-4065-bdc1-86abae23bc5f",
   "metadata": {},
   "outputs": [
    {
     "data": {
      "text/plain": [
       "[0]"
      ]
     },
     "execution_count": 20,
     "metadata": {},
     "output_type": "execute_result"
    }
   ],
   "source": [
    "import sympy as sp\n",
    "sp.var(\"h\")\n",
    "#constantes #radio de la mesa\n",
    "r = 2\n",
    "s = sp.sqrt(h**2 + r**2)\n",
    "I = r / s**3\n",
    "#derivar con respecto a h\n",
    "dfi = sp.diff(I, h)\n",
    "#encontrar el valor maximo\n",
    "hmax = sp.solve(dfi, h)\n",
    "hmax\n",
    "\n",
    "#tengo duda "
   ]
  },
  {
   "cell_type": "markdown",
   "id": "c0519901-9704-48de-9f49-ad9a57bdbb75",
   "metadata": {},
   "source": [
    "5. **Fuerza mínima**  Se diseña un componente para deslizar un bloque de acero con peso $W=10 N$ a través de una mesa y sobre una canaleta. Se opone al movimiento del bloque una fuerza de fricción proporcional a su peso aparente (sea $k=0.1$ la constante de proporcionalidad). Determinar la fuerza mínima $f$ necesaria para deslizar el bloque y encontrar el valor correspondiente de $\\theta$.\n",
    "\n",
    "Ayudín: $f\\cos \\theta$ es la fuerza de dirección del movimiento, y $f\\sin\\theta$ es la fuerza que tiende a levantar el bloque. De tal modo, el peso aparente del bloque es $W-f\\sin\\theta$."
   ]
  },
  {
   "cell_type": "code",
   "execution_count": 5,
   "id": "fa65cc01-4c56-44b2-9676-e9215a9efd6b",
   "metadata": {},
   "outputs": [
    {
     "data": {
      "text/plain": [
       "([0.0996686524911620], 0.995037190209989)"
      ]
     },
     "execution_count": 5,
     "metadata": {},
     "output_type": "execute_result"
    }
   ],
   "source": [
    "import sympy as sp\n",
    "sp.var(\"f\")\n",
    "sp.var(\"theta\")\n",
    "\n",
    "#constantes o datos\n",
    "W = 10\n",
    "k = 0.1\n",
    "#ecuacion\n",
    "fri = k *(W - f * sp.sin(theta))\n",
    "# ecuacion de equilibrio de fuerzas\n",
    "eq_equi = sp.Eq(f * sp.cos(theta), fri)\n",
    "#resolvemos para f\n",
    "f_sol = sp.solve(eq_equi, f)[0]\n",
    "#se deriva con respecto a theta \n",
    "dff = sp.diff(f_sol, theta)\n",
    "#econtrar el minimo\n",
    "thetami = sp.solve(dff, theta)\n",
    "f_min = f_sol.subs(theta, thetami[0])\n",
    "\n",
    "thetami, f_min\n"
   ]
  },
  {
   "cell_type": "code",
   "execution_count": null,
   "id": "93e2de1c-3fa1-4e3b-8c62-f8cb910a5794",
   "metadata": {},
   "outputs": [],
   "source": []
  }
 ],
 "metadata": {
  "kernelspec": {
   "display_name": "Python 3 (ipykernel)",
   "language": "python",
   "name": "python3"
  },
  "language_info": {
   "codemirror_mode": {
    "name": "ipython",
    "version": 3
   },
   "file_extension": ".py",
   "mimetype": "text/x-python",
   "name": "python",
   "nbconvert_exporter": "python",
   "pygments_lexer": "ipython3",
   "version": "3.12.4"
  }
 },
 "nbformat": 4,
 "nbformat_minor": 5
}
