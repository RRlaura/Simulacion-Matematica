{
 "cells": [
  {
   "cell_type": "markdown",
   "id": "ae9d88a0-f46b-4161-ab20-467fd742dcde",
   "metadata": {},
   "source": [
    "# Repaso de Python - Dia 2\n",
    "\n",
    "##### 19 de agosto"
   ]
  },
  {
   "cell_type": "markdown",
   "id": "f03edfc9-1774-4bac-a098-94fb609affff",
   "metadata": {},
   "source": [
    "### Tipos de objetos"
   ]
  },
  {
   "cell_type": "code",
   "execution_count": 9,
   "id": "56e32174-c06e-4d45-80a4-47ef12cf8694",
   "metadata": {},
   "outputs": [],
   "source": [
    "no_intentos = 5\n",
    "tasa_de_exito = 0.67\n",
    "apellido = \"Morales\""
   ]
  },
  {
   "cell_type": "code",
   "execution_count": 11,
   "id": "4641214e-99f9-40bc-882b-f8dd183e7884",
   "metadata": {},
   "outputs": [
    {
     "data": {
      "text/plain": [
       "int"
      ]
     },
     "execution_count": 11,
     "metadata": {},
     "output_type": "execute_result"
    }
   ],
   "source": [
    "type(no_intentos)"
   ]
  },
  {
   "cell_type": "code",
   "execution_count": 13,
   "id": "604abb8d-9bec-4c9c-a9cb-1810ae4b993b",
   "metadata": {},
   "outputs": [
    {
     "data": {
      "text/plain": [
       "float"
      ]
     },
     "execution_count": 13,
     "metadata": {},
     "output_type": "execute_result"
    }
   ],
   "source": [
    "type(tasa_de_exito)"
   ]
  },
  {
   "cell_type": "code",
   "execution_count": 15,
   "id": "a5ef580f-8cac-4ce1-b046-c30c69ed4cbf",
   "metadata": {},
   "outputs": [
    {
     "data": {
      "text/plain": [
       "str"
      ]
     },
     "execution_count": 15,
     "metadata": {},
     "output_type": "execute_result"
    }
   ],
   "source": [
    "type(apellido)"
   ]
  },
  {
   "cell_type": "markdown",
   "id": "a44ffccc-6053-45ec-8539-628f468b72a8",
   "metadata": {},
   "source": [
    "# Listas "
   ]
  },
  {
   "cell_type": "code",
   "execution_count": 65,
   "id": "e6b3c39d-e36f-41e0-9083-67f24b526907",
   "metadata": {},
   "outputs": [
    {
     "data": {
      "text/plain": [
       "['Fraire', 'Parra', 'Rivas', 'Alcaraz', 'Minakata', 'Galvan']"
      ]
     },
     "execution_count": 65,
     "metadata": {},
     "output_type": "execute_result"
    }
   ],
   "source": [
    "alumnos = [\"Fraire\", \"Parra\", \"Rivas\", \"Alcaraz\", \"Minakata\", \"Galvan\"]\n",
    "type(alumnos)\n",
    "alumnos"
   ]
  },
  {
   "cell_type": "code",
   "execution_count": 67,
   "id": "0ca2d4ed-7ad5-4312-8ff3-7b4ac481fdb5",
   "metadata": {},
   "outputs": [
    {
     "data": {
      "text/plain": [
       "['Fraire', 'Parra', 'Rivas', 'Alcaraz', 'Minakata', 'Galvan', 'Jauregui']"
      ]
     },
     "execution_count": 67,
     "metadata": {},
     "output_type": "execute_result"
    }
   ],
   "source": [
    "alumnos.append(\"Jauregui\")  #Es para agregar al final, apendice\n",
    "alumnos"
   ]
  },
  {
   "cell_type": "code",
   "execution_count": 69,
   "id": "7f17d57f-3e23-4e3c-a388-f4ee41dbb9df",
   "metadata": {},
   "outputs": [
    {
     "data": {
      "text/plain": [
       "'Fraire'"
      ]
     },
     "execution_count": 69,
     "metadata": {},
     "output_type": "execute_result"
    }
   ],
   "source": [
    "alumnos[0]"
   ]
  },
  {
   "cell_type": "code",
   "execution_count": 71,
   "id": "4bb8184e-4c90-4d37-830e-52c3f174ef21",
   "metadata": {},
   "outputs": [
    {
     "data": {
      "text/plain": [
       "'Minakata'"
      ]
     },
     "execution_count": 71,
     "metadata": {},
     "output_type": "execute_result"
    }
   ],
   "source": [
    "alumnos[4]"
   ]
  },
  {
   "cell_type": "code",
   "execution_count": 73,
   "id": "6a7b6a7b-f937-40b6-a175-5ceed3912018",
   "metadata": {},
   "outputs": [
    {
     "data": {
      "text/plain": [
       "'Jauregui'"
      ]
     },
     "execution_count": 73,
     "metadata": {},
     "output_type": "execute_result"
    }
   ],
   "source": [
    "alumnos[-1]"
   ]
  },
  {
   "cell_type": "code",
   "execution_count": 75,
   "id": "0957ef76-9c13-41d2-af73-043d21256eb9",
   "metadata": {},
   "outputs": [
    {
     "data": {
      "text/plain": [
       "1"
      ]
     },
     "execution_count": 75,
     "metadata": {},
     "output_type": "execute_result"
    }
   ],
   "source": [
    "alumnos.count(\"Parra\")"
   ]
  },
  {
   "cell_type": "code",
   "execution_count": 77,
   "id": "cef68d3e-6562-4590-997c-440f47899ccd",
   "metadata": {},
   "outputs": [
    {
     "data": {
      "text/plain": [
       "'Jauregui'"
      ]
     },
     "execution_count": 77,
     "metadata": {},
     "output_type": "execute_result"
    }
   ],
   "source": [
    "alumnos.pop()"
   ]
  },
  {
   "cell_type": "code",
   "execution_count": 79,
   "id": "f1b665c1-1836-4dd1-b1c8-ce1edcc522b9",
   "metadata": {},
   "outputs": [
    {
     "data": {
      "text/plain": [
       "['Fraire', 'Parra', 'Rivas', 'Alcaraz', 'Minakata', 'Galvan']"
      ]
     },
     "execution_count": 79,
     "metadata": {},
     "output_type": "execute_result"
    }
   ],
   "source": [
    "alumnos"
   ]
  },
  {
   "cell_type": "code",
   "execution_count": 81,
   "id": "093f9cdb-bd4c-4d06-a4b1-860d868bf72f",
   "metadata": {},
   "outputs": [
    {
     "data": {
      "text/plain": [
       "['Morales', True, 3.141592, 8]"
      ]
     },
     "execution_count": 81,
     "metadata": {},
     "output_type": "execute_result"
    }
   ],
   "source": [
    "lista1 = [\"Morales\", True, 3.141592, 8]\n",
    "lista1"
   ]
  },
  {
   "cell_type": "code",
   "execution_count": 83,
   "id": "13530be9-79c3-4473-9bd3-cc6df80cad44",
   "metadata": {},
   "outputs": [
    {
     "data": {
      "text/plain": [
       "['abc', ['Morales', True, 3.141592, 8]]"
      ]
     },
     "execution_count": 83,
     "metadata": {},
     "output_type": "execute_result"
    }
   ],
   "source": [
    "lista2 = [\"abc\", lista1]\n",
    "lista2"
   ]
  },
  {
   "cell_type": "code",
   "execution_count": 87,
   "id": "56f464a5-1592-48f1-8912-0ffd93f1617c",
   "metadata": {},
   "outputs": [],
   "source": [
    "lista = [88, 24, 42, 8, 12, 7, 777]"
   ]
  },
  {
   "cell_type": "code",
   "execution_count": 89,
   "id": "127c01d7-9850-4323-aaad-5eac9adb0111",
   "metadata": {},
   "outputs": [
    {
     "data": {
      "text/plain": [
       "88"
      ]
     },
     "execution_count": 89,
     "metadata": {},
     "output_type": "execute_result"
    }
   ],
   "source": [
    "lista[0]"
   ]
  },
  {
   "cell_type": "code",
   "execution_count": 91,
   "id": "9e6d12ae-3e1d-4fe2-9a2c-004f0ebae4fd",
   "metadata": {},
   "outputs": [
    {
     "data": {
      "text/plain": [
       "24"
      ]
     },
     "execution_count": 91,
     "metadata": {},
     "output_type": "execute_result"
    }
   ],
   "source": [
    "lista[1]"
   ]
  },
  {
   "cell_type": "code",
   "execution_count": 93,
   "id": "0f20b75a-c1fb-47d5-a302-64ea038bcaaf",
   "metadata": {},
   "outputs": [
    {
     "name": "stdout",
     "output_type": "stream",
     "text": [
      "88\n",
      "24\n",
      "42\n",
      "8\n",
      "12\n",
      "7\n",
      "777\n"
     ]
    }
   ],
   "source": [
    "i = 0 #el while se usa cuando se quiere repetir algo indefinidamente hasta que se diga la contrario\n",
    "while i < len(lista) : #len es para decirnos la longitud\n",
    "    print(lista[i])\n",
    "    i += 1\n",
    "    "
   ]
  },
  {
   "cell_type": "code",
   "execution_count": 95,
   "id": "fb143115-5891-4ea7-bcd7-3229d2d42db8",
   "metadata": {},
   "outputs": [
    {
     "data": {
      "text/plain": [
       "7"
      ]
     },
     "execution_count": 95,
     "metadata": {},
     "output_type": "execute_result"
    }
   ],
   "source": [
    "len(lista)"
   ]
  },
  {
   "cell_type": "code",
   "execution_count": 101,
   "id": "c2177cd4-7ca7-4e5a-89bf-6660083941b3",
   "metadata": {},
   "outputs": [],
   "source": [
    "# for _ in lista: \n",
    "# se nombra la variable y va ejecutando los valores de la lista"
   ]
  },
  {
   "cell_type": "code",
   "execution_count": 97,
   "id": "1f697b7e-dd7e-4634-86fb-ea51bfb8134c",
   "metadata": {},
   "outputs": [
    {
     "name": "stdout",
     "output_type": "stream",
     "text": [
      "88\n",
      "24\n",
      "42\n",
      "8\n",
      "12\n",
      "7\n",
      "777\n"
     ]
    }
   ],
   "source": [
    "for elemento in lista :\n",
    "    print(elemento)"
   ]
  },
  {
   "cell_type": "markdown",
   "id": "36623d8c-cb17-4a6d-af75-861d1c578b7b",
   "metadata": {},
   "source": [
    "# Diccionarios "
   ]
  },
  {
   "cell_type": "code",
   "execution_count": null,
   "id": "695ad9fd-0ab3-43d7-8d6c-ab4f7026a1b7",
   "metadata": {},
   "outputs": [],
   "source": []
  },
  {
   "cell_type": "code",
   "execution_count": null,
   "id": "d178d0c3-016b-4642-a2c1-b39a9c31e144",
   "metadata": {},
   "outputs": [],
   "source": []
  },
  {
   "cell_type": "markdown",
   "id": "d757724c-c95c-43e6-91bd-a8cd7e886ab3",
   "metadata": {},
   "source": [
    "# Funciones "
   ]
  },
  {
   "cell_type": "code",
   "execution_count": 113,
   "id": "dc0ff9fd-9d60-4479-96d6-9db5babf8560",
   "metadata": {},
   "outputs": [],
   "source": [
    "def funcion1() :\n",
    "    print(\"Hola\")"
   ]
  },
  {
   "cell_type": "code",
   "execution_count": 115,
   "id": "98b4ad12-de98-48cc-8a59-e7dc100e68e5",
   "metadata": {},
   "outputs": [
    {
     "name": "stdout",
     "output_type": "stream",
     "text": [
      "Hola\n"
     ]
    }
   ],
   "source": [
    "funcion1()"
   ]
  },
  {
   "cell_type": "code",
   "execution_count": 171,
   "id": "24e63f82-c00e-4440-a0e9-94e33accb79b",
   "metadata": {},
   "outputs": [],
   "source": [
    "def suma(a, b) :\n",
    "    resultado = a + b\n",
    "    return resultado"
   ]
  },
  {
   "cell_type": "code",
   "execution_count": 123,
   "id": "6963d217-1d71-445c-9902-d8e264d74462",
   "metadata": {},
   "outputs": [
    {
     "data": {
      "text/plain": [
       "8"
      ]
     },
     "execution_count": 123,
     "metadata": {},
     "output_type": "execute_result"
    }
   ],
   "source": [
    "suma(5, 3)"
   ]
  },
  {
   "cell_type": "code",
   "execution_count": 133,
   "id": "a5fbc8d8-db91-4ed5-a29f-8f79c1f6f6f3",
   "metadata": {},
   "outputs": [],
   "source": [
    "def multiplicacion(a, b) :\n",
    "    resultado = a*b\n",
    "    return resultado"
   ]
  },
  {
   "cell_type": "code",
   "execution_count": null,
   "id": "499bc493-88e6-47eb-8a07-9e25df8f9d31",
   "metadata": {},
   "outputs": [],
   "source": [
    "multiplicacion"
   ]
  },
  {
   "cell_type": "code",
   "execution_count": 131,
   "id": "d3e79c95-28ec-4be1-bd28-6af2ad151833",
   "metadata": {},
   "outputs": [
    {
     "data": {
      "text/plain": [
       "120"
      ]
     },
     "execution_count": 131,
     "metadata": {},
     "output_type": "execute_result"
    }
   ],
   "source": [
    "def factorial(a) :\n",
    "    i = 1\n",
    "    acc = 1\n",
    "    while i <= a :\n",
    "        acc = acc*i\n",
    "        i += 1\n",
    "    return acc\n",
    "factorial(5)"
   ]
  },
  {
   "cell_type": "code",
   "execution_count": 135,
   "id": "c0bd446a-1125-45ef-9708-914cbc25a9eb",
   "metadata": {},
   "outputs": [
    {
     "data": {
      "text/plain": [
       "list"
      ]
     },
     "execution_count": 135,
     "metadata": {},
     "output_type": "execute_result"
    }
   ],
   "source": [
    "lista = [2, 4, 7, 10, 8]\n",
    "type(lista)"
   ]
  },
  {
   "cell_type": "code",
   "execution_count": 137,
   "id": "1305612c-dbec-4ef6-bf87-d0487e63a2aa",
   "metadata": {},
   "outputs": [
    {
     "name": "stdout",
     "output_type": "stream",
     "text": [
      "2\n"
     ]
    }
   ],
   "source": [
    "print(factorial(lista[0]))"
   ]
  },
  {
   "cell_type": "code",
   "execution_count": 139,
   "id": "77e2ca2e-2189-41fd-bcf3-0ce5f5761226",
   "metadata": {},
   "outputs": [
    {
     "name": "stdout",
     "output_type": "stream",
     "text": [
      "2\n",
      "24\n",
      "5040\n",
      "3628800\n",
      "40320\n"
     ]
    }
   ],
   "source": [
    "for elemento in lista :\n",
    "    print(factorial(elemento))"
   ]
  },
  {
   "cell_type": "code",
   "execution_count": 151,
   "id": "26ed30fc-8b33-4002-9e13-d1b24799f6c2",
   "metadata": {},
   "outputs": [
    {
     "name": "stdout",
     "output_type": "stream",
     "text": [
      "4\n",
      "3\n",
      "5\n"
     ]
    }
   ],
   "source": [
    "def funcion(a, b, c= 5) :  #Aqui toma el valor que definimos de c por defecto y si no hay un tercero y no lo definimos, no corre\n",
    "    print(a)\n",
    "    print(b)\n",
    "    print(c)\n",
    "funcion(4, 3)"
   ]
  },
  {
   "cell_type": "code",
   "execution_count": 153,
   "id": "482e3398-4090-4384-968c-b6f37a6907bd",
   "metadata": {},
   "outputs": [
    {
     "name": "stdout",
     "output_type": "stream",
     "text": [
      "4\n",
      "3\n",
      "100\n"
     ]
    }
   ],
   "source": [
    "def funcion(a, b, c= 5) : #aqui agarra los de abajo primero\n",
    "    print(a)\n",
    "    print(b)\n",
    "    print(c)\n",
    "funcion(4, 3, 100)"
   ]
  },
  {
   "cell_type": "code",
   "execution_count": 155,
   "id": "33584851-512b-4887-871b-0b281c975940",
   "metadata": {},
   "outputs": [
    {
     "name": "stdout",
     "output_type": "stream",
     "text": [
      "12\n"
     ]
    }
   ],
   "source": [
    "def funcion(a, b, c= 5) :\n",
    "    print(a+ b + c)\n",
    "\n",
    "funcion(4, 3)"
   ]
  },
  {
   "cell_type": "markdown",
   "id": "6a3b88cf-f49d-4c83-a04e-d7d07cbbfac2",
   "metadata": {},
   "source": [
    "# Actividad"
   ]
  },
  {
   "cell_type": "markdown",
   "id": "dc2545c4-8884-4fe1-a93d-2e57a8b84c05",
   "metadata": {},
   "source": [
    "1. Pasar a funcion el codigo de encontrar un numero primo\n",
    "$$ esprimo (a) $$"
   ]
  },
  {
   "cell_type": "code",
   "execution_count": 163,
   "id": "577e85e0-7980-4397-8d9d-5ee6879f92f1",
   "metadata": {},
   "outputs": [],
   "source": [
    "def esprimo(a) :\n",
    "    if a <= 1:\n",
    "    return false\n",
    "elif  a == 2;\n",
    "    return true \n",
    "else \n",
    "    for i "
   ]
  },
  {
   "cell_type": "markdown",
   "id": "fe95366b-5fa8-4af1-adfc-dea130a00240",
   "metadata": {},
   "source": [
    "2. Crear una funcion que ingrese un numero $a$ y que encuentre el numero primo mas cercano\n",
    "   $$ 0 <= a <= 100 $$\n",
    "\n",
    "poner diagrama"
   ]
  },
  {
   "cell_type": "code",
   "execution_count": null,
   "id": "5b1dbbd5-eb47-4ba1-a954-715db3c73f0c",
   "metadata": {},
   "outputs": [],
   "source": []
  },
  {
   "cell_type": "markdown",
   "id": "50def5bf-caa9-4c20-9386-cc0fe5eb6682",
   "metadata": {},
   "source": [
    "3. Pasar a funcion el codigo de encontrar factorial y encontrar factorial de los siguientes numeros:\n",
    "   * 4\n",
    "   * 7\n",
    "   * 5\n",
    "   * 8\n",
    "   * 9\n",
    "   * 3\n",
    "##### No encontrar factoriales de uno en uno"
   ]
  },
  {
   "cell_type": "code",
   "execution_count": 187,
   "id": "9ee7fafc-12a5-4fea-abe4-19f88b87399d",
   "metadata": {},
   "outputs": [],
   "source": [
    "lista = [4, 7, 5, 8, 9, 3]"
   ]
  },
  {
   "cell_type": "code",
   "execution_count": 189,
   "id": "efab94fb-811b-4a75-b2a3-3df4cb0438f2",
   "metadata": {},
   "outputs": [
    {
     "name": "stdout",
     "output_type": "stream",
     "text": [
      "24\n",
      "5040\n",
      "120\n",
      "40320\n",
      "362880\n",
      "6\n"
     ]
    }
   ],
   "source": [
    "for elemento in lista :\n",
    "    print(factorial(elemento))"
   ]
  },
  {
   "cell_type": "markdown",
   "id": "4ae4bf60-5dc0-426a-893d-980330932ac2",
   "metadata": {},
   "source": [
    "4. Crear una lista con los primeros 100 multiplos de 3"
   ]
  },
  {
   "cell_type": "code",
   "execution_count": null,
   "id": "56780b0f-829e-4e6c-b043-fff0f51ff7b1",
   "metadata": {},
   "outputs": [],
   "source": []
  },
  {
   "cell_type": "markdown",
   "id": "b6b62423-5f9e-47ff-b1ae-a5c05b861ec9",
   "metadata": {},
   "source": [
    "# Librerias"
   ]
  },
  {
   "cell_type": "code",
   "execution_count": null,
   "id": "c2b0bc4e-71ae-4ced-8447-8a4d966701b8",
   "metadata": {},
   "outputs": [],
   "source": []
  }
 ],
 "metadata": {
  "kernelspec": {
   "display_name": "Python 3 (ipykernel)",
   "language": "python",
   "name": "python3"
  },
  "language_info": {
   "codemirror_mode": {
    "name": "ipython",
    "version": 3
   },
   "file_extension": ".py",
   "mimetype": "text/x-python",
   "name": "python",
   "nbconvert_exporter": "python",
   "pygments_lexer": "ipython3",
   "version": "3.12.4"
  }
 },
 "nbformat": 4,
 "nbformat_minor": 5
}
