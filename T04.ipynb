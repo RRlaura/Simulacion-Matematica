{
 "cells": [
  {
   "cell_type": "markdown",
   "id": "221d4fce-62e9-48b4-9e4d-acd23d1a93d8",
   "metadata": {},
   "source": [
    "Laura Rodriguez 11-09-24"
   ]
  },
  {
   "cell_type": "markdown",
   "id": "9253a079-43e8-4fc0-bca3-18201c3624bc",
   "metadata": {},
   "source": [
    "Una multinacional farmacéutica desea fabricar un compuesto nutritivo a base de dos productos A y B.  El producto A contiene  $30\\%$ de proteínas,  un $1\\%$ de grasas y un  $10\\%$ de azúcares.  El producto B  contiene  un  $5\\%$  de proteínas,  un  $7\\%$ de grasas  y un  $10\\%$  de  azúcares.\n",
    "\n",
    "El compuesto debe de tener,  al menos, $25g$ de proteínas,  $6g$ de grasas y $30g$ de azúcares.  El coste del producto A es de $0.6$ u.m./g  y el de B es de $0.2$  u.m./g\n",
    "\n",
    "Se desea encontrar la cantidad en gramos de cada producto para que el coste total sea mínimo.\n",
    "\n",
    "Formular el problema de decidir cuánto hacer de cada producto como un problema de programación lineal."
   ]
  },
  {
   "cell_type": "markdown",
   "id": "452b45bb-78b6-4dbf-bf7b-d7046335babf",
   "metadata": {},
   "source": [
    "1. Identificar el criterio\n",
    "   \n",
    "Encontrar la cantidad en gramos de productos en A y B para que sea el menor costo\n",
    "\n",
    "3. Variables de control\n",
    "\n",
    "* Cantidad de producto A x1\n",
    "* Cantidad de producto B x2\n",
    "\n",
    "3. funcion de costo\n",
    "f(x1,x2) = 0.6x1 + 0.2x2\n",
    "\n",
    "4. Restricciones\n",
    "   \n",
    "Proteínas\n",
    "\n",
    "$ 0.30x1 + 0.05x2 \\geq 25 $\n",
    "\n",
    "Grasas\n",
    "\n",
    "$ 0.01x1 + 0.07x2 \\geq 6 $\n",
    "\n",
    "Azúcares\n",
    "\n",
    "$ 0.10x1 + 0.30x2 \\geq 30 $\n",
    "\n",
    "$$ \\min_{x1,x2} 0.6x1 + 0.2x2 $$\n",
    "$$ \\text {s.t.} $$\n",
    "$$ 0.30x1 + 0.05x2 \\geq 25 $$\n",
    "$$ 0.01x1 + 0.07x2 \\geq 6 $$\n",
    "$$ 0.10x1 + 0.10x2 \\geq 30 $$\n",
    "\n",
    "   "
   ]
  },
  {
   "cell_type": "code",
   "execution_count": 8,
   "id": "05cdb0af-d36f-4d37-adaf-9be3bda5265f",
   "metadata": {},
   "outputs": [
    {
     "data": {
      "text/plain": [
       "76.00000000000001"
      ]
     },
     "execution_count": 8,
     "metadata": {},
     "output_type": "execute_result"
    }
   ],
   "source": [
    "import numpy as np\n",
    "import scipy.optimize as opt\n",
    "\n",
    "c = np.array([0.6, 0.2])\n",
    "\n",
    "Aub = np.array([\n",
    "    [-0.30, -0.05], \n",
    "    [-0.01, -0.07],  \n",
    "    [-0.10, -0.10]\n",
    "   \n",
    "])\n",
    "\n",
    "bub = np.array([-25, -6, -30])\n",
    "\n",
    "sol = opt.linprog(c, Aub, bub,integrality=1)\n",
    "sol.fun #costo total mínimo "
   ]
  },
  {
   "cell_type": "code",
   "execution_count": 10,
   "id": "ca04a975-773b-48b0-b490-a531bdf346ef",
   "metadata": {},
   "outputs": [
    {
     "data": {
      "text/plain": [
       "array([ 40., 260.])"
      ]
     },
     "execution_count": 10,
     "metadata": {},
     "output_type": "execute_result"
    }
   ],
   "source": [
    "sol.x"
   ]
  },
  {
   "cell_type": "markdown",
   "id": "ba6b1ef5-3ae2-4768-9505-ebdfc579dfb8",
   "metadata": {},
   "source": [
    "\n",
    "Una  fábrica  de  carrocerías  de  automóviles  y camiones  tiene  dos naves. \n",
    "\n",
    "+ En  la nave A,  para  hacer  la  carrocería  de  un  camión,  se  invierten  siete  días-operario,  para  fabricar  la  de  un  coche  se  precisan dos días-operario.\n",
    "\n",
    "+ En la nave B se invierten tres días operario tanto en carrocerías de camión como de coche. \n",
    "\n",
    "Por limitaciones de mano de obra y maquinaria, la nave A dispone de $300$ días operario, y la nave B de $270$ días-operario.\n",
    "\n",
    "Si los beneficios que se obtienen por cada camión son de $600$ u.m y por  cada  automóvil  $200$ u.m,  ¿cuántas  unidades  de  cada  uno  se deben  producir  para maximizar las  ganancias? \n",
    "\n",
    "**Nota:** el problema $\\max_{\\boldsymbol{x}}\\boldsymbol{g}(\\boldsymbol{x})$ es equivalente a $\\min_{\\boldsymbol{x}}-\\boldsymbol{g}(\\boldsymbol{x})$."
   ]
  },
  {
   "cell_type": "markdown",
   "id": "2264540c-125b-4b99-8949-0fd453276df5",
   "metadata": {},
   "source": [
    "1. Encontrar el criterio\n",
    "\n",
    "Se busca determinar cuántas unidades de cada tipo de vehículo deben producirse para maximizar las ganancias, dadas las restricciones de tiempo disponible en las naves\n",
    "\n",
    "2. Variables de control\n",
    "\n",
    "* Camiones en nave A x1\n",
    "* Autos en nave A x2\n",
    "* Camiones en nave B y1\n",
    "* Autos en nave B y2\n",
    "\n",
    "3. función de costo\n",
    "\n",
    "f(x1,x2,y1,y2) = 200x1 + 600x2 + 200y1 + 600y2\n",
    "\n",
    "4. Restricciones\n",
    "\n",
    "Nave A = 300 dias\n",
    "Nave B = 270 \n",
    "\n",
    "Nave A\n",
    "\n",
    "$ 2x1 + 7y1 \\leq 300 $\n",
    "\n",
    "Nave B\n",
    "\n",
    "$ 3x2 + 3y2 \\leq 270$\n",
    "\n",
    "$$ \\min_{x1,x2,y1,y2} -200x1 - 600x2 - 200y1 - 600y2$$\n",
    "$$ \\text {s.t.} $$\n",
    "$$ 2x1 + 7y1 \\leq 300 $$\n",
    "$$ 3x2 + 3y2 \\leq 270 $$\n",
    "\n",
    "   "
   ]
  },
  {
   "cell_type": "code",
   "execution_count": 22,
   "id": "d8967497-0b4f-405b-8aba-4ea5717ac4db",
   "metadata": {},
   "outputs": [
    {
     "data": {
      "text/plain": [
       "-84000.0"
      ]
     },
     "execution_count": 22,
     "metadata": {},
     "output_type": "execute_result"
    }
   ],
   "source": [
    "import numpy as np\n",
    "import scipy.optimize as opt\n",
    "\n",
    "c = np.array([-200, -600, -200, -600])\n",
    "\n",
    "Aub = np.array([\n",
    "    [2, 0, 7, 0], \n",
    "    [0, 3, 0, 3]  \n",
    "])\n",
    "\n",
    "bub = np.array([300, 270])\n",
    "\n",
    "sol = opt.linprog(c, Aub, bub,integrality=1)\n",
    "sol.fun #costo total mínimo "
   ]
  },
  {
   "cell_type": "code",
   "execution_count": 24,
   "id": "c010869b-c1bf-4c46-a5b0-7faaf084e106",
   "metadata": {},
   "outputs": [
    {
     "data": {
      "text/plain": [
       "array([150.,  90.,   0.,   0.])"
      ]
     },
     "execution_count": 24,
     "metadata": {},
     "output_type": "execute_result"
    }
   ],
   "source": [
    "sol.x"
   ]
  },
  {
   "cell_type": "markdown",
   "id": "9f6a8735-1639-41f1-aef1-3d84e5c23b20",
   "metadata": {},
   "source": [
    "**Actividad.** Mónica hace aretes y cadenitas de joyería. Es tan buena, que todo lo que hace lo vende.\n",
    "\n",
    "Le toma 30 minutos hacer un par de aretes y una hora hacer una cadenita, y como Mónica también es estudihambre, solo dispone de 10 horas a la semana para hacer las joyas. Por otra parte, el material que compra solo le alcanza para hacer 15 unidades (el par de aretes cuenta como unidad) de joyas por semana.\n",
    "\n",
    "La utilidad que le deja la venta de las joyas es $\\$15$ en cada par de aretes y $\\$20$ en cada cadenita.\n",
    "\n",
    "¿Cuántos pares de aretes y cuántas cadenitas debería hacer Mónica para maximizar su utilidad?\n",
    "\n"
   ]
  },
  {
   "cell_type": "markdown",
   "id": "e8a69464-d59a-427f-bb30-a1c4c952a4df",
   "metadata": {},
   "source": [
    "1. Identificar criterio\n",
    "\n",
    "Maximizar la utilidad que Mónica puede obtener al producir aretes y cadenitas, dadas las limitaciones de tiempo y material.\n",
    "\n",
    "2. Variables de control\n",
    "* Cantidad de pares de aretes x1\n",
    "* Cantidad de cadenitas x2\n",
    "\n",
    "3. Funcion de costo\n",
    "f(x1,x2) = 15x1 + 20x2\n",
    "\n",
    "4. Restricciones\n",
    "   \n",
    "Tiempo que dispone\n",
    "\n",
    "$ 30x1 + 60x2 \\leq 600 $  #tiempo en minutos, 10 horas = 600 minutos\n",
    "\n",
    "Material que dispone \n",
    "\n",
    "$ x1 + x2 \\leq 15 $\n",
    "\n",
    "$$ \\min_{x1,x2} 15x1 + 20x2 $$\n",
    "$$ \\text {s.t.} $$\n",
    "$$ 30x1 + 60x2 \\leq 600 $$\n",
    "$$ x1 + x2 \\leq 15 $$\n",
    "\n",
    "\n"
   ]
  },
  {
   "cell_type": "code",
   "execution_count": 32,
   "id": "3d692417-09d0-4a16-9a6b-e2504c74bf51",
   "metadata": {},
   "outputs": [
    {
     "data": {
      "text/plain": [
       "-250.0"
      ]
     },
     "execution_count": 32,
     "metadata": {},
     "output_type": "execute_result"
    }
   ],
   "source": [
    "import numpy as np\n",
    "import scipy.optimize as opt\n",
    "\n",
    "c = np.array([-15, -20])\n",
    "\n",
    "Aub = np.array([\n",
    "    [30, 60], \n",
    "    [1, 1]  \n",
    "])\n",
    "\n",
    "bub = np.array([600, 15])\n",
    "\n",
    "sol = opt.linprog(c, Aub, bub,integrality=1)\n",
    "sol.fun #costo total mínimo "
   ]
  },
  {
   "cell_type": "code",
   "execution_count": 34,
   "id": "ab0235bc-3271-465d-a6ac-b566799e688a",
   "metadata": {},
   "outputs": [
    {
     "data": {
      "text/plain": [
       "array([10.,  5.])"
      ]
     },
     "execution_count": 34,
     "metadata": {},
     "output_type": "execute_result"
    }
   ],
   "source": [
    "sol.x"
   ]
  },
  {
   "cell_type": "markdown",
   "id": "fd52e0e0-b254-47a1-bbda-ce4f0fb2b5c4",
   "metadata": {},
   "source": [
    "## 4. Problema de transporte 1\n",
    "- **Referencia**: http://bdigital.unal.edu.co/5037/4/guillermojimenezlozano.2006_Parte1.pdf\n",
    "\n",
    "Una  empresa tiene dos fábricas A y B.  En ellas  se fabrica un determinado  producto, a razón de 500  y 400 unidades por día respectivamente.  El producto  ha  de  ser distribuido posteriormente  a  tres  centros  C,  D  y  E,  que  requieren,  respectivamente,  200,  300  y  400  unidades.  Los  costos  de  transportar cada unidad del producto desde cada fábrica a cada centro distribuidor son los  indicados  en la tabla  siguiente: \n",
    "\n",
    "Factoría|C|D|E|Fabricación (Unidades)\n",
    ":----|----|----|----|----\n",
    "A|  50 u.m|60 u.m|10 u.m|500 u\n",
    "B|  25 u.m|40 u.m|20 u.m|400 u\n",
    "Demanda|200|300|400|\n",
    "\n",
    "**¿De qué manera  deben  organizar  el transporte a fin de que los gastos sean mínimos?**\n",
    "\n"
   ]
  },
  {
   "cell_type": "markdown",
   "id": "185f0743-d399-407e-bd86-147717ca64c3",
   "metadata": {},
   "source": [
    "1. Identificar criterio\n",
    "   \n",
    "Minimizar el costo total de transporte de las fabricas a los centros \n",
    "\n",
    "2. Variables de control\n",
    "* AC\n",
    "* AD\n",
    "* AE\n",
    "* BC\n",
    "* BD\n",
    "* BE\n",
    "\n",
    "3. Funcion de costo\n",
    "\n",
    "$ f(AC, AD, AE, BC, BD, BE) = 50AC + 60AD + 10AE + 25BC+ 40BD+ 20BE $\n",
    "\n",
    "4. Restricciones\n",
    "\n",
    "Unidades de fabricacion de un determinado producto\n",
    "\n",
    "$ AC + AD + AE \\leq 500 $\n",
    "\n",
    "$ BC + BD + BE \\leq 400 $\n",
    "\n",
    "Demanda de los centros de distribucion \n",
    "\n",
    "$ AC + BC = 200 $\n",
    "\n",
    "$ AD + BD = 300 $\n",
    "\n",
    "$ AE + BE = 400 $\n",
    "\n",
    "$$ \\min_{AC, AD, AE, BC, BD, BE} 50AC + 60AD + 10AE + 25BC+ 40BD+ 20BE $$\n",
    "$$ \\text {s.t.} $$\n",
    "$$ AC + AD + AE \\leq 500 $$\n",
    "$$ BC + BD + BE \\leq 400 $$\n",
    "$$ AC + BC \\geq 200 $$\n",
    "$$ AD + BD \\geq 300 $$\n",
    "$$ AE + BE \\geq 400 $$\n"
   ]
  },
  {
   "cell_type": "code",
   "execution_count": 74,
   "id": "3e72d5f5-50d0-4e24-a706-b2da8cb266ab",
   "metadata": {},
   "outputs": [
    {
     "data": {
      "text/plain": [
       "23000.0"
      ]
     },
     "execution_count": 74,
     "metadata": {},
     "output_type": "execute_result"
    }
   ],
   "source": [
    "import numpy as np\n",
    "import scipy.optimize as opt\n",
    "\n",
    "c = np.array([50, 60, 10, 25, 40, 20])\n",
    "\n",
    "Aub = np.array([\n",
    "    [1, 1, 1, 0, 0, 0], \n",
    "    [0, 0, 0, 1, 1, 1],\n",
    "    [-1, 0, 0, -1, 0, 0],\n",
    "    [0, -1, 0, 0, -1, 0],\n",
    "    [0, 0, -1, 0, 0, -1]\n",
    "   \n",
    "])\n",
    "\n",
    "bub = np.array([500, 400, -200, -300, -400])\n",
    "\n",
    "sol = opt.linprog(c, Aub, bub,integrality=1)\n",
    "sol.fun #costo total mínimo "
   ]
  },
  {
   "cell_type": "markdown",
   "id": "3153e201-00a7-411f-8a28-87195ebdb5a4",
   "metadata": {},
   "source": [
    "El objetivo de este problema es determinar la mejor estrategia de inversión, dados diferentes tipos de bono, la máxima cantidad que puede ser invertida en cada bono, el porcentaje de retorno y los años de madurez. También hay una cantidad fija de dinero disponible ($\\$750,000$). Por lo menos la mitad de este dinero debe ser invertido en bonos con 10 años o más para la madurez. Se puede invertir un máximo del $25\\%$ de esta cantidad en cada bono. Finalmente, hay otra restricción que no permite usar más de $35\\%$ en bonos de alto riesgo.\n",
    "\n",
    "Existen seis (6) opciones de inversión con las letras correspondientes $A_i$\n",
    "\n",
    "1. $A_1$:(Tasa de retorno=$8.65\\%$; Años para la madurez=11, Riesgo=Bajo)\n",
    "1. $A_2$:(Tasa de retorno=$9.50\\%$; Años para la madurez=10, Riesgo=Alto)\n",
    "1. $A_3$:(Tasa de retorno=$10.00\\%$; Años para la madurez=6, Riesgo=Alto)\n",
    "1. $A_4$:(Tasa de retorno=$8.75\\%$; Años para la madurez=10, Riesgo=Bajo)\n",
    "1. $A_5$:(Tasa de retorno=$9.25\\%$; Años para la madurez=7, Riesgo=Alto)\n",
    "1. $A_6$:(Tasa de retorno=$9.00\\%$; Años para la madurez=13, Riesgo=Bajo)\n",
    "\n",
    "Lo que se quiere entonces es maximizar el retorno que deja la inversión.\n",
    "\n",
    "Este problema puede ser resuelto con programación lineal. Formalmente, puede ser descrito como:\n",
    "\n",
    "$$\\max_{A_1,A_2,...,A_6}\\sum^{6}_{i=1} A_iR_i,$$\n",
    "\n",
    "donde $A_i$ representa la cantidad invertida en la opción, y $R_i$ representa la tasa de retorno respectiva."
   ]
  },
  {
   "cell_type": "markdown",
   "id": "fcce8aa5-8195-409d-9df3-ff2e8844156c",
   "metadata": {},
   "source": [
    "1. Identificar criterio\n",
    "\n",
    "Maximizar el retorno de la inversión dado los riesgos, y los años de madurez, también los bonos\n",
    "\n",
    "2. Variables de control\n",
    "* A1\n",
    "* A2\n",
    "* A3\n",
    "* A4\n",
    "* A5\n",
    "* A6\n",
    " \n",
    "3. Funcion de costo\n",
    "\n",
    "f(A1, A2, A3, A4, A5, A6) = 0.0865A1 + 0.0950A2 + 0.10A3 + 0.0875A4 + 0.0925A5 + 0.090A6\n",
    "\n",
    "4. Restricciones\n",
    "\n",
    "Cantidad fija\n",
    "\n",
    "$ A1+A2+A3+A4+A5+A6 \\leq 750000 $\n",
    "\n",
    "Inversion minima con al menos 10 años\n",
    "\n",
    "$ A1+A2+A4+A6 \\geq 375000 $\n",
    "\n",
    "inversion por bono \n",
    "\n",
    "$ A1 \\leq 187500 $\n",
    "\n",
    "$ A2 \\leq 187500 $\n",
    "\n",
    "$ A3 \\leq 187500 $\n",
    "\n",
    "$ A4 \\leq 187500 $\n",
    "\n",
    "$ A5 \\leq 187500 $\n",
    "\n",
    "$ A6 \\leq 187500 $\n",
    "\n",
    "bono alto riesgo\n",
    "\n",
    "$ A2 + A3 + A5 \\leq 262500 $\n",
    "\n",
    "$$ \\min_{x1,x2,x3,x4,x5, x6} 0.0865A1 + 0.0950A2 + 0.10A3 + 0.0875A4 + 0.0925A5 + 0.090A6 $$\n",
    "$$ \\text {s.t.} $$\n",
    "$$ A1+A2+A3+A4+A5+A6 \\leq 750000 $$\n",
    "$$ A1+A2+A4+A6 \\geq 375000$$\n",
    "$$ A1 \\leq 187500 $$\n",
    "$$ A2 \\leq 187500 $$\n",
    "$$ A3 \\leq 187500 $$\n",
    "$$ A4 \\leq 187500 $$\n",
    "$$ A5 \\leq 187500 $$\n",
    "$$ A6 \\leq 187500 $$\n",
    "$$ A2 + A3 + A5 \\leq 262500$$\n",
    "\n",
    "   \n"
   ]
  },
  {
   "cell_type": "code",
   "execution_count": 59,
   "id": "867dd40e-e57c-4908-b71d-f41c6bbd7176",
   "metadata": {},
   "outputs": [
    {
     "data": {
      "text/plain": [
       "-68887.5"
      ]
     },
     "execution_count": 59,
     "metadata": {},
     "output_type": "execute_result"
    }
   ],
   "source": [
    "import scipy.optimize as opt\n",
    "import numpy as np \n",
    "\n",
    "Aub = np.array([\n",
    "    [1,  1,  1,  1, 1, 1],\n",
    "    [-1, -1,  0,  -1, 0 , -1],\n",
    "    [1, 0, 0, 0, 0, 0],\n",
    "    [0, 1, 0, 0, 0, 0],\n",
    "    [0, 0, 1, 0, 0, 0],\n",
    "    [0, 0, 0, 1, 0, 0],\n",
    "    [0, 0, 0, 0, 1, 0],\n",
    "    [0, 0, 0, 0, 0, 1],\n",
    "    [0, 1, 1, 0, 1, 0]\n",
    "])\n",
    "\n",
    "bub = np.array([\n",
    "    750000,\n",
    "    -375000,\n",
    "    187500,\n",
    "    187500,\n",
    "    187500,\n",
    "    187500,\n",
    "    187500,\n",
    "    187500,\n",
    "    262500\n",
    "\n",
    "])\n",
    "\n",
    "c = np.array([\n",
    "    -0.0865,\n",
    "    -0.0950,\n",
    "    -0.10,\n",
    "    -0.0875,\n",
    "    -0.0925,\n",
    "    -0.090\n",
    "])\n",
    "\n",
    "\n",
    "sol= opt.linprog(c,Aub,bub) \n",
    "sol.fun"
   ]
  },
  {
   "cell_type": "code",
   "execution_count": 61,
   "id": "f4288949-d30d-49aa-b5e3-c1d9c2b4e91b",
   "metadata": {},
   "outputs": [
    {
     "data": {
      "text/plain": [
       "array([112500.,  75000., 187500., 187500.,      0., 187500.])"
      ]
     },
     "execution_count": 61,
     "metadata": {},
     "output_type": "execute_result"
    }
   ],
   "source": [
    "sol.x"
   ]
  },
  {
   "cell_type": "markdown",
   "id": "c23e002b-ffe4-4213-82e8-d4d2a91cedfc",
   "metadata": {},
   "source": [
    "$ A05 $\n",
    "\n",
    "Se quiere producir comida para gatos de la manera más barata, no obstante se debe también asegurar que se cumplan los datos requeridos de analisis nutricional. Por lo que se quiere variar la cantidad de cada ingrediente para cumplir con los estandares nutricionales. Los requisitos que se tienen es que en 100 gramos, se deben tener por lo menos 9 gramos de proteína y  7 gramos de grasa. Así mismo, no se debe tener más de 2.5 gramos de fibra y 0.5 gramos de sal.\n",
    "2\n",
    "\n",
    "Lo que se busca optimizar en este caso es la cantidad de productos que se debe utilizar en la comida de gato, minimizando el costo total."
   ]
  },
  {
   "cell_type": "markdown",
   "id": "44c9afbf-6be7-4cc0-a1a7-0062a8e3215a",
   "metadata": {},
   "source": [
    "1. Identificar criterio \n",
    "\n",
    "Se quiere minimizar el costo total de la comida de gato\n",
    "\n",
    "2. Variables de control (Sobre que tengo el control?)\n",
    "\n",
    "* Cantidad de pollo\n",
    "* Cantidad de Carne\n",
    "* Cantidad de Cordero\n",
    "* Cantidad de Arroz\n",
    "* Cantidad de Trigo\n",
    "* Cantidad de Gel\n",
    "\n",
    "3. funcion de costo\n",
    "$ f(x1, x2, x3, x4, x5, x6) = 0.012x1 + 0.009x2 + 0.010x3 + 0.003x4 + 0.005x5 + 0.002x6 $\n",
    "\n",
    "4. Restricciones\n",
    "\n",
    "* Proteina\n",
    "$ 0.10x1 + 0.20x2 + 0.15x3 + 0.00x4+ 0.04x5 + 0.00x6 \\geq 9 $\n",
    "\n",
    "* Grasa\n",
    "$ 0.08x1 + 0.10x2 + 0.11x3 + 0.01x4 + 0.01x5 + 0.00x6 \\geq 7 $\n",
    "\n",
    "* Fibra \n",
    "$ 0.001x1 + 0.005x2 + 0.005x3 + 0.10x4 + 0.15x5 + 0.00x6 \\leq 2.5 $\n",
    "\n",
    "* Sal\n",
    "$ 0.002x1 + 0.005x2 + 0.007x3 + 0.002x4 + 0.008x5 + 0.00x6 \\leq 0.5 $\n",
    "\n",
    "* Total\n",
    "$ x1 + x2 + x3 + x4 + x5 + x6 = 100 $\n",
    "\n",
    "$$ \\min_{x1,x2,x3,x4,x5, x6} 0.012x1 + 0.009x2 + 0.010x3 + 0.003x4 + 0.005x5 + 0.002x6 $$\n",
    "$$ \\text {s.t.} $$\n",
    "$$ 0.10x1 + 0.20x2 + 0.15x3 + 0.00x4+ 0.04x5 + 0.00x6 \\geq 9 $$\n",
    "$$0.08x1 + 0.10x2 + 0.11x3 + 0.01x4 + 0.01x5 + 0.00x6 \\geq 7$$\n",
    "$$0.001x1 + 0.005x2 + 0.005x3 + 0.10x4 + 0.15x5 + 0.00x6 \\leq 2.5$$\n",
    "$$0.002x1 + 0.005x2 + 0.007x3 + 0.002x4 + 0.008x5 + 0.00x6 \\leq 0.5$$\n",
    "$$ x1+x2+x3+x4+x5+x6 = 100$$\n",
    "   "
   ]
  },
  {
   "cell_type": "code",
   "execution_count": 89,
   "id": "8316b888-3bfe-434e-8608-49c4e7931013",
   "metadata": {},
   "outputs": [
    {
     "data": {
      "text/plain": [
       "0.69"
      ]
     },
     "execution_count": 89,
     "metadata": {},
     "output_type": "execute_result"
    }
   ],
   "source": [
    "import scipy.optimize as opt\n",
    "import numpy as np \n",
    "\n",
    "Aub = np.array([\n",
    "    [-0.10,  -0.20,  -0.15,  0, -0.04, 0],\n",
    "    [-0.08,  -0.10,  -0.11,  -0.01, -0.01,0],\n",
    "    [0.001, 0.005, 0.005, 0.10, 0.15, 0],\n",
    "    [0.002, 0.005, 0.007, 0.002, 0.008, 0]\n",
    "])\n",
    "\n",
    "bub = np.array([\n",
    "    -9,\n",
    "    -7,\n",
    "    2.5,\n",
    "    0.5\n",
    "\n",
    "])\n",
    "\n",
    "c = np.array([\n",
    "    0.012,\n",
    "    0.009,\n",
    "    0.010,\n",
    "    0.003,\n",
    "    0.005,\n",
    "    0.002\n",
    "])\n",
    "\n",
    "Aeq = np.array([\n",
    "    [1,1,1,1,1,1]\n",
    "])\n",
    "\n",
    "beq = np.array([\n",
    "    100\n",
    "])\n",
    "\n",
    "sol= opt.linprog(c,Aub,bub, Aeq, beq) \n",
    "sol.fun"
   ]
  },
  {
   "cell_type": "code",
   "execution_count": 91,
   "id": "e87aec36-026f-4517-a704-4ced1e53a6ed",
   "metadata": {},
   "outputs": [
    {
     "data": {
      "text/plain": [
       "array([ 0., 70.,  0.,  0.,  0., 30.])"
      ]
     },
     "execution_count": 91,
     "metadata": {},
     "output_type": "execute_result"
    }
   ],
   "source": [
    "sol.x"
   ]
  },
  {
   "cell_type": "markdown",
   "id": "b6680ef2-c901-4601-9779-7658296590fc",
   "metadata": {},
   "source": [
    "#### A05 ejercicio 2\n",
    "\n",
    "La Comisión Federal de Electricidad (CFE) dispone de cuatro plantas de generación para satisfacer la demanda diaria eléctrica en cuatro ciudades, Guadalajara, León y Morelia. Las plantas 1, 2 y 3 pueden satisfacer 75, 50 y 60 millones de kW al día respectivamente. Las necesidades de las ciudades de Guadalajara, León y Morelia son de 60, 45 y 60 millones de Kw al día respectivamente.\n",
    "\n",
    "Los costos asociados al envío de suministro energético por cada millón de kW entre cada planta y cada ciudad son los registrados en la siguiente tabla."
   ]
  },
  {
   "cell_type": "markdown",
   "id": "6126982e-9579-4c10-9267-2d1ae5411312",
   "metadata": {},
   "source": [
    "1. Identificar criterio\n",
    "El criterio es minimizar el costo total de envío de suministro energético desde las plantas de generación hacia las ciudades de Guadalajara, León y Morelia.\n",
    "\n",
    "2. Variables de control en cantidades de energía a plantas\n",
    "\n",
    "* x11 : Desde planta 1 a GDL\n",
    "* x12 : Desde planta 1 a León\n",
    "* x13 : desde planta 1 a Morelina\n",
    "* x21 : desde planta 2 a Gdl\n",
    "* x22 : desde planta 2 a León\n",
    "* x23 : desde planta 2 a Morelia\n",
    "* x31 : desde planta 3 a GDL\n",
    "* x32 : desde planta 3 a León\n",
    "* x33 : desde planta 3 a Morelia\n",
    "\n",
    "3. Función de costo\n",
    "\n",
    "$ Total = 5x11 + 2x12 + 7x13 + 3x21 + 4x22 + 5x23 + 5x31 + 2x32 + 3x33 $\n",
    "\n",
    "4. Restricciones\n",
    "\n",
    "* Capacidad en plantas (en millones de kW)\n",
    "  * Planta 1\n",
    "    $ x11 + x12 + x13 \\leq 75 $\n",
    "  * Planta 2\n",
    "    $ x21 + x22 + x23 \\leq 50 $\n",
    "  * Planta 3\n",
    "    $ x31 + x32 + x33 \\leq 60 $\n",
    "\n",
    "* Demanda en las ciudades (en millones de kW)\n",
    "  * GDL\n",
    "    $ x11 + x21 + x31 = 60 $\n",
    "  * León\n",
    "    $ x12 + x22 + x32 = 45 $\n",
    "  * Morelia\n",
    "    $ x13 + x23 + x33 = 60 $\n",
    "    \n",
    "$$ \\min_{x1,x2,x3,x4,x5, x6} 5x11 + 2x12 + 7x13 + 3x21 + 4x22 + 5x23 + 5x31 + 2x32 + 3x33 $$\n",
    "$$ \\text {s.t.} $$\n",
    "$$ x11 + x12 + x13 \\leq 75 $$\n",
    "$$ x21 + x22 + x23 \\leq 50$$\n",
    "$$ x31 + x32 + x33 \\leq 60$$\n",
    "$$ x11 + x21 + x31 \\geq 60$$\n",
    "$$ x12 + x22 + x32 \\geq 45$$\n",
    "$$ x13 + x23 + x33 \\geq 60$$"
   ]
  },
  {
   "cell_type": "code",
   "execution_count": 87,
   "id": "1cc91e05-b74b-424e-8dc1-111a1586e4ae",
   "metadata": {},
   "outputs": [
    {
     "data": {
      "text/plain": [
       "470.0"
      ]
     },
     "execution_count": 87,
     "metadata": {},
     "output_type": "execute_result"
    }
   ],
   "source": [
    "import numpy as np\n",
    "import scipy.optimize as opt\n",
    "\n",
    "c = np.array([5, 2, 7, 3, 4, 5, 5, 2, 3])\n",
    "\n",
    "Aub = np.array([\n",
    "    [1, 1, 1, 0, 0, 0, 0, 0, 0],  # Capacidad de planta 1 <= 75\n",
    "    [0, 0, 0, 1, 1, 1, 0, 0, 0],  # Capacidad de planta 2 <= 50\n",
    "    [0, 0, 0, 0, 0, 0, 1, 1, 1],  # Capacidad de planta 3 <= 60\n",
    "    [-1, 0, 0, -1, 0, 0, -1, 0, 0],  # Demanda GDL >= 60\n",
    "    [0, -1, 0, 0, -1, 0, 0, -1, 0],  # Demanda León >= 45\n",
    "    [0, 0, -1, 0, 0, -1, 0, 0, -1]   # Demanda Morelia >= 60\n",
    "])\n",
    "\n",
    "bub = np.array([75, 50, 60, -60, -45, -60])\n",
    "\n",
    "sol = opt.linprog(c, Aub, bub,integrality=1)\n",
    "sol.fun #costo total mínimo "
   ]
  },
  {
   "cell_type": "code",
   "execution_count": 85,
   "id": "777ff537-57ce-4654-a130-807a100e7107",
   "metadata": {},
   "outputs": [
    {
     "data": {
      "text/plain": [
       "array([10., 45.,  0., 50.,  0.,  0.,  0.,  0., 60.])"
      ]
     },
     "execution_count": 85,
     "metadata": {},
     "output_type": "execute_result"
    }
   ],
   "source": [
    "sol.x #cantidad de energía desde cada planta a cada ciudad"
   ]
  },
  {
   "cell_type": "markdown",
   "id": "32fd6184-ff6b-48ba-b9c2-8e9ad4469acf",
   "metadata": {},
   "source": [
    "A06 Ejercicio 1.\n",
    "\n",
    "Una carpintería local fabrica sillas, mesas, libreros y bases de cama. Hay dos empleados en esta carpintería: un empleado experimentado y un aprendiz. El aprendiz tarda aproximadamente 50% más tiempo que el carpintero experimentado en construir cualquier cosa, además de que tiene un desperdicio de alrededor de 20% de material. Los materiales y tiempos necesarios para construir algo se desglozan en la siguiente tabla:\n",
    "\n",
    "Mesa = 3, 6\n",
    "\n",
    "Silla = 1, 2\n",
    "\n",
    "Libreros = 4, 5\n",
    "\n",
    "Bases = 3, 5\n",
    "\n",
    "Las mesas se venden en  9000, las sillas en  3000, los libreros en  10000, y las bases de cama en  9000. Suponiendo una jornada de 40 horas a la semana y que tienen 100 unidades de madera, ¿qué les conviene construir durante una semana para maximizar su ganancia?\n",
    "\n",
    "* ¿Cuántas horas trabaja cada quién?\n",
    "  \n",
    "* ¿Cuánto material se usa?\n",
    "  \n",
    "* ¿Cuál se el ingreso total si se vende todo lo fabricado?"
   ]
  },
  {
   "cell_type": "markdown",
   "id": "5b26a910-6ea9-4349-b2ef-4f06ad1e3a97",
   "metadata": {},
   "source": [
    "1. Identificar el criterio\n",
    "   \n",
    "Se busca maximizar la ganancia \n",
    "\n",
    "3. Variables de control\n",
    "   \n",
    "* Cantidad de mesas del empleado (x1)\n",
    "* Cantidad de sillas del empleado (x2)\n",
    "* Cantidad de libreros del empleado (x3)\n",
    "* Cantidad de bases de cama del empleado (x4)\n",
    "* Cantidad de mesas del aprendiz (y1)\n",
    "* Cantidad de sillas del aprendiz (y2)\n",
    "* Cantidad de libreros del aprendiz (y3)\n",
    "* Cantidad de bases de cama del aprendiz (y4)\n",
    "  \n",
    "3. funcion de costo\n",
    "   \n",
    "  $ f(x1, x2, x3, x4, y1, y2, y3, y4) = 9000x1+ 9000y1 + 3000x2+3000y2 + 10000x3+10000y3 + 9000x4+ 9000y4 $\n",
    "\n",
    "4. Restricciones\n",
    "\n",
    "Tiempo experimentado\n",
    "\n",
    "$ 3x1 + 1x2 + 4x3 + 3x4 \\leq 40 $\n",
    "\n",
    "Tiempo aprendiz \n",
    "\n",
    "$ 4.5y1 + 1.5y2 + 6y3 + 4.5y4 \\leq 40 $\n",
    "\n",
    "Material \n",
    "\n",
    "$ 6x1 + 7.2y1 + 2x2+ 2.4y2 + 5x3 + 6y3 + 5x4+ 6y4 \\leq 100 $\n",
    "\n",
    "$$ \\min_{x1,x2,x3,x4,y1,y2,y3,y4} -9000x1-9000y1-3000x2-3000y2-10000x3-10000y3-9000x4-9000y4 $$\n",
    "$$ \\text {s.t.} $$\n",
    "$$3x1+1x2+4x3+3x4 \\leq 40$$\n",
    "$$4.5y1+1.5y2+6y3+4.5y4 \\leq 40$$\n",
    "$$6x1+7.2y1+2x2+2.4y2+5x3+6y3+5x4+6y4 \\leq 100$$"
   ]
  },
  {
   "cell_type": "code",
   "execution_count": 35,
   "id": "24e1ea1b-572e-4fe1-b25a-c5be5c44671a",
   "metadata": {},
   "outputs": [
    {
     "data": {
      "text/plain": [
       "-176000.0"
      ]
     },
     "execution_count": 35,
     "metadata": {},
     "output_type": "execute_result"
    }
   ],
   "source": [
    "import scipy.optimize as opt\n",
    "import numpy as np\n",
    "\n",
    "Aub = np.array([\n",
    "    [3,  0,  1,  0,  4, 0, 3, 0],\n",
    "    [0, 4.5, 0, 1.5, 0, 6, 0, 4.5],\n",
    "    [6, 7.2, 2, 2.4, 5, 6, 5, 6]\n",
    "])\n",
    "\n",
    "bub = np.array([\n",
    "    40,\n",
    "    40,\n",
    "    100\n",
    "\n",
    "])\n",
    "\n",
    "c = np.array([\n",
    "    -9000,\n",
    "    -9000,\n",
    "    -3000,\n",
    "    -3000,\n",
    "    -10000,\n",
    "    -10000,\n",
    "    -9000,\n",
    "    -9000\n",
    "])\n",
    "\n",
    "sol= opt.linprog(c,Aub,bub,integrality=1) \n",
    "sol.fun #el dinero de todo lo fabricado "
   ]
  },
  {
   "cell_type": "code",
   "execution_count": 37,
   "id": "f5b478b1-8c8e-4dc8-8894-571db455c6bc",
   "metadata": {},
   "outputs": [
    {
     "data": {
      "text/plain": [
       "array([ 0.00000000e+00,  0.00000000e+00,  1.00000000e+00, -9.47390314e-15,\n",
       "        9.00000000e+00,  2.00000000e+00,  1.00000000e+00,  6.00000000e+00])"
      ]
     },
     "execution_count": 37,
     "metadata": {},
     "output_type": "execute_result"
    }
   ],
   "source": [
    "sol.x"
   ]
  },
  {
   "cell_type": "code",
   "execution_count": 39,
   "id": "702c4031-9e49-4c05-a849-19e5dda3bdf3",
   "metadata": {},
   "outputs": [
    {
     "data": {
      "text/plain": [
       "array([ 40.,  39., 100.])"
      ]
     },
     "execution_count": 39,
     "metadata": {},
     "output_type": "execute_result"
    }
   ],
   "source": [
    "Aub @ sol.x  "
   ]
  },
  {
   "cell_type": "markdown",
   "id": "cc0af955-41b8-447e-8ed9-6d3aab097ea8",
   "metadata": {},
   "source": [
    "2. La carpintería recibió una orden  por 3 combos de mesa + 6 sillas.\n",
    "* ¿Se puede cumplir la orden? Sí \n",
    "* Si sí, ¿qué es lo que tienen que fabricar en el resto del tiempo y con el resto del material para maximizar su ganancia?\n",
    "* ¿Cuántas horas trabaja cada quién?\n",
    "* ¿Cuánto material se usa?\n",
    "* ¿Cuál es el nuevo ingreso total?"
   ]
  },
  {
   "cell_type": "markdown",
   "id": "5989bc52-66bc-4fda-a8e9-b6038f6aaffd",
   "metadata": {},
   "source": [
    "4. Restricciones extras\n",
    "   \n",
    "Mesas\n",
    "\n",
    "$ x1+y1 \\geq 3 $\n",
    "\n",
    "Sillas\n",
    "\n",
    "$ x2+y2 \\geq 18 $\n",
    "\n",
    "$$ \\min_{x1,x2,x3,x4,y1,y2,y3,y4} -9000x1-9000y1-3000x2-3000y2-10000x3-10000y3-9000x4-9000y4 $$\n",
    "$$ \\text {s.t.} $$\n",
    "$$3x1+1x2+4x3+3x4 \\leq 40$$\n",
    "$$4.5y1+1.5y2+6y3+4.5y4 \\leq 40$$\n",
    "$$6x1+7.2y1+2x2+2.4y2+5x3+6y3+5x4+6y4 \\leq 100$$\n",
    "$$ x1+y1 \\geq 3 $$\n",
    "$$ x2+y2 \\geq 18 $$"
   ]
  },
  {
   "cell_type": "code",
   "execution_count": 74,
   "id": "bfad91b7-c9bb-4b67-879f-0cb1c61fe97b",
   "metadata": {},
   "outputs": [
    {
     "data": {
      "text/plain": [
       "-161000.0"
      ]
     },
     "execution_count": 74,
     "metadata": {},
     "output_type": "execute_result"
    }
   ],
   "source": [
    "import scipy.optimize as opt\n",
    "import numpy as np\n",
    "\n",
    "\n",
    "c = np.array([-9000, -9000, -3000, -3000, -10000, -10000, -9000, -9000])\n",
    "\n",
    "Aub = np.array([\n",
    "    [3, 0, 1, 0, 4, 0, 3, 0],     \n",
    "    [0, 4.5, 0, 1.5, 0, 6, 0, 4.5], \n",
    "    [6, 7.2, 2, 2.4, 5, 6, 5, 6],\n",
    "    [0, 0, -1, -1, 0, 0, 0, 0],\n",
    "    [-1, -1, 0, 0, 0, 0, 0, 0] \n",
    "])\n",
    "\n",
    "bub = np.array([\n",
    "    40,\n",
    "    40,\n",
    "    100,\n",
    "    -18,\n",
    "    -3\n",
    "])\n",
    "\n",
    "\n",
    "sol = opt.linprog(c,Aub,bub,integrality=1) \n",
    "sol.fun  #la ganancia total\n"
   ]
  },
  {
   "cell_type": "code",
   "execution_count": 76,
   "id": "91666095-b279-47ed-b281-16a56ad21fce",
   "metadata": {},
   "outputs": [
    {
     "data": {
      "text/plain": [
       "array([ 3.,  0., 18.,  0.,  3.,  5.,  0.,  0.])"
      ]
     },
     "execution_count": 76,
     "metadata": {},
     "output_type": "execute_result"
    }
   ],
   "source": [
    "sol.x   #esto es lo que tienen que fabricar para maximizar ganancias "
   ]
  },
  {
   "cell_type": "code",
   "execution_count": 78,
   "id": "7966b30a-43a4-452e-9186-7e902485b6b8",
   "metadata": {},
   "outputs": [
    {
     "data": {
      "text/plain": [
       "array([ 39.,  30.,  99., -18.,  -3.])"
      ]
     },
     "execution_count": 78,
     "metadata": {},
     "output_type": "execute_result"
    }
   ],
   "source": [
    "Aub @ sol.x  #tiempo de ambos y el material"
   ]
  }
 ],
 "metadata": {
  "kernelspec": {
   "display_name": "Python 3 (ipykernel)",
   "language": "python",
   "name": "python3"
  },
  "language_info": {
   "codemirror_mode": {
    "name": "ipython",
    "version": 3
   },
   "file_extension": ".py",
   "mimetype": "text/x-python",
   "name": "python",
   "nbconvert_exporter": "python",
   "pygments_lexer": "ipython3",
   "version": "3.12.4"
  }
 },
 "nbformat": 4,
 "nbformat_minor": 5
}
