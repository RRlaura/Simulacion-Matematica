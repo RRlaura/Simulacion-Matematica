{
 "cells": [
  {
   "cell_type": "markdown",
   "id": "ba755ca8-f580-4e30-95b1-354675e1b310",
   "metadata": {},
   "source": [
    "# Simulación Matematica \n"
   ]
  },
  {
   "cell_type": "markdown",
   "id": "7b78dd21-de39-40b1-9e35-70be9a872272",
   "metadata": {},
   "source": [
    "MarkDown"
   ]
  },
  {
   "cell_type": "code",
   "execution_count": 12,
   "id": "0a8b0865-3d2b-4348-8efd-26d67d92c109",
   "metadata": {},
   "outputs": [
    {
     "data": {
      "text/plain": [
       "2"
      ]
     },
     "execution_count": 12,
     "metadata": {},
     "output_type": "execute_result"
    }
   ],
   "source": [
    "1 + 1\n"
   ]
  },
  {
   "cell_type": "markdown",
   "id": "cb502a92-3e6f-4780-940a-75cf82765f39",
   "metadata": {},
   "source": [
    " # Chocolates"
   ]
  },
  {
   "cell_type": "markdown",
   "id": "bb28a040-6411-447f-962d-ad8701c1e66e",
   "metadata": {},
   "source": [
    "HLALALA"
   ]
  },
  {
   "cell_type": "markdown",
   "id": "3de75c4a-6a09-4fa6-8a57-a92579fb4adb",
   "metadata": {},
   "source": [
    "## TIPOS"
   ]
  },
  {
   "cell_type": "markdown",
   "id": "ab846e34-3688-4044-afa3-7f8bea7bc800",
   "metadata": {},
   "source": [
    "* Negro\n",
    "* BLANCO\n",
    "* Con Leche\n",
    "* Con Almendras\n",
    "  * negro\n",
    "  * $25$\n",
    "* *italica*\n",
    "\n",
    "- Blanco\n",
    "- Negro\n",
    "\n",
    "Mis favoritos son \n",
    "1. Blanco con almendra\n",
    "2. Negro con leche\n",
    "3. negro "
   ]
  },
  {
   "cell_type": "markdown",
   "id": "a7ccb377-a73a-4612-901c-fc9da107a774",
   "metadata": {},
   "source": [
    "* \\underline{chocolate} *\n"
   ]
  },
  {
   "cell_type": "markdown",
   "id": "9c24c4b5-6ff5-497c-add9-9098ea02bd57",
   "metadata": {},
   "source": [
    "### Subsubtitulo"
   ]
  },
  {
   "cell_type": "markdown",
   "id": "a09e59e7-a068-4377-9a0f-3a4673547b7b",
   "metadata": {},
   "source": [
    "asidgjsoahna"
   ]
  },
  {
   "cell_type": "code",
   "execution_count": 29,
   "id": "f60e9ccc-07b8-438c-b7b9-c22b153d0e11",
   "metadata": {},
   "outputs": [
    {
     "data": {
      "text/plain": [
       "3.141592653589793"
      ]
     },
     "execution_count": 29,
     "metadata": {},
     "output_type": "execute_result"
    }
   ],
   "source": [
    "import numpy as np\n",
    "np.pi"
   ]
  },
  {
   "cell_type": "markdown",
   "id": "8b4c49c3-9baf-4f8c-8c1d-985394853761",
   "metadata": {},
   "source": [
    "La ecuacion de la velocidad es la siguiente:\n",
    "\n",
    "$$ \\sqrt{a/b} $$"
   ]
  },
  {
   "cell_type": "markdown",
   "id": "8f5622c9-102b-4e1e-a9b0-2d9ddb9633bc",
   "metadata": {},
   "source": [
    "$$ \\frac{numerador}{denominador} $$"
   ]
  },
  {
   "cell_type": "markdown",
   "id": "5a2c7fbf-33c1-4410-b828-2b1721e420f4",
   "metadata": {},
   "source": [
    "$$ e^{expresion^2} $$"
   ]
  },
  {
   "cell_type": "code",
   "execution_count": null,
   "id": "9cd11fc0-ada7-43a9-9d18-d1647cbeb325",
   "metadata": {},
   "outputs": [],
   "source": []
  }
 ],
 "metadata": {
  "kernelspec": {
   "display_name": "Python 3 (ipykernel)",
   "language": "python",
   "name": "python3"
  },
  "language_info": {
   "codemirror_mode": {
    "name": "ipython",
    "version": 3
   },
   "file_extension": ".py",
   "mimetype": "text/x-python",
   "name": "python",
   "nbconvert_exporter": "python",
   "pygments_lexer": "ipython3",
   "version": "3.12.4"
  }
 },
 "nbformat": 4,
 "nbformat_minor": 5
}
