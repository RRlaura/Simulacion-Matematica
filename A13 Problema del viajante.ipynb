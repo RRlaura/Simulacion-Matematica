{
 "cells": [
  {
   "cell_type": "markdown",
   "id": "55af72cd-4c47-4893-b366-5be5b20a1412",
   "metadata": {},
   "source": [
    "Laura Rodriguez 07-11-24"
   ]
  },
  {
   "cell_type": "code",
   "execution_count": 2,
   "id": "30399be5-3344-4793-a0d0-bdd3d8a8c695",
   "metadata": {},
   "outputs": [
    {
     "data": {
      "text/html": [
       "<div>\n",
       "<style scoped>\n",
       "    .dataframe tbody tr th:only-of-type {\n",
       "        vertical-align: middle;\n",
       "    }\n",
       "\n",
       "    .dataframe tbody tr th {\n",
       "        vertical-align: top;\n",
       "    }\n",
       "\n",
       "    .dataframe thead th {\n",
       "        text-align: right;\n",
       "    }\n",
       "</style>\n",
       "<table border=\"1\" class=\"dataframe\">\n",
       "  <thead>\n",
       "    <tr style=\"text-align: right;\">\n",
       "      <th></th>\n",
       "      <th>Tijuana</th>\n",
       "      <th>Mérida</th>\n",
       "      <th>GDL</th>\n",
       "      <th>México</th>\n",
       "      <th>León</th>\n",
       "      <th>Monterrey</th>\n",
       "      <th>Tapachula</th>\n",
       "      <th>Chihuahua</th>\n",
       "    </tr>\n",
       "    <tr>\n",
       "      <th>Unnamed: 0</th>\n",
       "      <th></th>\n",
       "      <th></th>\n",
       "      <th></th>\n",
       "      <th></th>\n",
       "      <th></th>\n",
       "      <th></th>\n",
       "      <th></th>\n",
       "      <th></th>\n",
       "    </tr>\n",
       "  </thead>\n",
       "  <tbody>\n",
       "    <tr>\n",
       "      <th>Tijuana</th>\n",
       "      <td>0</td>\n",
       "      <td>4180</td>\n",
       "      <td>2306</td>\n",
       "      <td>2848</td>\n",
       "      <td>2529</td>\n",
       "      <td>2409</td>\n",
       "      <td>4005</td>\n",
       "      <td>1583</td>\n",
       "    </tr>\n",
       "    <tr>\n",
       "      <th>Mérida</th>\n",
       "      <td>4180</td>\n",
       "      <td>0</td>\n",
       "      <td>1874</td>\n",
       "      <td>1332</td>\n",
       "      <td>1719</td>\n",
       "      <td>2046</td>\n",
       "      <td>1062</td>\n",
       "      <td>2819</td>\n",
       "    </tr>\n",
       "    <tr>\n",
       "      <th>GDL</th>\n",
       "      <td>2306</td>\n",
       "      <td>1874</td>\n",
       "      <td>0</td>\n",
       "      <td>542</td>\n",
       "      <td>223</td>\n",
       "      <td>789</td>\n",
       "      <td>1699</td>\n",
       "      <td>1202</td>\n",
       "    </tr>\n",
       "    <tr>\n",
       "      <th>México</th>\n",
       "      <td>2848</td>\n",
       "      <td>1332</td>\n",
       "      <td>542</td>\n",
       "      <td>0</td>\n",
       "      <td>389</td>\n",
       "      <td>933</td>\n",
       "      <td>1157</td>\n",
       "      <td>1487</td>\n",
       "    </tr>\n",
       "    <tr>\n",
       "      <th>León</th>\n",
       "      <td>2529</td>\n",
       "      <td>1719</td>\n",
       "      <td>223</td>\n",
       "      <td>389</td>\n",
       "      <td>0</td>\n",
       "      <td>711</td>\n",
       "      <td>1544</td>\n",
       "      <td>1140</td>\n",
       "    </tr>\n",
       "    <tr>\n",
       "      <th>Monterrey</th>\n",
       "      <td>2409</td>\n",
       "      <td>2046</td>\n",
       "      <td>789</td>\n",
       "      <td>933</td>\n",
       "      <td>711</td>\n",
       "      <td>0</td>\n",
       "      <td>1803</td>\n",
       "      <td>826</td>\n",
       "    </tr>\n",
       "    <tr>\n",
       "      <th>Tapachula</th>\n",
       "      <td>4005</td>\n",
       "      <td>1062</td>\n",
       "      <td>1699</td>\n",
       "      <td>1157</td>\n",
       "      <td>1544</td>\n",
       "      <td>1803</td>\n",
       "      <td>0</td>\n",
       "      <td>2644</td>\n",
       "    </tr>\n",
       "    <tr>\n",
       "      <th>Chihuahua</th>\n",
       "      <td>1583</td>\n",
       "      <td>2819</td>\n",
       "      <td>1202</td>\n",
       "      <td>1487</td>\n",
       "      <td>1140</td>\n",
       "      <td>826</td>\n",
       "      <td>2644</td>\n",
       "      <td>0</td>\n",
       "    </tr>\n",
       "  </tbody>\n",
       "</table>\n",
       "</div>"
      ],
      "text/plain": [
       "            Tijuana  Mérida   GDL  México  León  Monterrey  Tapachula  \\\n",
       "Unnamed: 0                                                              \n",
       "Tijuana           0    4180  2306    2848  2529       2409       4005   \n",
       "Mérida         4180       0  1874    1332  1719       2046       1062   \n",
       "GDL            2306    1874     0     542   223        789       1699   \n",
       "México         2848    1332   542       0   389        933       1157   \n",
       "León           2529    1719   223     389     0        711       1544   \n",
       "Monterrey      2409    2046   789     933   711          0       1803   \n",
       "Tapachula      4005    1062  1699    1157  1544       1803          0   \n",
       "Chihuahua      1583    2819  1202    1487  1140        826       2644   \n",
       "\n",
       "            Chihuahua  \n",
       "Unnamed: 0             \n",
       "Tijuana          1583  \n",
       "Mérida           2819  \n",
       "GDL              1202  \n",
       "México           1487  \n",
       "León             1140  \n",
       "Monterrey         826  \n",
       "Tapachula        2644  \n",
       "Chihuahua           0  "
      ]
     },
     "execution_count": 2,
     "metadata": {},
     "output_type": "execute_result"
    }
   ],
   "source": [
    "import pandas as pd\n",
    "datos = pd.read_excel(\"datosCTL.xlsx\", sheet_name=\"8c\").set_index(\"Unnamed: 0\")\n",
    "datos"
   ]
  },
  {
   "cell_type": "code",
   "execution_count": 72,
   "id": "74d68ebe-08c4-4427-8708-9b83daacb892",
   "metadata": {},
   "outputs": [
    {
     "data": {
      "text/plain": [
       "['Tijuana',\n",
       " 'México',\n",
       " 'León',\n",
       " 'Mérida',\n",
       " 'Chihuahua',\n",
       " 'Tapachula',\n",
       " 'GDL',\n",
       " 'Monterrey']"
      ]
     },
     "execution_count": 72,
     "metadata": {},
     "output_type": "execute_result"
    }
   ],
   "source": [
    "import numpy as np\n",
    "\n",
    "ciudades = list(datos.columns)\n",
    "T = 1000\n",
    "R1 = list(np.random.choice(ciudades, size=len(ciudades), replace=False))\n",
    "R1"
   ]
  },
  {
   "cell_type": "code",
   "execution_count": 56,
   "id": "24f42ef2-59b1-4682-8868-df8267b6b8f2",
   "metadata": {},
   "outputs": [
    {
     "data": {
      "text/plain": [
       "['Chihuahua',\n",
       " 'Tijuana',\n",
       " 'GDL',\n",
       " 'Mérida',\n",
       " 'Monterrey',\n",
       " 'León',\n",
       " 'México',\n",
       " 'Tapachula']"
      ]
     },
     "execution_count": 56,
     "metadata": {},
     "output_type": "execute_result"
    }
   ],
   "source": [
    "pos = np.random.choice([0,1,2,3,4,5,6,7], 2, replace= False)\n",
    "R2 = R1.copy()\n",
    "R2[pos[0]],R2[pos[1]]= R2[pos[1]], R2[pos[0]]\n",
    "R2"
   ]
  },
  {
   "cell_type": "code",
   "execution_count": 78,
   "id": "00a4f13b-d4a1-4e7d-a5c3-03b7e1a0a398",
   "metadata": {},
   "outputs": [
    {
     "ename": "TypeError",
     "evalue": "'list' object is not callable",
     "output_type": "error",
     "traceback": [
      "\u001b[1;31m---------------------------------------------------------------------------\u001b[0m",
      "\u001b[1;31mTypeError\u001b[0m                                 Traceback (most recent call last)",
      "Cell \u001b[1;32mIn[78], line 2\u001b[0m\n\u001b[0;32m      1\u001b[0m lugares \u001b[38;5;241m=\u001b[39m [\u001b[38;5;124m'\u001b[39m\u001b[38;5;124mTijuana\u001b[39m\u001b[38;5;124m'\u001b[39m, \u001b[38;5;124m'\u001b[39m\u001b[38;5;124mMérida\u001b[39m\u001b[38;5;124m'\u001b[39m, \u001b[38;5;124m'\u001b[39m\u001b[38;5;124mGDL\u001b[39m\u001b[38;5;124m'\u001b[39m, \u001b[38;5;124m'\u001b[39m\u001b[38;5;124mMéxico\u001b[39m\u001b[38;5;124m'\u001b[39m, \u001b[38;5;124m'\u001b[39m\u001b[38;5;124mLeón\u001b[39m\u001b[38;5;124m'\u001b[39m, \u001b[38;5;124m'\u001b[39m\u001b[38;5;124mMonterrey\u001b[39m\u001b[38;5;124m'\u001b[39m, \u001b[38;5;124m'\u001b[39m\u001b[38;5;124mTapachula\u001b[39m\u001b[38;5;124m'\u001b[39m, \u001b[38;5;124m'\u001b[39m\u001b[38;5;124mChihuahua\u001b[39m\u001b[38;5;124m'\u001b[39m]\n\u001b[1;32m----> 2\u001b[0m D1 \u001b[38;5;241m=\u001b[39m lugares(datos, R1[\u001b[38;5;241m0\u001b[39m], R1[\u001b[38;5;241m1\u001b[39m], R1[\u001b[38;5;241m2\u001b[39m], R1[\u001b[38;5;241m3\u001b[39m], R1[\u001b[38;5;241m4\u001b[39m], R1[\u001b[38;5;241m5\u001b[39m], R1[\u001b[38;5;241m6\u001b[39m], R1[\u001b[38;5;241m7\u001b[39m])\n\u001b[0;32m      3\u001b[0m D2 \u001b[38;5;241m=\u001b[39m lugares(datos, R2[\u001b[38;5;241m0\u001b[39m], R2[\u001b[38;5;241m1\u001b[39m], R2[\u001b[38;5;241m2\u001b[39m], R2[\u001b[38;5;241m3\u001b[39m], R2[\u001b[38;5;241m4\u001b[39m], R2[\u001b[38;5;241m5\u001b[39m], R2[\u001b[38;5;241m6\u001b[39m], R2[\u001b[38;5;241m7\u001b[39m])\n\u001b[0;32m      4\u001b[0m D1, D2\n",
      "\u001b[1;31mTypeError\u001b[0m: 'list' object is not callable"
     ]
    }
   ],
   "source": [
    "lugares = ['Tijuana', 'Mérida', 'GDL', 'México', 'León', 'Monterrey', 'Tapachula', 'Chihuahua']\n",
    "D1 = lugares(datos, R1[0], R1[1], R1[2], R1[3], R1[4], R1[5], R1[6], R1[7])\n",
    "D2 = lugares(datos, R2[0], R2[1], R2[2], R2[3], R2[4], R2[5], R2[6], R2[7])\n",
    "D1, D2"
   ]
  },
  {
   "cell_type": "code",
   "execution_count": null,
   "id": "b8c4b5a3-783a-4f6f-bbcd-15d7f1e72906",
   "metadata": {},
   "outputs": [],
   "source": []
  }
 ],
 "metadata": {
  "kernelspec": {
   "display_name": "Python 3 (ipykernel)",
   "language": "python",
   "name": "python3"
  },
  "language_info": {
   "codemirror_mode": {
    "name": "ipython",
    "version": 3
   },
   "file_extension": ".py",
   "mimetype": "text/x-python",
   "name": "python",
   "nbconvert_exporter": "python",
   "pygments_lexer": "ipython3",
   "version": "3.12.4"
  }
 },
 "nbformat": 4,
 "nbformat_minor": 5
}
