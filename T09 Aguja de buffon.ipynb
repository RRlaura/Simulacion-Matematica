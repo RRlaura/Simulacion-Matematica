{
 "cells": [
  {
   "cell_type": "markdown",
   "id": "7cc5fb5c-2efc-4699-9dc9-5254364dc44f",
   "metadata": {},
   "source": [
    "Laura Rodriguez 3-11-24"
   ]
  },
  {
   "cell_type": "markdown",
   "id": "7a4862cd-4875-4be5-ac39-89b3fd8fd1c5",
   "metadata": {},
   "source": [
    "Investiga el problema de la aguja de Buffon.\n",
    "\n",
    "\n",
    "\n"
   ]
  },
  {
   "cell_type": "markdown",
   "id": "2faa61f0-b0f9-4829-abc1-79d3b16969c8",
   "metadata": {},
   "source": [
    "* ¿De qué trata?\n",
    "\n",
    "El problema de la aguja de Buffon busca determinar la probabilidad de que una aguja de longitud 𝑙 lanzada al azar sobre un conjunto de líneas paralelas, con una distancia 𝑑 entre cada línea, cruce alguna de las líneas. Si se lanza la aguja muchas veces, se puede utilizar la frecuencia de cruces para estimar el valor de π.\n",
    "\n",
    "* Explica la solución con cálculo integral usando tus palabras.\n",
    "\n",
    "La variable aleatoria y se distribuye de manera continua (uniforme) entre 0 y t/2, mientras que tetha entre 0 y pi/2. Al tener y y tetha la funcion conjunta es el producto de ambas. Despues se busca la funcion de probabilidad al integrar para ambas variables la funcion de densidad, y si se lanzan n agujas y h cruzan la linea, se despeja pi  \n",
    "\n",
    "* Explica la solución sin cálculo integral usando tus palabras\n",
    "\n",
    "Sin tener que integrar, aquí se tienen que considerar las posiciones posibles en las que la aguja pueda cruzar una linea, suponiendo que la aguja se lanza muchas veces, se puede contar las veces que cruza y ya teniendo eso, se divide el numero de veces que cruza por el total de lanzamientos y así obtenemos una aproximación de la probabilidad, usando los sufif\n",
    "\n",
    "Sin el uso de cálculo integral, se puede entender el problema considerando las posiciones posibles en las que la aguja puede cruzar una línea. Imaginando que se lanza la aguja muchas veces, se pueden contar las veces que cruza una línea y dividir ese número por el total de lanzamientos para aproximar la probabilidad. Con suficientes lanzamientos, se puede estimar π utilizando la fórmula\n",
    "\n",
    "Crea una simulación con numpy donde se arrojen n agujas de longitud l dado que se tiene una distancia d entre cada línea paralela.\n",
    "\n",
    "\n"
   ]
  },
  {
   "cell_type": "code",
   "execution_count": 30,
   "id": "00d1bc68-4a4f-44f5-89fb-34b616ed99a5",
   "metadata": {},
   "outputs": [
    {
     "name": "stdout",
     "output_type": "stream",
     "text": [
      "10000\n",
      "3140\n",
      "3.1847133757961785\n"
     ]
    }
   ],
   "source": [
    "import numpy as np\n",
    "\n",
    "n = 10000  \n",
    "l = 1 \n",
    "d = 2   \n",
    "cruces = 0\n",
    "\n",
    "for i in range(n):\n",
    "    y = np.random.uniform(0, d / 2)\n",
    "    tetha = np.random.uniform(0, np.pi / 2)\n",
    "    \n",
    "    distancia = (l / 2) * np.sin(tetha)\n",
    "    \n",
    "    if y <= distancia:\n",
    "        cruces += 1\n",
    "\n",
    "#fórmula de Buffon\n",
    "if cruces > 0:\n",
    "    pi = (2 * l * n) / (d * cruces)\n",
    "else:\n",
    "    pi = None  \n",
    "\n",
    "print(n)\n",
    "print(cruces)\n",
    "if pi:\n",
    "    print(pi)\n",
    "else:\n",
    "    print(\"No se obtuvieron cruces\")\n"
   ]
  },
  {
   "cell_type": "markdown",
   "id": "df95a377-3c23-4752-8833-f463ab0f38b2",
   "metadata": {},
   "source": [
    "* ¿Qué variables aleatorias hay en este caso?\n",
    "\n",
    "La y de la posición del centro de la aguja y tetha del ángulo que forma la aguja \n",
    "\n",
    "* ¿Qué distribución siguen?\n",
    "  \n",
    "Ambas siguen una distribución uniforme\n",
    "\n",
    "* ¿Cómo evoluciona el resultado contra la cantidad de agujas que se usa?\n",
    "\n",
    "Que a medida que aumentamos n, la estimación de pi se aproxima a su valor real\n"
   ]
  },
  {
   "cell_type": "markdown",
   "id": "1ba1ad7e-515b-47ef-997a-fa0701b98bdd",
   "metadata": {},
   "source": [
    "Referencias\n",
    "\n",
    "https://www.estadisticaparatodos.es/taller/buffon/buffon.html\n",
    "\n",
    "https://es.wikipedia.org/wiki/Aguja_de_Buffon"
   ]
  },
  {
   "cell_type": "code",
   "execution_count": null,
   "id": "acda7bd3-82a3-4fca-8895-8af68d527b0d",
   "metadata": {},
   "outputs": [],
   "source": [
    "\n"
   ]
  }
 ],
 "metadata": {
  "kernelspec": {
   "display_name": "Python 3 (ipykernel)",
   "language": "python",
   "name": "python3"
  },
  "language_info": {
   "codemirror_mode": {
    "name": "ipython",
    "version": 3
   },
   "file_extension": ".py",
   "mimetype": "text/x-python",
   "name": "python",
   "nbconvert_exporter": "python",
   "pygments_lexer": "ipython3",
   "version": "3.12.4"
  }
 },
 "nbformat": 4,
 "nbformat_minor": 5
}
