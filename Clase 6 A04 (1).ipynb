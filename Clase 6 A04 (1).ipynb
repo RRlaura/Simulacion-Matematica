{
 "cells": [
  {
   "cell_type": "markdown",
   "id": "360db2d3-f1ba-4e93-bc28-0fc5f36c2ac1",
   "metadata": {},
   "source": [
    "Laura Rodriguez 29-08-24"
   ]
  },
  {
   "cell_type": "markdown",
   "id": "b3012ee9-252a-472d-9fa3-21c469894401",
   "metadata": {},
   "source": [
    "1. Utiliza sympy y encuentra los valores de las incógnitas que hagan que los siguientes sistemas de ecuaciones sean verdaderos:"
   ]
  },
  {
   "cell_type": "markdown",
   "id": "3cb51d57-20cb-4cf4-bad9-0c884a3ba7ca",
   "metadata": {},
   "source": [
    "$$ x + y = 10 $$\n",
    "\n",
    "$$ x - y = 2 $$"
   ]
  },
  {
   "cell_type": "code",
   "execution_count": 14,
   "id": "c21a4baa-6bfd-4849-862e-991173a9c99b",
   "metadata": {},
   "outputs": [
    {
     "data": {
      "text/plain": [
       "(6, 4)"
      ]
     },
     "execution_count": 14,
     "metadata": {},
     "output_type": "execute_result"
    }
   ],
   "source": [
    "import sympy as sp\n",
    "sp.var(\"x\")\n",
    "sp.var(\"y\")\n",
    "\n",
    "eq1 = x + y - 10\n",
    "eq2 = x - y - 2\n",
    "\n",
    "x_eq1 = sp.solve(eq1, x)[0]\n",
    "x_eq1\n",
    "\n",
    "y_eq2 = eq2.subs(x, x_eq1)\n",
    "\n",
    "y_sol = sp.solve(y_eq2, y)[0]\n",
    "\n",
    "x_sol = x_eq1.subs(y, y_sol)\n",
    "x_sol, y_sol"
   ]
  },
  {
   "cell_type": "markdown",
   "id": "122aa90b-ac25-4be1-8fbe-12371bf6282f",
   "metadata": {},
   "source": [
    "$$ \\frac {3x-2y}{3} + 4y = \\frac {13}{3} $$\n",
    "\n",
    "$$ \\frac {2(-2y+x)}{3}-\\frac {3x}{2} = -\\frac {13}{6} $$"
   ]
  },
  {
   "cell_type": "code",
   "execution_count": 113,
   "id": "a1dbe347-18ee-497b-bb27-0be0459dcdd1",
   "metadata": {},
   "outputs": [
    {
     "data": {
      "text/plain": [
       "(0.245283018867924, 1.22641509433962)"
      ]
     },
     "execution_count": 113,
     "metadata": {},
     "output_type": "execute_result"
    }
   ],
   "source": [
    "import sympy as sp\n",
    "sp.var(\"x\")\n",
    "sp.var(\"y\")\n",
    "\n",
    "eq1 = (3*x-2*y)/3 + 4*y - 13/3\n",
    "eq2 = -2*(2*y+x)/3 - 3*x/2 + 13/6\n",
    "\n",
    "x_eq1 = sp.solve(eq1, x)[0]\n",
    "x_eq1\n",
    "\n",
    "y_eq2 = eq2.subs(x, x_eq1)\n",
    "\n",
    "y_sol = sp.solve(y_eq2, y)[0]\n",
    "\n",
    "x_sol = x_eq1.subs(y, y_sol)\n",
    "x_sol, y_sol\n"
   ]
  },
  {
   "cell_type": "markdown",
   "id": "47182f05-64c6-4626-b0ba-4c4bf22102a2",
   "metadata": {},
   "source": [
    "$$ x^2-2y = 16 $$\n",
    "$$ x-y = 3 $$"
   ]
  },
  {
   "cell_type": "code",
   "execution_count": 90,
   "id": "262fe656-8aaf-4b65-a016-83b7e3f900c3",
   "metadata": {},
   "outputs": [
    {
     "data": {
      "text/plain": [
       "(1 - sqrt(11), 1 + sqrt(11), -sqrt(11) - 2, -2 + sqrt(11))"
      ]
     },
     "execution_count": 90,
     "metadata": {},
     "output_type": "execute_result"
    }
   ],
   "source": [
    "import sympy as sp\n",
    "sp.var(\"x\")\n",
    "sp.var(\"y\")\n",
    "\n",
    "eq1 = x**2 - 2*y - 16\n",
    "eq2 = x - y - 3\n",
    "\n",
    "solucion1 = sp.solve(eq1, x)\n",
    "solucion2 = sp.solve(eq2, y)\n",
    "\n",
    "x1, y1 = solucion[0]\n",
    "x2, y2 = solucion[1]\n",
    "\n",
    "x1, x2, y1, y2"
   ]
  },
  {
   "cell_type": "markdown",
   "id": "bb3014e7-d46a-4c99-b007-c98914baddf4",
   "metadata": {},
   "source": [
    "$$ x+y-z = 10 $$\n",
    "$$ x-y = 2 $$\n",
    "$$ y+z = -2 $$"
   ]
  },
  {
   "cell_type": "code",
   "execution_count": null,
   "id": "8eef2402-c613-4925-bf54-c6f0951eccc1",
   "metadata": {},
   "outputs": [],
   "source": [
    "import sympy as sp\n",
    "sp.var(\"x\")\n",
    "sp.var(\"y\")\n",
    "sp.var(\"z\")\n",
    "\n",
    "eq1 = x + y - z - 10\n",
    "eq2 = x - y - 2\n",
    "eq3 = y + z + 2"
   ]
  },
  {
   "cell_type": "markdown",
   "id": "64c60401-ac86-414a-9d49-9e4a733f64e7",
   "metadata": {},
   "source": [
    "2. Encuentra los puntos críticos usando cálculo diferencial, decide si son máximos o mínimos usando el criterio de la segunda derivada, y grafica para decidir se son óptimos locales o globales:"
   ]
  },
  {
   "cell_type": "markdown",
   "id": "377f51d1-dec8-4749-a26e-521196763f5c",
   "metadata": {},
   "source": [
    "$$ f(x) = 1235 + 113x - 6x^2 $$"
   ]
  },
  {
   "cell_type": "code",
   "execution_count": 142,
   "id": "fe5b97a9-63df-4ddf-8c41-466fa330201f",
   "metadata": {},
   "outputs": [
    {
     "ename": "SympifyError",
     "evalue": "SympifyError: [113/12]",
     "output_type": "error",
     "traceback": [
      "\u001b[1;31m---------------------------------------------------------------------------\u001b[0m",
      "\u001b[1;31mSympifyError\u001b[0m                              Traceback (most recent call last)",
      "Cell \u001b[1;32mIn[142], line 13\u001b[0m\n\u001b[0;32m      9\u001b[0m pc \u001b[38;5;241m=\u001b[39m sp\u001b[38;5;241m.\u001b[39msolve(d1f, x)\n\u001b[0;32m     11\u001b[0m d2f \u001b[38;5;241m=\u001b[39m sp\u001b[38;5;241m.\u001b[39mdiff(d1f, x)\n\u001b[1;32m---> 13\u001b[0m segder \u001b[38;5;241m=\u001b[39m d2f\u001b[38;5;241m.\u001b[39msubs(x, pc)\n\u001b[0;32m     15\u001b[0m \u001b[38;5;28;01mif\u001b[39;00m segder \u001b[38;5;241m>\u001b[39m \u001b[38;5;241m0\u001b[39m:\n\u001b[0;32m     16\u001b[0m     clasificacion \u001b[38;5;241m=\u001b[39m \u001b[38;5;124m'\u001b[39m\u001b[38;5;124mmínimo\u001b[39m\u001b[38;5;124m'\u001b[39m\n",
      "File \u001b[1;32m~\\anaconda3\\Lib\\site-packages\\sympy\\core\\basic.py:991\u001b[0m, in \u001b[0;36mBasic.subs\u001b[1;34m(self, *args, **kwargs)\u001b[0m\n\u001b[0;32m    988\u001b[0m     \u001b[38;5;28;01melse\u001b[39;00m:\n\u001b[0;32m    989\u001b[0m         \u001b[38;5;28;01mreturn\u001b[39;00m sympify(new, strict\u001b[38;5;241m=\u001b[39m\u001b[38;5;28;01mTrue\u001b[39;00m)\n\u001b[1;32m--> 991\u001b[0m sequence \u001b[38;5;241m=\u001b[39m [(sympify_old(s1), sympify_new(s2)) \u001b[38;5;28;01mfor\u001b[39;00m s1, s2 \u001b[38;5;129;01min\u001b[39;00m sequence]\n\u001b[0;32m    993\u001b[0m \u001b[38;5;66;03m# skip if there is no change\u001b[39;00m\n\u001b[0;32m    994\u001b[0m sequence \u001b[38;5;241m=\u001b[39m [(s1, s2) \u001b[38;5;28;01mfor\u001b[39;00m s1, s2 \u001b[38;5;129;01min\u001b[39;00m sequence \u001b[38;5;28;01mif\u001b[39;00m \u001b[38;5;129;01mnot\u001b[39;00m _aresame(s1, s2)]\n",
      "File \u001b[1;32m~\\anaconda3\\Lib\\site-packages\\sympy\\core\\basic.py:989\u001b[0m, in \u001b[0;36mBasic.subs.<locals>.sympify_new\u001b[1;34m(new)\u001b[0m\n\u001b[0;32m    987\u001b[0m     \u001b[38;5;28;01mreturn\u001b[39;00m sympify(new, strict\u001b[38;5;241m=\u001b[39m\u001b[38;5;28;01mFalse\u001b[39;00m)\n\u001b[0;32m    988\u001b[0m \u001b[38;5;28;01melse\u001b[39;00m:\n\u001b[1;32m--> 989\u001b[0m     \u001b[38;5;28;01mreturn\u001b[39;00m sympify(new, strict\u001b[38;5;241m=\u001b[39m\u001b[38;5;28;01mTrue\u001b[39;00m)\n",
      "File \u001b[1;32m~\\anaconda3\\Lib\\site-packages\\sympy\\core\\sympify.py:449\u001b[0m, in \u001b[0;36msympify\u001b[1;34m(a, locals, convert_xor, strict, rational, evaluate)\u001b[0m\n\u001b[0;32m    446\u001b[0m                 \u001b[38;5;28;01mcontinue\u001b[39;00m\n\u001b[0;32m    448\u001b[0m \u001b[38;5;28;01mif\u001b[39;00m strict:\n\u001b[1;32m--> 449\u001b[0m     \u001b[38;5;28;01mraise\u001b[39;00m SympifyError(a)\n\u001b[0;32m    451\u001b[0m \u001b[38;5;28;01mif\u001b[39;00m iterable(a):\n\u001b[0;32m    452\u001b[0m     \u001b[38;5;28;01mtry\u001b[39;00m:\n",
      "\u001b[1;31mSympifyError\u001b[0m: SympifyError: [113/12]"
     ]
    }
   ],
   "source": [
    "import sympy as sp\n",
    "import matplotlib.pyplot as plt\n",
    "import numpy as np\n",
    "sp.var(\"x\")\n",
    "f = 1235 + 113*x - 6*x**2\n",
    "\n",
    "d1f = sp.diff(f, x)\n",
    "\n",
    "pc = sp.solve(d1f, x)\n",
    "\n",
    "d2f = sp.diff(d1f, x)\n",
    "\n",
    "segder = d2f.subs(x, pc)\n",
    "\n",
    "if segder > 0:\n",
    "    clasificacion = 'mínimo'\n",
    "elif segder < 0:\n",
    "    clasificacion = 'máximo'\n",
    "else:\n",
    "    clasificacion = 'indefinido'\n",
    "    \n"
   ]
  },
  {
   "cell_type": "code",
   "execution_count": null,
   "id": "e3330a8d-e810-4f1a-9168-c9e89909bee6",
   "metadata": {},
   "outputs": [],
   "source": []
  },
  {
   "cell_type": "code",
   "execution_count": null,
   "id": "42272b97-59be-4e47-90b3-7689d93f74b9",
   "metadata": {},
   "outputs": [],
   "source": []
  },
  {
   "cell_type": "code",
   "execution_count": null,
   "id": "13ccbadc-b7d1-48e2-8dfc-6375a5397ed7",
   "metadata": {},
   "outputs": [],
   "source": []
  },
  {
   "cell_type": "code",
   "execution_count": null,
   "id": "8f5efaf8-228b-4305-b364-f9118ee31d8b",
   "metadata": {},
   "outputs": [],
   "source": []
  },
  {
   "cell_type": "code",
   "execution_count": null,
   "id": "b14292f0-fc35-4abc-a319-2611d902c2a6",
   "metadata": {},
   "outputs": [],
   "source": []
  }
 ],
 "metadata": {
  "kernelspec": {
   "display_name": "Python 3 (ipykernel)",
   "language": "python",
   "name": "python3"
  },
  "language_info": {
   "codemirror_mode": {
    "name": "ipython",
    "version": 3
   },
   "file_extension": ".py",
   "mimetype": "text/x-python",
   "name": "python",
   "nbconvert_exporter": "python",
   "pygments_lexer": "ipython3",
   "version": "3.12.4"
  }
 },
 "nbformat": 4,
 "nbformat_minor": 5
}
