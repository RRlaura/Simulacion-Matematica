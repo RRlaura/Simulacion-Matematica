{
 "cells": [
  {
   "cell_type": "markdown",
   "id": "360db2d3-f1ba-4e93-bc28-0fc5f36c2ac1",
   "metadata": {},
   "source": [
    "Laura Rodriguez 29-08-24"
   ]
  },
  {
   "cell_type": "markdown",
   "id": "b3012ee9-252a-472d-9fa3-21c469894401",
   "metadata": {},
   "source": [
    "1. Utiliza sympy y encuentra los valores de las incógnitas que hagan que los siguientes sistemas de ecuaciones sean verdaderos:"
   ]
  },
  {
   "cell_type": "markdown",
   "id": "3cb51d57-20cb-4cf4-bad9-0c884a3ba7ca",
   "metadata": {},
   "source": [
    "$$ x + y = 10 $$\n",
    "\n",
    "$$ x - y = 2 $$"
   ]
  },
  {
   "cell_type": "code",
   "execution_count": 14,
   "id": "c21a4baa-6bfd-4849-862e-991173a9c99b",
   "metadata": {},
   "outputs": [
    {
     "data": {
      "text/plain": [
       "(6, 4)"
      ]
     },
     "execution_count": 14,
     "metadata": {},
     "output_type": "execute_result"
    }
   ],
   "source": [
    "import sympy as sp\n",
    "sp.var(\"x\")\n",
    "sp.var(\"y\")\n",
    "\n",
    "eq1 = x + y - 10\n",
    "eq2 = x - y - 2\n",
    "\n",
    "x_eq1 = sp.solve(eq1, x)[0]\n",
    "x_eq1\n",
    "\n",
    "y_eq2 = eq2.subs(x, x_eq1)\n",
    "\n",
    "y_sol = sp.solve(y_eq2, y)[0]\n",
    "\n",
    "x_sol = x_eq1.subs(y, y_sol)\n",
    "x_sol, y_sol"
   ]
  },
  {
   "cell_type": "markdown",
   "id": "122aa90b-ac25-4be1-8fbe-12371bf6282f",
   "metadata": {},
   "source": [
    "$$ \\frac {3x-2y}{3} + 4y = \\frac {13}{3} $$\n",
    "\n",
    "$$ \\frac {2(-2y+x)}{3}-\\frac {3x}{2} = -\\frac {13}{6} $$"
   ]
  },
  {
   "cell_type": "code",
   "execution_count": 113,
   "id": "a1dbe347-18ee-497b-bb27-0be0459dcdd1",
   "metadata": {},
   "outputs": [
    {
     "data": {
      "text/plain": [
       "(0.245283018867924, 1.22641509433962)"
      ]
     },
     "execution_count": 113,
     "metadata": {},
     "output_type": "execute_result"
    }
   ],
   "source": [
    "import sympy as sp\n",
    "sp.var(\"x\")\n",
    "sp.var(\"y\")\n",
    "\n",
    "eq1 = (3*x-2*y)/3 + 4*y - 13/3\n",
    "eq2 = -2*(2*y+x)/3 - 3*x/2 + 13/6\n",
    "\n",
    "x_eq1 = sp.solve(eq1, x)[0]\n",
    "x_eq1\n",
    "\n",
    "y_eq2 = eq2.subs(x, x_eq1)\n",
    "\n",
    "y_sol = sp.solve(y_eq2, y)[0]\n",
    "\n",
    "x_sol = x_eq1.subs(y, y_sol)\n",
    "x_sol, y_sol\n"
   ]
  },
  {
   "cell_type": "markdown",
   "id": "47182f05-64c6-4626-b0ba-4c4bf22102a2",
   "metadata": {},
   "source": [
    "$$ x^2-2y = 16 $$\n",
    "$$ x-y = 3 $$"
   ]
  },
  {
   "cell_type": "code",
   "execution_count": 90,
   "id": "262fe656-8aaf-4b65-a016-83b7e3f900c3",
   "metadata": {},
   "outputs": [
    {
     "data": {
      "text/plain": [
       "(1 - sqrt(11), 1 + sqrt(11), -sqrt(11) - 2, -2 + sqrt(11))"
      ]
     },
     "execution_count": 90,
     "metadata": {},
     "output_type": "execute_result"
    }
   ],
   "source": [
    "import sympy as sp\n",
    "sp.var(\"x\")\n",
    "sp.var(\"y\")\n",
    "\n",
    "eq1 = x**2 - 2*y - 16\n",
    "eq2 = x - y - 3\n",
    "\n",
    "solucion1 = sp.solve(eq1, x)\n",
    "solucion2 = sp.solve(eq2, y)\n",
    "\n",
    "x1, y1 = solucion[0]\n",
    "x2, y2 = solucion[1]\n",
    "\n",
    "x1, x2, y1, y2"
   ]
  },
  {
   "cell_type": "markdown",
   "id": "bb3014e7-d46a-4c99-b007-c98914baddf4",
   "metadata": {},
   "source": [
    "$$ x+y-z = 10 $$\n",
    "$$ x-y = 2 $$\n",
    "$$ y+z = -2 $$"
   ]
  },
  {
   "cell_type": "code",
   "execution_count": 35,
   "id": "8eef2402-c613-4925-bf54-c6f0951eccc1",
   "metadata": {},
   "outputs": [
    {
     "data": {
      "text/plain": [
       "([-y + z + 10], [x - 2], [-y - 2])"
      ]
     },
     "execution_count": 35,
     "metadata": {},
     "output_type": "execute_result"
    }
   ],
   "source": [
    "import sympy as sp\n",
    "sp.var(\"x\")\n",
    "sp.var(\"y\")\n",
    "sp.var(\"z\")\n",
    "\n",
    "eq1 = x + y - z - 10\n",
    "eq2 = x - y - 2\n",
    "eq3 = y + z + 2\n",
    "\n",
    "solx = sp.solve(eq1, x)  \n",
    "soly = sp.solve(eq2, y)  \n",
    "solz = sp.solve(eq3, z)\n",
    "\n",
    "solx, soly, solz"
   ]
  },
  {
   "cell_type": "code",
   "execution_count": 33,
   "id": "66e34b22-4cf3-42cb-ace6-1de72f5e2a22",
   "metadata": {},
   "outputs": [
    {
     "data": {
      "text/plain": [
       "{x: 4, y: 2, z: -4}"
      ]
     },
     "execution_count": 33,
     "metadata": {},
     "output_type": "execute_result"
    }
   ],
   "source": [
    "sol = sp.solve([eq1, eq2, eq3], (x, y, z))\n",
    "sol"
   ]
  },
  {
   "cell_type": "markdown",
   "id": "64c60401-ac86-414a-9d49-9e4a733f64e7",
   "metadata": {},
   "source": [
    "2. Encuentra los puntos críticos usando cálculo diferencial, decide si son máximos o mínimos usando el criterio de la segunda derivada, y grafica para decidir se son óptimos locales o globales:"
   ]
  },
  {
   "cell_type": "markdown",
   "id": "377f51d1-dec8-4749-a26e-521196763f5c",
   "metadata": {},
   "source": [
    "$$ f(x) = 1235 + 113x - 6x^2 $$"
   ]
  },
  {
   "cell_type": "code",
   "execution_count": 45,
   "id": "e3330a8d-e810-4f1a-9168-c9e89909bee6",
   "metadata": {},
   "outputs": [
    {
     "name": "stdout",
     "output_type": "stream",
     "text": [
      "El punto crítico se encuentra en: 113/12\n",
      "El punto crítico es un máximo global: -12\n"
     ]
    },
    {
     "data": {
      "image/png": "[encoded data removed]",
      "text/plain": [
       "<Figure size 640x480 with 1 Axes>"
      ]
     },
     "metadata": {},
     "output_type": "display_data"
    }
   ],
   "source": [
    "import sympy as sp\n",
    "import matplotlib.pyplot as plt\n",
    "import numpy as np\n",
    "sp.var('x')\n",
    "def f(x):\n",
    "    return 1235 + 113*x - 6*x**2\n",
    "\n",
    "dx = sp.diff(f(x), x)\n",
    "\n",
    "pc = sp.solve(dx, x)\n",
    "print(\"El punto crítico se encuentra en: \" + str(pc[0]))\n",
    "\n",
    "e_d2x = sp.diff(dx, x)\n",
    "\n",
    "d2x = d2x.subs(x, pc[0])\n",
    "\n",
    "if e_d2x > 0:\n",
    "    print(\"El punto crítico es un mínimo global: \" + str(evaluacion_d2x))\n",
    "else:\n",
    "    print(\"El punto crítico es un máximo global: \" + str(evaluacion_d2x))\n",
    "z_vals = np.linspace(-25, 40, 1000)\n",
    "plt.plot(z_vals, [f(z) for z in z_vals])\n",
    "plt.plot(pc[0], f(pc[0]), 'r.', markersize=8)\n",
    "plt.grid()"
   ]
  },
  {
   "cell_type": "markdown",
   "id": "66cd4885-9495-4fb5-852a-8bc37ea47668",
   "metadata": {},
   "source": [
    "$$ f(x) = -3+x+ \\frac {\\pi}{x}, para x>0 $$"
   ]
  },
  {
   "cell_type": "code",
   "execution_count": 41,
   "id": "8f5efaf8-228b-4305-b364-f9118ee31d8b",
   "metadata": {},
   "outputs": [
    {
     "name": "stdout",
     "output_type": "stream",
     "text": [
      "El punto crítico está en:-1.77245385090552\n"
     ]
    },
    {
     "data": {
      "text/plain": [
       "[<matplotlib.lines.Line2D at 0x194480784a0>]"
      ]
     },
     "execution_count": 41,
     "metadata": {},
     "output_type": "execute_result"
    },
    {
     "data": {
      "image/png": "[encoded data removed]",
      "text/plain": [
       "<Figure size 600x300 with 1 Axes>"
      ]
     },
     "metadata": {},
     "output_type": "display_data"
    }
   ],
   "source": [
    "import sympy as sp\n",
    "import matplotlib.pyplot as plt\n",
    "import numpy as np\n",
    "sp.var(\"x\")\n",
    "\n",
    "def f(x): \n",
    "    return -3 + x + (np.pi/x)\n",
    "\n",
    "df1 = sp.diff(f(x), x)\n",
    "pc = sp.solve(df1, x)\n",
    "\n",
    "\n",
    "x = np.linspace(0.1, 10, 1000)\n",
    "print(\"El punto crítico está en:\" + str(pc[0]))\n",
    "plt.figure(figsize=(6, 3))\n",
    "plt.plot(x, f(x))\n",
    "plt.grid()\n",
    "plt.plot(2, f(2), \"r.\", ms=20)"
   ]
  },
  {
   "cell_type": "markdown",
   "id": "ab439d5a-aebb-4f37-a58e-ba4bdb36bb36",
   "metadata": {},
   "source": [
    "$$ 2 - 3x + \\sqrt{8-2x^2} -- para -2 ≤ x ≤ 2 $$ "
   ]
  },
  {
   "cell_type": "code",
   "execution_count": 55,
   "id": "b14292f0-fc35-4abc-a319-2611d902c2a6",
   "metadata": {},
   "outputs": [
    {
     "name": "stdout",
     "output_type": "stream",
     "text": [
      "El punto crítico en x = -1.80906806746658 es un máximo global.\n"
     ]
    },
    {
     "data": {
      "text/plain": [
       "[<matplotlib.lines.Line2D at 0x194481004d0>]"
      ]
     },
     "execution_count": 55,
     "metadata": {},
     "output_type": "execute_result"
    },
    {
     "data": {
      "image/png": "[encoded data removed]",
      "text/plain": [
       "<Figure size 600x300 with 1 Axes>"
      ]
     },
     "metadata": {},
     "output_type": "display_data"
    }
   ],
   "source": [
    "import sympy as sp\n",
    "import numpy as np\n",
    "import matplotlib.pyplot as plt\n",
    "sp.var(\"x\")\n",
    "\n",
    "def f(x): \n",
    "    return 2 - 3*x + (8 - 2*x**2)**0.5\n",
    "\n",
    "df1 = sp.diff(f(x), x)\n",
    "\n",
    "pc = sp.solve(df1, x)\n",
    "\n",
    "d2y = sp.diff(df1, x)\n",
    "d2y_evaluado = d2y.subs(x, pc[0])\n",
    "if d2y_evaluado > 0:\n",
    "    print(\"El punto crítico en x =\", pc[0], \"es un mínimo global.\")\n",
    "else:\n",
    "    print(\"El punto crítico en x =\", pc[0], \"es un máximo global.\")\n",
    "\n",
    "x_vals = np.linspace(-2, 2, 1000)\n",
    "\n",
    "plt.figure(figsize=(6, 3))\n",
    "plt.plot(x_vals, f(x_vals))\n",
    "plt.grid()\n",
    "plt.plot(pc[0], f(pc[0]), \"r.\", ms=10)\n",
    "\n"
   ]
  },
  {
   "cell_type": "markdown",
   "id": "0dd53ccd-20b4-4e75-b2c3-3e3db381eeb0",
   "metadata": {},
   "source": [
    "$$ \\frac{1}{4}x^4 + \\frac{1}{3}x^3 - x^2 en |-3, 1.7| $$"
   ]
  },
  {
   "cell_type": "code",
   "execution_count": 80,
   "id": "f6e7e4f6-0fe4-432e-80f7-2df3e5d12630",
   "metadata": {},
   "outputs": [
    {
     "name": "stdout",
     "output_type": "stream",
     "text": [
      "El punto crítico es un mínimo.\n",
      "El punto crítico está en:  -2.00000000000000\n"
     ]
    },
    {
     "data": {
      "text/plain": [
       "[<matplotlib.lines.Line2D at 0x19447e5ec60>]"
      ]
     },
     "execution_count": 80,
     "metadata": {},
     "output_type": "execute_result"
    },
    {
     "data": {
      "image/png": "[encoded data removed]",
      "text/plain": [
       "<Figure size 600x400 with 1 Axes>"
      ]
     },
     "metadata": {},
     "output_type": "display_data"
    }
   ],
   "source": [
    "import sympy as sp\n",
    "import numpy as np\n",
    "import matplotlib.pyplot as plt\n",
    "sp.var(\"x\")\n",
    "\n",
    "def f(x): \n",
    "    return (1/4)*x**4 + (1/3)*x**3 - x**2\n",
    "\n",
    "df1 = sp.diff(f(x), x)\n",
    "\n",
    "pc = sp.solve(df1, x)\n",
    "\n",
    "d2y = sp.diff(df1, x)\n",
    "d2y_evaluado = d2y.subs(x, pc[0])\n",
    "\n",
    "if d2y_evaluado > 0:\n",
    "    print(\"El punto crítico es un mínimo.\")\n",
    "else:\n",
    "    print(\"El punto crítico es un máximo.\")\n",
    "\n",
    "print(\"El punto crítico está en: \", pc[0])\n",
    "x = np.linspace(-3, 1.7, 1000)\n",
    "#f_numeric = sp.lambdify(x, f(x), \"numpy\") #convierte la funcion inicial en una funcion que se pueda evaluar numericamente\n",
    "#y_vals = f_numeric(x_vals)\n",
    "\n",
    "plt.figure(figsize=(6, 4))\n",
    "plt.plot(x, f(x))\n",
    "plt.grid()\n",
    "plt.plot(float(pc[0]), f_numeric(float(pc[0])), 'r.')"
   ]
  },
  {
   "cell_type": "code",
   "execution_count": null,
   "id": "320c1539-693e-45dd-be88-0014de617e65",
   "metadata": {},
   "outputs": [],
   "source": []
  }
 ],
 "metadata": {
  "kernelspec": {
   "display_name": "Python 3 (ipykernel)",
   "language": "python",
   "name": "python3"
  },
  "language_info": {
   "codemirror_mode": {
    "name": "ipython",
    "version": 3
   },
   "file_extension": ".py",
   "mimetype": "text/x-python",
   "name": "python",
   "nbconvert_exporter": "python",
   "pygments_lexer": "ipython3",
   "version": "3.12.4"
  }
 },
 "nbformat": 4,
 "nbformat_minor": 5
}
