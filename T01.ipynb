{
 "cells": [
  {
   "cell_type": "markdown",
   "id": "89fd5c4a-e59b-4aca-ac4f-5da2df97e902",
   "metadata": {},
   "source": [
    "Laura Rodriguez 12/08/2024"
   ]
  },
  {
   "cell_type": "markdown",
   "id": "a2715030-f7c8-45a8-9b62-d35cfccdbc8c",
   "metadata": {},
   "source": [
    "# ¿Qué es la computación cuántica? "
   ]
  },
  {
   "cell_type": "markdown",
   "id": "6ae61fd4-3a64-425b-9ea6-a7415461010a",
   "metadata": {},
   "source": [
    "La **computación cuántica** es un campo multidisciplinario que aúna aspectos de ciencias de la computación, física y matemáticas y utiliza mecánicas cuánticas para resolver problemas complejos más rápido que las computadoras clásicas. El campo de la computación cuántica incluye investigación de hardware y desarrollo de aplicaciones. Las computadoras cuánticas son capaces de resolver ciertos tipos de problemas más rápido que las computadoras clásicas, ya que sacan partido de los efectos de la mecánica cuántica, como la superposición y la interferencia cuántica. Algunas aplicaciones en las que las computadoras cuánticas pueden brindar dicho impulso de velocidad son el machine learning (ML), la optimización y la simulación de sistemas físicos. Entre los casos de uso eventuales se incluyen la optimización de la cartera en finanzas o la simulación de sistemas químicos; en definitiva, la solución de problemas que actualmente no pueden abordar ni las supercomputadoras más potentes del mercado."
   ]
  },
  {
   "cell_type": "markdown",
   "id": "200295ee-5dd3-4dd9-8764-40b083c90550",
   "metadata": {},
   "source": [
    "# ¿Qué es un cúbit?\n"
   ]
  },
  {
   "cell_type": "markdown",
   "id": "601bc4ed-2dab-4e81-bae9-af0c2c54eb41",
   "metadata": {},
   "source": [
    "Los **bits cuánticos, o cúbits,** están representados por partículas cuánticas. La manipulación de cúbits por dispositivos de control es el núcleo del poder de procesamiento de una computadora cuántica. Los cúbits en las computadoras cuánticas son análogos a los bits en las computadoras clásicas. En esencia, el procesador de una máquina clásica hace todo su trabajo manipulando bits. De manera similar, el procesador cuántico hace todo su trabajo procesando cúbits.\n"
   ]
  },
  {
   "cell_type": "markdown",
   "id": "8c7959b9-a2b4-41e4-a653-c4cd47740065",
   "metadata": {},
   "source": [
    "#### ¿En qué se diferencian los cúbits de los bits clásicos?\n"
   ]
  },
  {
   "cell_type": "markdown",
   "id": "be3cef5d-1919-4fad-a375-eef858b23a81",
   "metadata": {},
   "source": [
    "*En la computación clásica, un bit es una señal electrónica que está encendida o apagada.* El valor del bit clásico puede ser uno (encendido) o cero (apagado). Sin embargo, debido a que el cúbit se basa en las leyes de la mecánica cuántica, se puede colocar en una superposición de estados."
   ]
  },
  {
   "cell_type": "markdown",
   "id": "ef6fa1d2-9aa3-4b4d-8978-44e2e22ef4d8",
   "metadata": {},
   "source": [
    "# ¿Cuáles son los principios de la computación cuántica?\n"
   ]
  },
  {
   "cell_type": "markdown",
   "id": "22322e93-5507-46fd-9384-b1f86e41e261",
   "metadata": {},
   "source": [
    "Una computadora cuántica funciona usando principios cuánticos. Los principios cuánticos requieren un nuevo diccionario de términos para comprenderlos por completo, términos que incluyen superposición, entrelazamiento y decoherencia. Vamos a entender estos principios a continuación.\n",
    "* #### Superposición:\n",
    "La superposición establece que, al igual que las ondas en la física clásica, puede agregar dos o más estados cuánticos y el resultado será otro estado cuántico válido. Por el contrario, también puede representar cada estado cuántico como una suma de dos o más estados distintos. Esta superposición de cúbits le da a las computadoras cuánticas su paralelismo inherente, permitiéndoles procesar millones de operaciones simultáneamente.\n",
    "* #### Entrelazamiento:\n",
    "El entrelazamiento cuántico ocurre cuando dos sistemas se vinculan tan estrechamente que el conocimiento sobre uno le brinda un conocimiento inmediato sobre el otro, sin importar cuán separados estén. Los procesadores cuánticos pueden sacar conclusiones sobre una partícula midiendo otra. Por ejemplo, pueden determinar que si un bit gira hacia arriba, el otro siempre girará hacia abajo y viceversa. El entrelazamiento cuántico permite que las computadoras cuánticas resuelvan problemas complejos más rápido.\n",
    "Cuando se mide un estado cuántico, la función de onda colapsa y el estado se mide como cero o como uno. En este estado conocido o determinista, el bit actúa como un bit clásico. El entrelazamiento es la capacidad de los cúbits para correlacionar su estado con otros cúbits.\n",
    "* #### Decoherencia:\r",
    "La decoherencia es la pérdida del estado cuántico en un bit. Los factores ambientales, como la radiación, pueden provocar el colapso del estado cuántico de los cúbits. Un gran desafío de ingeniería en la construcción de una computadora cuántica es diseñar las diversas características que intentan retrasar la decoherencia del estado, como la construcción de estructuras especiales que protegen los cúbits de los campos externos."
   ]
  },
  {
   "cell_type": "markdown",
   "id": "9ec1e448-4778-4fe9-b995-5f679f06e32f",
   "metadata": {},
   "source": [
    "# ¿Cuáles son los componentes de una computadora cuántica?\n",
    "\n",
    "\n",
    "1. *Hardware cuántico*\n",
    "2. *Plano de datos cuánticos*\n",
    "3. *Plano de control y medida*\n",
    "4. *Plano del procesador de control y procesador host*\n",
    "5. *Software cuántico*"
   ]
  },
  {
   "cell_type": "markdown",
   "id": "cee6eede-fb09-4933-880a-395808002f2c",
   "metadata": {},
   "source": [
    "# Ecuación Cuántica\n",
    "Las ecuaciones cuánticas son ecuaciones matemáticas que se utilizan para describir el comportamiento de los sistemas cuánticos. Estas ecuaciones se basan en los principios de la mecánica cuántica. La ecuación cuántica más importantes es la ecuación de Schrödinger\n"
   ]
  },
  {
   "cell_type": "markdown",
   "id": "91f8adf7-ff00-4b54-82ad-fac4e427a9ae",
   "metadata": {},
   "source": [
    "## La Ecuación de Schrödinger\n",
    "La ecuación de Schrödinger es una ecuación diferencial parcial que describe la función de onda de un sistema cuántico. \n",
    "\n",
    "$$ HΨ = EΨ $$\n"
   ]
  },
  {
   "cell_type": "markdown",
   "id": "e613f432-24bb-4dc3-aa74-f9af1a6b9b4a",
   "metadata": {},
   "source": [
    "\n",
    "<img src=\"https://miro.medium.com/v2/resize:fit:828/format:webp/0*6DPPzX_H6I3GGAwa.jpg\" alt=\"Descripción de la imagen\" width=\"600\"/>"
   ]
  },
  {
   "cell_type": "code",
   "execution_count": null,
   "id": "35d43852-5904-4c36-9ebc-0a9bf0d73397",
   "metadata": {},
   "outputs": [],
   "source": []
  }
 ],
 "metadata": {
  "kernelspec": {
   "display_name": "Python 3 (ipykernel)",
   "language": "python",
   "name": "python3"
  },
  "language_info": {
   "codemirror_mode": {
    "name": "ipython",
    "version": 3
   },
   "file_extension": ".py",
   "mimetype": "text/x-python",
   "name": "python",
   "nbconvert_exporter": "python",
   "pygments_lexer": "ipython3",
   "version": "3.12.4"
  }
 },
 "nbformat": 4,
 "nbformat_minor": 5
}
