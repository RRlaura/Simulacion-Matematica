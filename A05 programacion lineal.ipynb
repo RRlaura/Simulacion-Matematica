{
 "cells": [
  {
   "cell_type": "markdown",
   "id": "58591f8f-3733-41a5-8af1-b3ed188068b2",
   "metadata": {},
   "source": [
    "Laura Rodriguez 05-09-24"
   ]
  },
  {
   "cell_type": "markdown",
   "id": "3480892a-9df7-4350-a91f-379b2f9088ec",
   "metadata": {},
   "source": [
    "$ Ejercicio  1 $\n",
    "\n",
    "Se quiere producir comida para gatos de la manera más barata, no obstante se debe también asegurar que se cumplan los datos requeridos de analisis nutricional. Por lo que se quiere variar la cantidad de cada ingrediente para cumplir con los estandares nutricionales. Los requisitos que se tienen es que en 100 gramos, se deben tener por lo menos 9 gramos de proteína y  7 gramos de grasa. Así mismo, no se debe tener más de 2.5 gramos de fibra y 0.5 gramos de sal.\n",
    "2\n",
    "\n",
    "Lo que se busca optimizar en este caso es la cantidad de productos que se debe utilizar en la comida de gato, minimizando el costo total."
   ]
  },
  {
   "cell_type": "markdown",
   "id": "fddb8000-07bc-4362-9a0e-970a39cbaa3a",
   "metadata": {},
   "source": [
    "1. Identificar criterio \n",
    "\n",
    "Se quiere minimizar el costo total de la comida de gato\n",
    "\n",
    "2. Variables de control\n",
    "\n",
    "* Cantidad de pollo\n",
    "* Cantidad de Carne\n",
    "* Cantidad de Cordero\n",
    "* Cantidad de Arroz\n",
    "* Cantidad de Trigo\n",
    "* Cantidad de Gel\n",
    "\n",
    "3. funcion de costo\n",
    "$ f(x1, x2, x3, x4, x5, x6) = 0.012x1 + 0.009x2 + 0.010x3 + 0.003x4 + 0.005x5 + 0.002x6 $\n",
    "\n",
    "4. Restricciones\n",
    "\n",
    "* Proteina\n",
    "$ 0.10x1 + 0.20x2 + 0.15x3 + 0.00x4+ 0.04x5 + 0.00x6 \\geq 9 $\n",
    "\n",
    "* Grasa\n",
    "$ 0.08x1 + 0.10x2 + 0.11x3 + 0.01x4 + 0.01x5 + 0.00x6 \\geq 7 $\n",
    "\n",
    "* Fibra \n",
    "$ 0.001x1 + 0.005x2 + 0.005x3 + 0.10x4 + 0.15x5 + 0.00x6 \\leq 2.5 $\n",
    "\n",
    "* Sal\n",
    "$ 0.002x1 + 0.005x2 + 0.007x3 + 0.002x4 + 0.008x5 + 0.00x6 \\leq 0.5 $\n",
    "\n",
    "* Total\n",
    "$ x1 + x2 + x3 + x4 + x5 + x6 \\leq 100 $\n",
    "\n",
    "\n"
   ]
  },
  {
   "cell_type": "markdown",
   "id": "aef65436-83e3-400f-81a0-c4c604c89983",
   "metadata": {},
   "source": [
    "## Ejercicio 2\n",
    "\n",
    "La Comisión Federal de Electricidad (CFE) dispone de cuatro plantas de generación para satisfacer la demanda diaria eléctrica en cuatro ciudades, Guadalajara, León y Morelia. Las plantas 1, 2 y 3 pueden satisfacer 75, 50 y 60 millones de kW al día respectivamente. Las necesidades de las ciudades de Guadalajara, León y Morelia son de 60, 45 y 60 millones de Kw al día respectivamente.\n",
    "\n",
    "Los costos asociados al envío de suministro energético por cada millón de kW entre cada planta y cada ciudad son los registrados en la siguiente tabla."
   ]
  },
  {
   "cell_type": "markdown",
   "id": "2dae5f4f-6093-4e0b-a0e1-b99a7f9cdb83",
   "metadata": {},
   "source": [
    "1. Identificar criterio\n",
    "El criterio es minimizar el costo total de envío de suministro energético desde las plantas de generación hacia las ciudades de Guadalajara, León y Morelia.\n",
    "\n",
    "2. Variables de control en cantidades de energía a plantas\n",
    "\n",
    "* x11 : Desde planta 1 a GDL\n",
    "* x12 : Desde planta 1 a León\n",
    "* x13 : desde planta 1 a Morelina\n",
    "* x21 : desde planta 2 a Gdl\n",
    "* x22 : desde planta 2 a León\n",
    "* x23 : desde planta 2 a Morelia\n",
    "* x31 : desde planta 3 a GDL\n",
    "* x32 : desde planta 3 a León\n",
    "* x33 : desde planta 3 a Morelia\n",
    "\n",
    "3. Función de costo\n",
    "\n",
    "$ Total = 5x11 + 2x12 + 7x13 + 3x21 + 4x22 + 5x23 + 5x31 + 2x32 + 3x33 $\n",
    "\n",
    "4. Restricciones\n",
    "\n",
    "* Capacidad en plantas (en millones de kW)\n",
    "  * Planta 1\n",
    "    $ x11 + x12 + x13 \\leq 75 $\n",
    "  * Planta 2\n",
    "    $ x21 + x22 + x23 \\leq 50 $\n",
    "  * Planta 3\n",
    "    $ x31 + x32 + x33 \\leq 60 $\n",
    "\n",
    "* Demanda en las ciudades (en millones de kW)\n",
    "  * GDL\n",
    "    $ x11 + x21 + x31 = 60 $\n",
    "  * León\n",
    "    $ x12 + x22 + x32 = 45 $\n",
    "  * Morelia\n",
    "    $ x13 + x23 + x33 = 60 $\n",
    "    \n",
    "\n"
   ]
  },
  {
   "cell_type": "code",
   "execution_count": null,
   "id": "f3e17f8e-c0a7-40b9-bc8c-ea7ec42f49a9",
   "metadata": {},
   "outputs": [],
   "source": []
  }
 ],
 "metadata": {
  "kernelspec": {
   "display_name": "Python 3 (ipykernel)",
   "language": "python",
   "name": "python3"
  },
  "language_info": {
   "codemirror_mode": {
    "name": "ipython",
    "version": 3
   },
   "file_extension": ".py",
   "mimetype": "text/x-python",
   "name": "python",
   "nbconvert_exporter": "python",
   "pygments_lexer": "ipython3",
   "version": "3.12.4"
  }
 },
 "nbformat": 4,
 "nbformat_minor": 5
}
