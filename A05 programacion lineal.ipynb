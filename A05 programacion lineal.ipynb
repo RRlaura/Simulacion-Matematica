{
 "cells": [
  {
   "cell_type": "markdown",
   "id": "58591f8f-3733-41a5-8af1-b3ed188068b2",
   "metadata": {},
   "source": [
    "Laura Rodriguez 05-09-24"
   ]
  },
  {
   "cell_type": "markdown",
   "id": "3480892a-9df7-4350-a91f-379b2f9088ec",
   "metadata": {},
   "source": [
    "$ Ejercicio  1 $\n",
    "\n",
    "Se quiere producir comida para gatos de la manera más barata, no obstante se debe también asegurar que se cumplan los datos requeridos de analisis nutricional. Por lo que se quiere variar la cantidad de cada ingrediente para cumplir con los estandares nutricionales. Los requisitos que se tienen es que en 100 gramos, se deben tener por lo menos 9 gramos de proteína y  7 gramos de grasa. Así mismo, no se debe tener más de 2.5 gramos de fibra y 0.5 gramos de sal.\n",
    "2\n",
    "\n",
    "Lo que se busca optimizar en este caso es la cantidad de productos que se debe utilizar en la comida de gato, minimizando el costo total."
   ]
  },
  {
   "cell_type": "markdown",
   "id": "fddb8000-07bc-4362-9a0e-970a39cbaa3a",
   "metadata": {},
   "source": [
    "1. Identificar criterio \n",
    "\n",
    "Se quiere minimizar el costo total de la comida de gato\n",
    "\n",
    "2. Variables de control\n",
    "\n",
    "* Cantidad de pollol\n",
    "* Cantidad de Carne\n",
    "* Cantidad de Cordero\n",
    "* Cantidad de Arroz\n",
    "* Cantidad de Trigo\n",
    "* Cantidad de Gel\n",
    "\n",
    "3. funcion de cost\n",
    "$ f(x1, x2, x3, x4, x5,) = 0.012*x1 + 0.009*x2 + 0.010*x3 + 0.003*x4l\n",
    "\n",
    "44. Restrccionesi\n",
    "c\n",
    "$ gramos totales \\leq 100 $ \n",
    "$ proteina \\geq 9 $\n",
    "\n",
    "$ grasa \\geq 7 $\n",
    "\n",
    "$ fibra \\leq 2.5 $\n",
    "\n",
    "$ sal \\leq 0.5 $\n",
    "\n"
   ]
  },
  {
   "cell_type": "markdown",
   "id": "aef65436-83e3-400f-81a0-c4c604c89983",
   "metadata": {},
   "source": [
    "## Ejercicio 2\n",
    "\n",
    "La Comisión Federal de Electricidad (CFE) dispone de cuatro plantas de generación para satisfacer la demanda diaria eléctrica en cuatro ciudades, Guadalajara, León y Morelia. Las plantas 1, 2 y 3 pueden satisfacer 75, 50 y 60 millones de kW al día respectivamente. Las necesidades de las ciudades de Guadalajara, León y Morelia son de 60, 45 y 60 millones de Kw al día respectivamente.\n",
    "\n",
    "Los costos asociados al envío de suministro energético por cada millón de kW entre cada planta y cada ciudad son los registrados en la siguiente tabla."
   ]
  },
  {
   "cell_type": "code",
   "execution_count": null,
   "id": "c0e77601-1d8a-4729-8d70-d4879c3bae18",
   "metadata": {},
   "outputs": [],
   "source": []
  },
  {
   "cell_type": "code",
   "execution_count": null,
   "id": "f3e17f8e-c0a7-40b9-bc8c-ea7ec42f49a9",
   "metadata": {},
   "outputs": [],
   "source": []
  }
 ],
 "metadata": {
  "kernelspec": {
   "display_name": "Python 3 (ipykernel)",
   "language": "python",
   "name": "python3"
  },
  "language_info": {
   "codemirror_mode": {
    "name": "ipython",
    "version": 3
   },
   "file_extension": ".py",
   "mimetype": "text/x-python",
   "name": "python",
   "nbconvert_exporter": "python",
   "pygments_lexer": "ipython3",
   "version": "3.12.4"
  }
 },
 "nbformat": 4,
 "nbformat_minor": 5
}
