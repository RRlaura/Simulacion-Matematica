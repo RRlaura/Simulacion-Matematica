{
 "cells": [
  {
   "cell_type": "markdown",
   "id": "6c1cc1e1-60b4-46f6-a4fe-a8f92e8e10e4",
   "metadata": {},
   "source": [
    "Laura Rodriguez 09-09-24"
   ]
  },
  {
   "cell_type": "markdown",
   "id": "c9d54b66-d4b0-4b3d-b0f6-35496e91295b",
   "metadata": {},
   "source": [
    "Ejercicio 1.\n",
    "\n",
    "Una carpintería local fabrica sillas, mesas, libreros y bases de cama. Hay dos empleados en esta carpintería: un empleado experimentado y un aprendiz. El aprendiz tarda aproximadamente 50% más tiempo que el carpintero experimentado en construir cualquier cosa, además de que tiene un desperdicio de alrededor de 20% de material. Los materiales y tiempos necesarios para construir algo se desglozan en la siguiente tabla:\n",
    "\n",
    "Mesa = 3, 6\n",
    "\n",
    "Silla = 1, 2\n",
    "\n",
    "Libreros = 4, 5\n",
    "\n",
    "Bases = 3, 5\n",
    "\n",
    "Las mesas se venden en  9000, las sillas en  3000, los libreros en  10000, y las bases de cama en  9000. Suponiendo una jornada de 40 horas a la semana y que tienen 100 unidades de madera, ¿qué les conviene construir durante una semana para maximizar su ganancia?\n",
    "\n",
    "* \r\n",
    "¿Cuántas horas trabaja cada quié\n",
    "* ?\r\n",
    "¿Cuánto material se u\n",
    "* a?\r\n",
    "¿Cuál se el ingreso total si se vende todo lo fabricado?* ado?"
   ]
  },
  {
   "cell_type": "markdown",
   "id": "24f834cf-bcf9-4c7a-a189-cc1597598bc8",
   "metadata": {},
   "source": [
    "1. Identificar el criterio\n",
    "   \n",
    "Se busca maximizar la ganancia \n",
    "\n",
    "3. Variables de control\n",
    "   \n",
    "* Cantidad de mesas del empleado\n",
    "* Cantidad de sillas del empleado\n",
    "* Cantidad de libreros del empleado\n",
    "* Cantidad de bases de cama del empleado\n",
    "* Cantidad de mesas del aprendiz\n",
    "* Cantidad de sillas del aprendiz\n",
    "* Cantidad de libreros del aprendiz\n",
    "* Cantidad de bases de cama del aprendiz\n",
    "  \n",
    "3. funcion de costo\n",
    "   \n",
    "  $ f(x1, x2, x3, x4, y1, y2, y3, y4) = 9000(x1+y1) + 3000(x2+y2) + 10000(x3+y3) + 9000(x4+y4) $\n",
    "\n",
    "4. Restricciones\n",
    "\n",
    "Tiempo experimentado\n",
    "\n",
    "$ 3x1 + 1x2 + 4x3 + 3x4 \\leq 40 $\n",
    "\n",
    "Tiempo aprendiz \n",
    "\n",
    "$ 4.5y1 + 1.5y2 + 6y3 + 4.5y4 \\leq 60 $\n",
    "\n",
    "Material \n",
    "\n",
    "$ 6(x1+y1) + 2(x2+y2) + 5(x3,y3) + 5(x4+y4) \\leq 100 $\n",
    "\n",
    "5. Vectores\n",
    "\n",
    "\n",
    "\n",
    "# opt.linprog(c, Aub, bub, Acq, bcg, integrality = 1)\n"
   ]
  },
  {
   "cell_type": "markdown",
   "id": "e1278ed5-9f97-436f-8f00-a85df074b9fe",
   "metadata": {},
   "source": [
    "2. La carpintería recibió una orden por 3 combos de mesa + 6 sillas.\r",
    "* ¿Se puede cumplir la orden?\r",
    "* \n",
    "Si sí, ¿qué es lo que tienen que fabricar en el resto del tiempo y con el resto del material para maximizar su ganancia?* \r\n",
    "¿Cuántas horas trabaja cada quién* ?\r\n",
    "¿Cuánto material se us* a?\r\n",
    "¿Cuál es el nuevo ingreso total?total?"
   ]
  },
  {
   "cell_type": "code",
   "execution_count": null,
   "id": "9e7f0e18-1c43-4de4-ba56-13847e5dc4b4",
   "metadata": {},
   "outputs": [],
   "source": []
  }
 ],
 "metadata": {
  "kernelspec": {
   "display_name": "Python 3 (ipykernel)",
   "language": "python",
   "name": "python3"
  },
  "language_info": {
   "codemirror_mode": {
    "name": "ipython",
    "version": 3
   },
   "file_extension": ".py",
   "mimetype": "text/x-python",
   "name": "python",
   "nbconvert_exporter": "python",
   "pygments_lexer": "ipython3",
   "version": "3.12.4"
  }
 },
 "nbformat": 4,
 "nbformat_minor": 5
}
