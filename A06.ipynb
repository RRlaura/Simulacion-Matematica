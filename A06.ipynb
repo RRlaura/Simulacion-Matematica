{
 "cells": [
  {
   "cell_type": "markdown",
   "id": "6c1cc1e1-60b4-46f6-a4fe-a8f92e8e10e4",
   "metadata": {},
   "source": [
    "Laura Rodriguez 09-09-24"
   ]
  },
  {
   "cell_type": "markdown",
   "id": "c9d54b66-d4b0-4b3d-b0f6-35496e91295b",
   "metadata": {},
   "source": [
    "Ejercicio 1.\n",
    "\n",
    "Una carpintería local fabrica sillas, mesas, libreros y bases de cama. Hay dos empleados en esta carpintería: un empleado experimentado y un aprendiz. El aprendiz tarda aproximadamente 50% más tiempo que el carpintero experimentado en construir cualquier cosa, además de que tiene un desperdicio de alrededor de 20% de material. Los materiales y tiempos necesarios para construir algo se desglozan en la siguiente tabla:\n",
    "\n",
    "Mesa = 3, 6\n",
    "\n",
    "Silla = 1, 2\n",
    "\n",
    "Libreros = 4, 5\n",
    "\n",
    "Bases = 3, 5\n",
    "\n",
    "Las mesas se venden en  9000, las sillas en  3000, los libreros en  10000, y las bases de cama en  9000. Suponiendo una jornada de 40 horas a la semana y que tienen 100 unidades de madera, ¿qué les conviene construir durante una semana para maximizar su ganancia?\n",
    "\n",
    "* \n",
    "¿Cuántas horas trabaja cada quin?\n",
    "  \n",
    "* \r\n",
    "¿Cuánto material sesa?\n",
    "  \n",
    "* ?\r\n",
    "¿Cuál se el ingreso total si se vende todo lo fabricado?"
   ]
  },
  {
   "cell_type": "markdown",
   "id": "24f834cf-bcf9-4c7a-a189-cc1597598bc8",
   "metadata": {},
   "source": [
    "1. Identificar el criterio\n",
    "   \n",
    "Se busca maximizar la ganancia \n",
    "\n",
    "3. Variables de control\n",
    "   \n",
    "* Cantidad de mesas del empleado (x1)\n",
    "* Cantidad de sillas del empleado (x2)\n",
    "* Cantidad de libreros del empleado (x3)\n",
    "* Cantidad de bases de cama del empleado (x4)\n",
    "* Cantidad de mesas del aprendiz (y1)\n",
    "* Cantidad de sillas del aprendiz (y2)\n",
    "* Cantidad de libreros del aprendiz (y3)\n",
    "* Cantidad de bases de cama del aprendiz (y4)\n",
    "  \n",
    "3. funcion de costo\n",
    "   \n",
    "  $ f(x1, x2, x3, x4, y1, y2, y3, y4) = 9000x1+ 9000y1 + 3000x2+3000y2 + 10000x3+10000y3 + 9000x4+ 9000y4 $\n",
    "\n",
    "4. Restricciones\n",
    "\n",
    "Tiempo experimentado\n",
    "\n",
    "$ 3x1 + 1x2 + 4x3 + 3x4 \\leq 40 $\n",
    "\n",
    "Tiempo aprendiz \n",
    "\n",
    "$ 4.5y1 + 1.5y2 + 6y3 + 4.5y4 \\leq 40 $\n",
    "\n",
    "Material \n",
    "\n",
    "$ 6x1 + 7.2y1 + 2x2+ 2.4y2 + 5x3 + 6y3 + 5x4+ 6y4 \\leq 100 $\n",
    "\n",
    "$$ \\min_{x1,x2,x3,x4,y1,y2,y3,y4} -9000x1-9000y1-3000x2-3000y2-10000x3-10000y3-9000x4-9000y4 $$\n",
    "$$ \\text {s.t.} $$\n",
    "$$3x1+1x2+4x3+3x4 \\leq 40$$\n",
    "$$4.5y1+1.5y2+6y3+4.5y4 \\leq 40$$\n",
    "$$6x1+7.2y1+2x2+2.4y2+5x3+6y3+5x4+6y4 \\leq 100$$\n",
    "   \n"
   ]
  },
  {
   "cell_type": "code",
   "execution_count": 47,
   "id": "88f2bbff-1e3a-4238-a86a-6df920ee6ef3",
   "metadata": {},
   "outputs": [
    {
     "data": {
      "text/plain": [
       "-176000.0"
      ]
     },
     "execution_count": 47,
     "metadata": {},
     "output_type": "execute_result"
    }
   ],
   "source": [
    "import scipy.optimize as opt\n",
    "import numpy as np\n",
    "\n",
    "Aub = np.array([\n",
    "    [3,  0,  1,  0,  4, 0, 3, 0],\n",
    "    [0, 4.5, 0, 1.5, 0, 6, 0, 4.5],\n",
    "    [6, 7.2, 2, 2.4, 5, 6, 5, 6]\n",
    "])\n",
    "\n",
    "bub = np.array([\n",
    "    40,\n",
    "    40,\n",
    "    100\n",
    "\n",
    "])\n",
    "\n",
    "c = np.array([\n",
    "    -9000,\n",
    "    -9000,\n",
    "    -3000,\n",
    "    -3000,\n",
    "    -10000,\n",
    "    -10000,\n",
    "    -9000,\n",
    "    -9000\n",
    "])\n",
    "\n",
    "sol= opt.linprog(c,Aub,bub,integrality=1) \n",
    "sol.fun"
   ]
  },
  {
   "cell_type": "code",
   "execution_count": 49,
   "id": "5acef056-67a0-4c19-8359-3c163932aaae",
   "metadata": {},
   "outputs": [
    {
     "data": {
      "text/plain": [
       "array([ 0.00000000e+00,  0.00000000e+00,  1.00000000e+00, -9.47390314e-15,\n",
       "        9.00000000e+00,  2.00000000e+00,  1.00000000e+00,  6.00000000e+00])"
      ]
     },
     "execution_count": 49,
     "metadata": {},
     "output_type": "execute_result"
    }
   ],
   "source": [
    "sol.x"
   ]
  },
  {
   "cell_type": "code",
   "execution_count": 51,
   "id": "512db31e-2b50-4c43-82ab-80cbaaaa42d0",
   "metadata": {},
   "outputs": [
    {
     "data": {
      "text/plain": [
       "array([ 40.,  39., 100.])"
      ]
     },
     "execution_count": 51,
     "metadata": {},
     "output_type": "execute_result"
    }
   ],
   "source": [
    "Aub @ sol.x"
   ]
  },
  {
   "cell_type": "markdown",
   "id": "e1278ed5-9f97-436f-8f00-a85df074b9fe",
   "metadata": {},
   "source": [
    "2. La carpintería recibió una orden  por 3 combos de mesa + 6 sillas.\r",
    "* ¿Se puede cumplir la orden?\r",
    "* Si sí, ¿qué es lo que tienen que fabricar en el resto del tiempo y con el resto del material para maximizar su ganancia?\n",
    "* ¿Cuántas horas trabaja cada quién?\n",
    "* \n",
    "¿Cuánto material seusa? \n",
    "*\r\n",
    "¿Cuál es el nuevo ingreso tota\n",
    "\n",
    "4. Restricciones extras\n",
    "   \n",
    "Mesas\n",
    "\n",
    "$ x1+y1 \\geq 3 $\n",
    "\n",
    "Sillas\n",
    "\n",
    "$ x2+y2 \\geq 18 $\n",
    "\n",
    "$$ \\min_{x1,x2,x3,x4,y1,y2,y3,y4} -9000x1-9000y1-3000x2-3000y2-10000x3-10000y3-9000x4-9000y4 $$\n",
    "$$ \\text {s.t.} $$\n",
    "$$3x1+1x2+4x3+3x4 \\leq 40$$\n",
    "$$4.5y1+1.5y2+6y3+4.5y4 \\leq 40$$\n",
    "$$6x1+7.2y1+2x2+2.4y2+5x3+6y3+5x4+6y4 \\leq 100$$\n",
    "$$ x1+y1 \\geq 3 $$\n",
    "$$ x2+y2 \\geq 18 $$l?"
   ]
  },
  {
   "cell_type": "code",
   "execution_count": 55,
   "id": "79ff111a-a8fd-4a13-993e-73025c21f8b8",
   "metadata": {},
   "outputs": [
    {
     "data": {
      "text/plain": [
       "-161000.0"
      ]
     },
     "execution_count": 55,
     "metadata": {},
     "output_type": "execute_result"
    }
   ],
   "source": [
    "import scipy.optimize as opt\n",
    "import numpy as np\n",
    "\n",
    "\n",
    "c = np.array([-9000, -9000, -3000, -3000, -10000, -10000, -9000, -9000])\n",
    "\n",
    "Aub = np.array([\n",
    "    [3, 0, 1, 0, 4, 0, 3, 0],     \n",
    "    [0, 4.5, 0, 1.5, 0, 6, 0, 4.5], \n",
    "    [6, 7.2, 2, 2.4, 5, 6, 5, 6],\n",
    "    [0, 0, -1, -1, 0, 0, 0, 0],\n",
    "    [-1, -1, 0, 0, 0, 0, 0, 0] \n",
    "])\n",
    "\n",
    "bub = np.array([\n",
    "    40,\n",
    "    40,\n",
    "    100,\n",
    "    -18,\n",
    "    -3\n",
    "])\n",
    "\n",
    "\n",
    "sol = opt.linprog(c,Aub,bub,integrality=1) \n",
    "sol.fun  #la ganancia total\n"
   ]
  },
  {
   "cell_type": "code",
   "execution_count": 57,
   "id": "9bacb63c-30ad-42eb-b881-c6204d66262d",
   "metadata": {},
   "outputs": [
    {
     "data": {
      "text/plain": [
       "array([ 3.,  0., 18.,  0.,  3.,  5.,  0.,  0.])"
      ]
     },
     "execution_count": 57,
     "metadata": {},
     "output_type": "execute_result"
    }
   ],
   "source": [
    "sol.x"
   ]
  },
  {
   "cell_type": "code",
   "execution_count": 59,
   "id": "ba9587eb-8850-4182-b03b-5e6ff805ded2",
   "metadata": {},
   "outputs": [
    {
     "data": {
      "text/plain": [
       "array([ 39.,  30.,  99., -18.,  -3.])"
      ]
     },
     "execution_count": 59,
     "metadata": {},
     "output_type": "execute_result"
    }
   ],
   "source": [
    "Aub @ sol.x"
   ]
  }
 ],
 "metadata": {
  "kernelspec": {
   "display_name": "Python 3 (ipykernel)",
   "language": "python",
   "name": "python3"
  },
  "language_info": {
   "codemirror_mode": {
    "name": "ipython",
    "version": 3
   },
   "file_extension": ".py",
   "mimetype": "text/x-python",
   "name": "python",
   "nbconvert_exporter": "python",
   "pygments_lexer": "ipython3",
   "version": "3.12.4"
  }
 },
 "nbformat": 4,
 "nbformat_minor": 5
}
