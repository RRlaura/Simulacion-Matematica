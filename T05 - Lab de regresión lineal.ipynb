{
 "cells": [
  {
   "cell_type": "markdown",
   "id": "517699e0-b6e3-4a23-b07a-7ae565d337f9",
   "metadata": {},
   "source": [
    "# Laboratorio de regresión lineal"
   ]
  },
  {
   "cell_type": "markdown",
   "id": "9dc03bac-6c19-46ff-a080-3a1df82c15aa",
   "metadata": {},
   "source": [
    "Laura Rodriguez 24-09-24\n",
    "\n",
    "Expendiente: 738962|   |"
   ]
  },
  {
   "cell_type": "markdown",
   "id": "58636781-c118-4f1c-9ad6-fb7528700de9",
   "metadata": {},
   "source": [
    "La regresión lineal es una heramienta útil para predecir una respuesta cuantitativa. A pesar de que existen soluciones más modernas, la regresión lineal se sigue usando, pues sirve como un punto de partida para comparar otras herramientas.\n",
    "\n",
    "Se debe comprender cómo funciona la regresión antes de empezar a estudiar métodos de aprendizaje estadístico más complejos."
   ]
  },
  {
   "cell_type": "markdown",
   "id": "49359c12-d479-4331-9266-555b5fecadaa",
   "metadata": {},
   "source": [
    "1. Descarga el archivo de publicidad y carga los datos (Advertising.csv)."
   ]
  },
  {
   "cell_type": "code",
   "execution_count": 180,
   "id": "dd89acd3-8ac1-4101-a551-fe488fb0a411",
   "metadata": {},
   "outputs": [
    {
     "data": {
      "text/html": [
       "<div>\n",
       "<style scoped>\n",
       "    .dataframe tbody tr th:only-of-type {\n",
       "        vertical-align: middle;\n",
       "    }\n",
       "\n",
       "    .dataframe tbody tr th {\n",
       "        vertical-align: top;\n",
       "    }\n",
       "\n",
       "    .dataframe thead th {\n",
       "        text-align: right;\n",
       "    }\n",
       "</style>\n",
       "<table border=\"1\" class=\"dataframe\">\n",
       "  <thead>\n",
       "    <tr style=\"text-align: right;\">\n",
       "      <th></th>\n",
       "      <th>Unnamed: 0</th>\n",
       "      <th>TV</th>\n",
       "      <th>radio</th>\n",
       "      <th>newspaper</th>\n",
       "      <th>sales</th>\n",
       "    </tr>\n",
       "  </thead>\n",
       "  <tbody>\n",
       "    <tr>\n",
       "      <th>0</th>\n",
       "      <td>1</td>\n",
       "      <td>230.1</td>\n",
       "      <td>37.8</td>\n",
       "      <td>69.2</td>\n",
       "      <td>22.1</td>\n",
       "    </tr>\n",
       "    <tr>\n",
       "      <th>1</th>\n",
       "      <td>2</td>\n",
       "      <td>44.5</td>\n",
       "      <td>39.3</td>\n",
       "      <td>45.1</td>\n",
       "      <td>10.4</td>\n",
       "    </tr>\n",
       "    <tr>\n",
       "      <th>2</th>\n",
       "      <td>3</td>\n",
       "      <td>17.2</td>\n",
       "      <td>45.9</td>\n",
       "      <td>69.3</td>\n",
       "      <td>9.3</td>\n",
       "    </tr>\n",
       "    <tr>\n",
       "      <th>3</th>\n",
       "      <td>4</td>\n",
       "      <td>151.5</td>\n",
       "      <td>41.3</td>\n",
       "      <td>58.5</td>\n",
       "      <td>18.5</td>\n",
       "    </tr>\n",
       "    <tr>\n",
       "      <th>4</th>\n",
       "      <td>5</td>\n",
       "      <td>180.8</td>\n",
       "      <td>10.8</td>\n",
       "      <td>58.4</td>\n",
       "      <td>12.9</td>\n",
       "    </tr>\n",
       "    <tr>\n",
       "      <th>...</th>\n",
       "      <td>...</td>\n",
       "      <td>...</td>\n",
       "      <td>...</td>\n",
       "      <td>...</td>\n",
       "      <td>...</td>\n",
       "    </tr>\n",
       "    <tr>\n",
       "      <th>195</th>\n",
       "      <td>196</td>\n",
       "      <td>38.2</td>\n",
       "      <td>3.7</td>\n",
       "      <td>13.8</td>\n",
       "      <td>7.6</td>\n",
       "    </tr>\n",
       "    <tr>\n",
       "      <th>196</th>\n",
       "      <td>197</td>\n",
       "      <td>94.2</td>\n",
       "      <td>4.9</td>\n",
       "      <td>8.1</td>\n",
       "      <td>9.7</td>\n",
       "    </tr>\n",
       "    <tr>\n",
       "      <th>197</th>\n",
       "      <td>198</td>\n",
       "      <td>177.0</td>\n",
       "      <td>9.3</td>\n",
       "      <td>6.4</td>\n",
       "      <td>12.8</td>\n",
       "    </tr>\n",
       "    <tr>\n",
       "      <th>198</th>\n",
       "      <td>199</td>\n",
       "      <td>283.6</td>\n",
       "      <td>42.0</td>\n",
       "      <td>66.2</td>\n",
       "      <td>25.5</td>\n",
       "    </tr>\n",
       "    <tr>\n",
       "      <th>199</th>\n",
       "      <td>200</td>\n",
       "      <td>232.1</td>\n",
       "      <td>8.6</td>\n",
       "      <td>8.7</td>\n",
       "      <td>13.4</td>\n",
       "    </tr>\n",
       "  </tbody>\n",
       "</table>\n",
       "<p>200 rows × 5 columns</p>\n",
       "</div>"
      ],
      "text/plain": [
       "     Unnamed: 0     TV  radio  newspaper  sales\n",
       "0             1  230.1   37.8       69.2   22.1\n",
       "1             2   44.5   39.3       45.1   10.4\n",
       "2             3   17.2   45.9       69.3    9.3\n",
       "3             4  151.5   41.3       58.5   18.5\n",
       "4             5  180.8   10.8       58.4   12.9\n",
       "..          ...    ...    ...        ...    ...\n",
       "195         196   38.2    3.7       13.8    7.6\n",
       "196         197   94.2    4.9        8.1    9.7\n",
       "197         198  177.0    9.3        6.4   12.8\n",
       "198         199  283.6   42.0       66.2   25.5\n",
       "199         200  232.1    8.6        8.7   13.4\n",
       "\n",
       "[200 rows x 5 columns]"
      ]
     },
     "execution_count": 180,
     "metadata": {},
     "output_type": "execute_result"
    }
   ],
   "source": [
    "import pandas as pd\n",
    "\n",
    "df = pd.read_csv('Advertising.csv')\n",
    "df"
   ]
  },
  {
   "cell_type": "markdown",
   "id": "b05eed21-5272-45e0-ab5b-ce7206adb3e4",
   "metadata": {},
   "source": [
    "**¿Hay alguna relación entre el presupuesto para publicidad y las ventas?**\n",
    "\n",
    "Nuestra primera meta debe ser determinar si hay evidencia en los datos de que haya una asociación entre estas variables.\n",
    "\n",
    "- ¿Por qué? ¿Qué resultaría si nos diéramos cuenta de la falta de relación entre el presupuesto de publicidad y las ventas?"
   ]
  },
  {
   "cell_type": "code",
   "execution_count": null,
   "id": "fcc08f6e-9cf5-4455-950e-a5d8b86f8f98",
   "metadata": {},
   "outputs": [],
   "source": []
  },
  {
   "cell_type": "code",
   "execution_count": 47,
   "id": "42dfc679-ee1d-4428-b0a5-db25bd5c67da",
   "metadata": {},
   "outputs": [
    {
     "data": {
      "image/png": "[encoded data removed]",
      "text/plain": [
       "<Figure size 640x480 with 1 Axes>"
      ]
     },
     "metadata": {},
     "output_type": "display_data"
    }
   ],
   "source": [
    "import numpy as np\n",
    "import matplotlib.pyplot as plt\n",
    "%matplotlib inline \n",
    "\n",
    "\n",
    "x1 = df[\"TV\"]\n",
    "x2 = df[\"radio\"]\n",
    "x3 = df[\"newspaper\"]\n",
    "y = df[\"sales\"] \n",
    "\n",
    "\n",
    "plt.figure()\n",
    "plt.scatter(x1, y)\n",
    "plt.scatter(x2, y)\n",
    "plt.scatter(x3, y)\n",
    "plt.grid()\n"
   ]
  },
  {
   "cell_type": "markdown",
   "id": "8d03f3cf-5af3-4232-bcfc-9d4c7c24ae6a",
   "metadata": {},
   "source": []
  },
  {
   "cell_type": "markdown",
   "id": "b995f57c-89f1-4c6b-98c1-e990bf3ac6de",
   "metadata": {},
   "source": [
    "**¿Qué tan fuerte es esta relación?**\n",
    "Asumiendo que existe esta relación, ¿nos sirve conocer el impacto que tiene invertir en publicidad en las ventas?"
   ]
  },
  {
   "cell_type": "markdown",
   "id": "9db8e39d-3186-4bb1-a628-962e28b763c8",
   "metadata": {},
   "source": []
  },
  {
   "cell_type": "markdown",
   "id": "fc62c331-9114-4c6f-b785-46358ff8b564",
   "metadata": {},
   "source": []
  },
  {
   "cell_type": "markdown",
   "id": "d829fd22-8bad-4b2f-b5d4-19ce2caaad97",
   "metadata": {},
   "source": []
  },
  {
   "cell_type": "markdown",
   "id": "2d956cb0-455e-4d3d-81ed-5c5c0b182173",
   "metadata": {},
   "source": [
    "**¿Cuáles medios están asociados con las ventas? ¿Qué tan grande es la asociación entre un medio específico y las ventas?**\n",
    "\n",
    "Hay 3 medios distintos en los datos. ¿Sirve invertir en los 3? ¿Conviene más invertir sólo en uno?\n",
    "\n",
    "**¿Qué tan seguros estamos de que podríamos predecir ventas futuras?**\n",
    "\n",
    "**¿La relación es lineal?**\n",
    "\n",
    "**¿Hay sinergia entre estos medios?**\n",
    "\n",
    "Puede ser que gastar \\\\$50,000 en publicidad y otros \\\\$50,000 en radio es mejor opción que gastar \\\\$100,000 en televisión. A esto le llamamos efecto de interacción.\n",
    "\n",
    "Podemos usar regresión lineal para responder todas estas preguntas."
   ]
  },
  {
   "cell_type": "markdown",
   "id": "7c97db88-c3d0-42a9-9822-334a55b0c3f8",
   "metadata": {},
   "source": [
    "## Regresión lineal simple"
   ]
  },
  {
   "cell_type": "markdown",
   "id": "cc7c15a0-cc8a-49f2-8bd0-96bd0c296afd",
   "metadata": {},
   "source": [
    "Un método sencillo para predecir una variable cuantitativa $Y$ dado un solo predictor $X$. Podemos escribir esta relación como:\n",
    "\n",
    "$$ Y \\approx \\beta_0 + \\beta_1 X$$\n",
    "\n",
    "Por ejemplo, si decimos que $X$ se refiere a lo gastado en publicidad de TV y que $Y$ son las ventas, podemos buscar:\n",
    "\n",
    "$$ \\text{ventas} \\approx \\beta_0 + (\\beta_1)(\\text{TV})$$"
   ]
  },
  {
   "cell_type": "markdown",
   "id": "af21181c-94f6-4eb2-8186-2dc3ce5653b1",
   "metadata": {},
   "source": [
    "A $\\beta_0$ y $\\beta_1$ se le conoce como los coeficientes o parámetros del modelo. Una vez que usamos los datos históricos para producir estimados $\\hat{\\beta_0}$ y $\\hat{\\beta_1}$, podemos predecir ventar futuras basándonos en lo gastado en publicidad en TV usando\n",
    "$$\\hat{y} = \\hat{\\beta_0} + \\hat{\\beta_1}x $$"
   ]
  },
  {
   "cell_type": "markdown",
   "id": "07ae52b6-daeb-4364-9092-2c8a25a56b2d",
   "metadata": {},
   "source": [
    "donde $\\hat{y}$ indica una predicción de $Y$ basado en $X = x$. (El símbolo $\\hat{ }$ se usa para hacer notar que es sólo una estimación de un parámetro desconocido)"
   ]
  },
  {
   "cell_type": "markdown",
   "id": "ee3b4835-9946-46e9-866a-61394526c72a",
   "metadata": {},
   "source": [
    "### Estimando coeficientes"
   ]
  },
  {
   "cell_type": "markdown",
   "id": "ae7d04ba-bb21-4540-bf56-331ad4329bbc",
   "metadata": {},
   "source": [
    "$\\beta_0$ y $\\beta_1$ son desconocidos. Se deben estimar usando los datos antes de poder predecir. \n",
    "\n",
    "$ (x_1, y_1), (x_2, y_2), ..., (x_n, y_n) $ representa $n$ observaciones, cada una con datos medidos para $X$ y $Y$."
   ]
  },
  {
   "cell_type": "markdown",
   "id": "69138e9f-f782-4f81-a69c-c602dd5a123f",
   "metadata": {},
   "source": [
    "El archivo de publicidad contiene observaciones de 200 mercados y presupuestos usados para publicidad en 3 medios. Nuestra meta actual es encontrar $\\hat{\\beta_0}$ y $\\hat{\\beta_1}$ tal que exista un modelo lineal que se ajuste bien a los datos ($y_i \\approx \\hat{\\beta_0} + \\hat{\\beta_1}x_i$  para $ i=1,...,n$)."
   ]
  },
  {
   "cell_type": "markdown",
   "id": "04bc799e-6602-48f5-ad6e-74b3fc91802e",
   "metadata": {},
   "source": [
    "Hay muchas formas de medir el ajuste de una curva; la más común es usar el criterio de los mínimos cuadrados. Si $y_i \\approx \\hat{\\beta_0} + \\hat{\\beta_1}x_i$ es una predicción de $Y$ basada en el valor número $i$ de $X$, entonces definimos el error/residuo como $e_i = y_i - \\hat{y_i}$. Este residuo es la diferencia entre el valor observado y el valor estimado por nuestro modelo lineal. Definimos la suma de los residuos cuadrados (RSS) como:\n",
    "$$ \\text{RSS} = e_1^2 + e_2^2 + ... + e_n^2 $$"
   ]
  },
  {
   "cell_type": "markdown",
   "id": "39b73961-5157-43af-8a27-19455355993d",
   "metadata": {},
   "source": [
    "Utiliza la función `minimize` del módulo `optimize` la librería `scipy` para estimar los parámetros del modelo."
   ]
  },
  {
   "cell_type": "code",
   "execution_count": 422,
   "id": "7138734f-e9ae-41fd-bb6f-7235acf180b4",
   "metadata": {},
   "outputs": [
    {
     "name": "stdout",
     "output_type": "stream",
     "text": [
      "Index(['Unnamed: 0', 'TV', 'radio', 'newspaper', 'sales'], dtype='object')\n"
     ]
    }
   ],
   "source": [
    "print(df.columns)\n"
   ]
  },
  {
   "cell_type": "code",
   "execution_count": 63,
   "id": "957ac421-5849-4aaf-b9e4-714333433131",
   "metadata": {},
   "outputs": [
    {
     "data": {
      "text/plain": [
       "  message: Desired error not necessarily achieved due to precision loss.\n",
       "  success: False\n",
       "   status: 2\n",
       "      fun: 2102.530583132494\n",
       "        x: [ 7.033e+00  4.754e-02]\n",
       "      nit: 4\n",
       "      jac: [ 0.000e+00 -3.052e-05]\n",
       " hess_inv: [[ 4.113e-06 -2.085e-08]\n",
       "            [-2.085e-08  8.644e-08]]\n",
       "     nfev: 105\n",
       "     njev: 31"
      ]
     },
     "execution_count": 63,
     "metadata": {},
     "output_type": "execute_result"
    }
   ],
   "source": [
    "import numpy as np\n",
    "import scipy.optimize as opt\n",
    "\n",
    "x_tv = df['TV'].values\n",
    "y_sales = df['sales'].values\n",
    "\n",
    "num_obs = len(y_sales)\n",
    "X_matriz = np.hstack((np.ones([num_obs, 1]), x_tv.reshape(num_obs, 1)))\n",
    "y_vector = y_sales.reshape(num_obs, 1)\n",
    "\n",
    "num_params = X_matriz.shape[1]\n",
    "beta_inicial = np.random.rand(num_params) #valores aleatorios \n",
    "\n",
    "def calcular_rss(beta, X, y):\n",
    "    beta = beta.reshape([num_params, 1])\n",
    "    y_pred = X @ beta  # Predicción de y usando los coeficientes beta\n",
    "    residual = y_pred - y  # Error entre la predicción y los valores reales\n",
    "    rss_value = residual.T @ residual  # Calcular RSS\n",
    "    return rss_value[0, 0]\n",
    "\n",
    "resultado_optimizado = opt.minimize(calcular_rss, beta_inicial, args=(X_matriz, y_vector))\n",
    "resultado_optimizado"
   ]
  },
  {
   "cell_type": "code",
   "execution_count": 73,
   "id": "c68f5216-562e-4e38-868e-9c7d9aae7fce",
   "metadata": {},
   "outputs": [
    {
     "data": {
      "image/png": "[encoded data removed]",
      "text/plain": [
       "<Figure size 640x480 with 1 Axes>"
      ]
     },
     "metadata": {},
     "output_type": "display_data"
    }
   ],
   "source": [
    "coef_intercepto, coef_pendiente = resultado_optimizado.x\n",
    "\n",
    "beta_0 = coef_intercepto\n",
    "beta_1 = coef_pendiente\n",
    "\n",
    "X = x_tv\n",
    "\n",
    "y_pred = beta_0 + beta_1 * X\n",
    "\n",
    "plt.scatter(X, y_sales, c='pink', label='Datos')\n",
    "plt.plot(X, y_pred, color='black', label='Línea de Regresión')\n",
    "plt.xlabel('Gasto en TV (Publicidad)')\n",
    "plt.ylabel('Ventas')\n",
    "plt.legend()\n",
    "plt.show()\n"
   ]
  },
  {
   "cell_type": "markdown",
   "id": "25f222c0-971d-47cb-9e51-3fd1f2c94d56",
   "metadata": {},
   "source": [
    "Al resolver el problema analíticamente se encuentra:\n",
    "\n",
    "$$ \\hat{\\beta_1} = \\frac{\\sum_{i=1}^n (x_i - \\bar{x})(y_i - \\bar{y})}{\\sum_{i=1}^n (x_i - \\bar{x})^2} $$\n",
    "\n",
    "$$ \\hat{\\beta_0} = \\bar{y} - \\hat{\\beta_1}\\bar{x} $$\n"
   ]
  },
  {
   "cell_type": "markdown",
   "id": "92aa36b1-c75a-40a5-9a73-5e3e1b73ce22",
   "metadata": {},
   "source": [
    "Compara las estimaciones que encontraste con `minimize` con las que se encuentran con la fórmula dada arriba ($\\bar{x}$ y $\\bar{y}$ son las medias muestrales)."
   ]
  },
  {
   "cell_type": "code",
   "execution_count": 79,
   "id": "88d6abda-0a0c-4ebe-91c4-a48951098167",
   "metadata": {},
   "outputs": [
    {
     "data": {
      "text/plain": [
       "(7.032593549127702, 0.0475366404330197)"
      ]
     },
     "execution_count": 79,
     "metadata": {},
     "output_type": "execute_result"
    }
   ],
   "source": [
    "x_media = X.mean()\n",
    "y_media = y.mean()\n",
    "\n",
    "beta1 = sum((X - x_media) * (y - y_media)) / sum((X - x_media) ** 2)\n",
    "beta0 = y_media - beta1 * x_media\n",
    "beta0, beta1"
   ]
  },
  {
   "cell_type": "markdown",
   "id": "bbbcc7f3-1588-410f-8d24-4719aab965af",
   "metadata": {},
   "source": [
    "Crea una gráfica donde se muestren las observaciones como una nube de puntos y la línea que ajustaste con regresión."
   ]
  },
  {
   "cell_type": "code",
   "execution_count": 87,
   "id": "dd0cfb78-4c34-4953-972e-da5c31ea3edf",
   "metadata": {},
   "outputs": [
    {
     "data": {
      "image/png": "[encoded data removed]",
      "text/plain": [
       "<Figure size 640x480 with 1 Axes>"
      ]
     },
     "metadata": {},
     "output_type": "display_data"
    }
   ],
   "source": [
    "y_pred = beta0 + beta1 * X\n",
    "\n",
    "plt.scatter(X, y, c='r', label='Datos')\n",
    "\n",
    "plt.plot(X, y_pred, c='b', label='Línea de Regresión (Analítico)')\n",
    "plt.xlabel('Gasto en TV (Publicidad)')\n",
    "plt.ylabel('Ventas')\n",
    "plt.title('Relación entre Gasto en TV y Ventas')\n",
    "plt.legend()\n",
    "plt.show()\n"
   ]
  },
  {
   "cell_type": "code",
   "execution_count": 91,
   "id": "e3fa3f55-8721-43e3-a726-90787bb6256d",
   "metadata": {},
   "outputs": [
    {
     "data": {
      "image/png": "[encoded data removed]",
      "text/plain": [
       "<Figure size 640x480 with 1 Axes>"
      ]
     },
     "metadata": {},
     "output_type": "display_data"
    }
   ],
   "source": [
    "y_pred_minimize = beta_0 + beta_1 * X\n",
    "\n",
    "# esto es para fraficar datos originales\n",
    "plt.scatter(X, y, color='blue', label='Datos')\n",
    "\n",
    "# esto es para graficar línea de regresión \n",
    "plt.plot(X, y_pred, color='red', label='Regresión (Analítico)')\n",
    "\n",
    "# lo usamos para graficar línea de regresión (minimize)\n",
    "plt.plot(X, y_pred_minimize, color='green', label='Regresión (Minimize)')\n",
    "\n",
    "plt.xlabel('Gasto en TV (Publicidad)')\n",
    "plt.ylabel('Ventas')\n",
    "plt.title('Relación entre Gasto en TV y Ventas')\n",
    "plt.legend()\n",
    "plt.show()"
   ]
  },
  {
   "cell_type": "markdown",
   "id": "28ba843a-c9e4-41ca-aacd-fa767e6e98fd",
   "metadata": {},
   "source": [
    "### Verificando la precisión de nuestros coeficientes estimados"
   ]
  },
  {
   "cell_type": "markdown",
   "id": "003047bc-00c1-4abc-a38a-2b6d0bc7b72f",
   "metadata": {},
   "source": [
    "Recuerda que en el mundo real hay ruidos y errores de medición. Siempre se asume que la verdadera relación entre $X$ y $Y$ es $$Y = \\beta_0 + \\beta_1 X + \\epsilon$$"
   ]
  },
  {
   "cell_type": "markdown",
   "id": "c4f95e02-9178-4c24-baa8-62d1f3340d71",
   "metadata": {},
   "source": [
    "Se asume que el término de error es independiente de $X$ (el error siempre es el mismo sin importar el valor de $X$). Este modelo describe a la *línea de regresión de la población*, que es la mejor aproximación de la verdadera relación entre $X$ y $Y$. Cuando usamos mínimos cuadrados encontramos la *línea de mínimos cuadrados*."
   ]
  },
  {
   "cell_type": "markdown",
   "id": "6212c629-4064-4ec6-8569-3c28b27fcddb",
   "metadata": {},
   "source": [
    "¿Cuál es la diferencia entre población y muestra?"
   ]
  },
  {
   "cell_type": "markdown",
   "id": "def5ab26-b9b4-412b-bd60-304c688a5571",
   "metadata": {},
   "source": [
    "Una población es el total de elementos de interés en un estudio(pueden ser personas, objetos, lugares, etc) mientras que la muestra es una parte de esa población seleccionada para su análisis (por ejemplo un grupo de baile que represente a todos lo grupos de Mexico). "
   ]
  },
  {
   "cell_type": "code",
   "execution_count": null,
   "id": "4d36064d-532a-4a1b-9b0c-ae475c30951a",
   "metadata": {},
   "outputs": [],
   "source": []
  },
  {
   "cell_type": "markdown",
   "id": "54072a4b-5d31-4d69-917f-c129ecbe8ad0",
   "metadata": {},
   "source": [
    "¿Cuál crees que sea la diferencia entre hacer una regresión con todos los datos de la población y una muestra de ella?"
   ]
  },
  {
   "cell_type": "markdown",
   "id": "2a37096b-0831-4aaa-86ba-315cfc230e08",
   "metadata": {},
   "source": [
    "En la regresión con todos los datos de la población tendríamos precisión y exactitud ya que utilizaríamos toda la información y nuestro error sería muy mínimo mientras que si es con una muestra de ella, habría más error porque estamos infiriendo y haciendo estimaciones ya que solo contamos con una parte de la población"
   ]
  },
  {
   "cell_type": "code",
   "execution_count": null,
   "id": "4b433c59-1b9d-476c-9663-41a6f5bd5405",
   "metadata": {},
   "outputs": [],
   "source": []
  },
  {
   "cell_type": "markdown",
   "id": "5cb524d1-2aff-45ff-ac79-3d55cc38d016",
   "metadata": {},
   "source": [
    "La línea de regresión de la población no se puede observar. El concepto de comparar estas líneas es una extensión natural del acercamiento estadístico estándar de usar información de una muestra para estimar características de una población grande."
   ]
  },
  {
   "cell_type": "markdown",
   "id": "62dfac4e-2aa9-4b77-8852-4e6f3654b12b",
   "metadata": {},
   "source": [
    "Imagina que quieres encontrar la altura promedio de un mexicano $\\mu$. Medir a todos y cada uno de los mexicanos en situaciones similares, con la misma regla, mismo operador, y otras incontables formas de minimizar la variación de la medida es una tarea imposible. Lo que podemos asumir es que $\\hat{\\mu} = \\bar{y}$. La media poblacional y la media muestral son diferentes, pero la media muestral es usualmente un buen estimado.\n",
    "\n",
    "De la misma manera, como no contamos con el 100% de la información para hacer una regresión, los coeficientes $\\beta_0$ y $\\beta_1$ son desconocidos. Podemos estimarlos usando mínimos cuadrados, encontrando $\\hat{\\beta_0}$ y $\\hat{\\beta_1}$. Puede que las muestras que tengamos en ese momento estén un poco por encima de la media, pero otras muestras en otro momento puede que estén debajo de la media. En general, esperamos que el promedio de las aproximaciones $\\hat{\\mu}$ aproxime a $\\mu$."
   ]
  },
  {
   "cell_type": "markdown",
   "id": "c92823d6-7d21-4921-9a28-551bf115a3f0",
   "metadata": {},
   "source": [
    "Esto lleva a la pregunta: ¿qué tan cercanos son nuestros coeficientes estimados a los verdaderos coeficientes? Utilizamos el concepto de error estándar para evaluar esto.\n",
    "\n",
    "$$ \\text{Var}(\\hat{\\mu})=\\text{SE}(\\hat{\\mu})^2 = \\frac{\\sigma^2}{n} $$\n",
    "\n",
    "Donde $\\sigma$ es la desviación estándar de cada una de las observaciones $y_i$ de $Y$. El error estándar nos dice la cantidad promedio que el estimado difiere del valor verdadero. Podemos ver en la fórmula que entre más observaciones tengamos el error se hace más pequeño. Las fórmulas para errores estándar de $\\hat{\\beta_0}$ y $\\hat{\\beta_1}$ son:\n",
    "\n",
    "$$ \\text{SE}(\\hat{\\beta_0})^2 = \\sigma^2 [\\frac{1}{n} + \\frac{\\bar{x}^2}{\\sum_{i=1}^n (x_i - \\bar{x})^2}]$$\n",
    "\n",
    "$$ \\text{SE}(\\hat{\\beta_1})^2 = \\frac{\\sigma^2}{\\sum_{i=1}^n (x_i - \\bar{x})^2}$$\n",
    "\n",
    "$$ \\sigma^2 = \\text{Var}(\\epsilon) = \\text{RSE}^2 = \\frac{\\text{RSS}}{n-2}$$"
   ]
  },
  {
   "cell_type": "markdown",
   "id": "328aeb35-d85b-4c86-91cd-141d93d9a2b1",
   "metadata": {},
   "source": [
    "Para que estas fórmulas sean validas asumimos que los errores $\\epsilon_i$ tienen varianza común $\\sigma^2$ y que no están correlacionados.\n",
    "\n",
    "Calcula los errores estándar de los coeficientes"
   ]
  },
  {
   "cell_type": "code",
   "execution_count": 95,
   "id": "ee5f666c-1725-4446-ab3a-823a1d9e2a65",
   "metadata": {},
   "outputs": [
    {
     "data": {
      "text/plain": [
       "(7.032598026083125,\n",
       " 0.04753661024891639,\n",
       " 0.45784294027362404,\n",
       " 0.0026906071877977255)"
      ]
     },
     "execution_count": 95,
     "metadata": {},
     "output_type": "execute_result"
    }
   ],
   "source": [
    "import numpy as np\n",
    "import scipy.optimize as opt\n",
    "\n",
    "x_tv = df['TV'].values\n",
    "y_sales = df['sales'].values\n",
    "\n",
    "num_obs = len(y_sales)\n",
    "X_matrix = np.c_[np.ones(num_obs), x_tv]  \n",
    "y_vector = y_sales\n",
    "\n",
    "num_params = X_matrix.shape[1]\n",
    "beta_inicial = np.random.rand(num_params)  # Valores iniciales aleatorios\n",
    "\n",
    "def calcular_rss(beta, X, y):\n",
    "    y_pred = X @ beta  # Predicción de y usando los coeficientes beta\n",
    "    residual = y_pred - y  # Error entre la predicción y los valores reales\n",
    "    rss_value = residual.T @ residual  # Calculo de RSS\n",
    "    return rss_value\n",
    "\n",
    "resultado_optimizado = opt.minimize(calcular_rss, beta_inicial, args=(X_matrix, y_vector))\n",
    "coef_intercepto, coef_pendiente = resultado_optimizado.x\n",
    "\n",
    "y_pred = X_matrix @ resultado_optimizado.x\n",
    "residuals = y_vector - y_pred\n",
    "RSS = (residuals**2).sum()\n",
    "RSE = np.sqrt(RSS / (num_obs - 2))  \n",
    "\n",
    "x_mean = x_tv.mean()\n",
    "x_var = ((x_tv - x_mean)**2).sum()\n",
    "\n",
    "SE_beta1 = RSE / np.sqrt(x_var)  \n",
    "SE_beta0 = RSE * np.sqrt(1 / num_obs + (x_mean**2) / x_var)  \n",
    "\n",
    "\n",
    "coef_intercepto, coef_pendiente, SE_beta0, SE_beta1"
   ]
  },
  {
   "cell_type": "markdown",
   "id": "49c25f66-e401-4b4c-b5b2-c3ab744cefa8",
   "metadata": {},
   "source": [
    "Estos errores se pueden usar para calcular intervalos de confianza. Un intervalo de confianza del $95\\%$ se define como un rango de valores en el cuál se encuentra el desconocido valor verdadero con un $95\\%$ de probabilidad.\n",
    "\n",
    "Otra forma de verlo es que si tomamos muestras repetidas y construimos un intervalo de confianza para cada una, el $95\\%$ de los intervalos creados van a contener el valor verdadero. Para la regresión el intervalo de confianza del $95\\%$ toma la forma:\n",
    "\n",
    "$$ \\hat{\\beta_j} \\pm \\text{SE}(\\hat{\\beta_j})$$"
   ]
  },
  {
   "cell_type": "markdown",
   "id": "ae52aa71-21a6-41d8-a2ed-5205575cbb96",
   "metadata": {},
   "source": [
    "Calcula los intervalos de confianza para los coeficientes estimados:"
   ]
  },
  {
   "cell_type": "code",
   "execution_count": null,
   "id": "01fa6cd3-621c-4346-812f-9bc0cd80c4e6",
   "metadata": {},
   "outputs": [],
   "source": []
  },
  {
   "cell_type": "code",
   "execution_count": 99,
   "id": "33035312-ba96-4e19-a746-3a67756d4753",
   "metadata": {},
   "outputs": [
    {
     "data": {
      "text/plain": [
       "([6.135225863146822, 7.9299701890194285],\n",
       " [0.042263020160832845, 0.05281020033699993])"
      ]
     },
     "execution_count": 99,
     "metadata": {},
     "output_type": "execute_result"
    }
   ],
   "source": [
    "\n",
    "ICb0l = coef_intercepto - 1.96 * SE_beta0\n",
    "ICb0u = coef_intercepto + 1.96 * SE_beta0\n",
    "ICb1l = coef_pendiente - 1.96 * SE_beta1\n",
    "ICb1u = coef_pendiente + 1.96 * SE_beta1\n",
    "\n",
    "# Intervalos de confianza completos\n",
    "IC_beta_0 = [ICb0l, ICb0u]\n",
    "IC_beta_1 = [ICb1l, ICb1u]\n",
    "\n",
    "IC_beta_0, IC_beta_1\n"
   ]
  },
  {
   "cell_type": "markdown",
   "id": "7f20885e-d24d-4d1a-b04a-9cc56bbe2aca",
   "metadata": {},
   "source": [
    "Los errores estándar también se usan para realizar pruebas de hipótesis. La prueba de hipótesis más común es probar la hipótesis nula de:\n",
    "\n",
    "$$ H_0: \\text{No hay relación entre } X \\text{ y } Y \\ \\ \\ \\ (\\beta_1=0)$$"
   ]
  },
  {
   "cell_type": "markdown",
   "id": "23bd130f-6f52-470c-ad15-b476f595a880",
   "metadata": {},
   "source": [
    "contra la hipótesis alternativa:\n",
    "$$ H_0: \\text{Hay alguna relación entre } X \\text{ y } Y \\ \\ \\ (\\beta_1 \\neq 0)$$"
   ]
  },
  {
   "cell_type": "markdown",
   "id": "50302a91-3b88-470e-9091-11f9730f2c3e",
   "metadata": {},
   "source": [
    "Explica con tus palabras el significado de la hipótesis nula y la hipótesis alternativa."
   ]
  },
  {
   "cell_type": "markdown",
   "id": "87f4382e-80cd-4b4d-8105-135ab1a52b12",
   "metadata": {},
   "source": [
    "*En la hipótesis nula no hay relación entre la variable X y la variable Y, y establece que el coeficiente de beta1 es igual a cero y la hipótesis alternativa nos dice que sí hay una relación entre las variables X y Y, y establece que beta1 es diferente de cero*"
   ]
  },
  {
   "cell_type": "markdown",
   "id": "5a089c32-edde-4374-b910-ecbcc6903bbe",
   "metadata": {},
   "source": [
    "Para probal la hipótesis nula debemos determinar si nuestro estimado $\\hat{\\beta_1}$ de $\\beta_1$ está lo suficientemente alejado de cero para que podamos decir con confianza que este valor no es cero. \n",
    "\n",
    "¿Qué tan lejos? Depende de qué tanta confianza tengamos en el estimado encontrado. Si nuestro error estándar es pequeño y nuestro estimado está alejado de cero podríamos decir que hay muy poca probabilidad de que el valor verdadero sea 0. En cambio, si nuestro error estándar es grande y nuestro estimado está muy cerca de cero, entonces podrías ser que el valor verdadero sea cero y que no haya relación entre las variables."
   ]
  },
  {
   "cell_type": "markdown",
   "id": "40c6b1e2-0db8-456c-bc18-2e3d450fba15",
   "metadata": {},
   "source": [
    "Se calcula un *estadístico t* dado por\n",
    "$$ t = \\frac{\\hat{\\beta_j} - \\mu}{\\text{SE}(\\hat{\\beta_j})} $$"
   ]
  },
  {
   "cell_type": "markdown",
   "id": "ebcb14f0-b828-486b-88f4-8bd4599e3a24",
   "metadata": {},
   "source": [
    "donde $\\mu$ es el valor contra el que queremos probar. mu = 0\n",
    "\n",
    "Calcula el estadístico t para tus coeficientes estimados, usando como referencia la prueba de hipótesis."
   ]
  },
  {
   "cell_type": "code",
   "execution_count": 103,
   "id": "6abadc35-481c-4a3f-8c51-43bcd864da8d",
   "metadata": {},
   "outputs": [
    {
     "data": {
      "text/plain": [
       "15.36028396903552"
      ]
     },
     "execution_count": 103,
     "metadata": {},
     "output_type": "execute_result"
    }
   ],
   "source": [
    "t_beta_0 = (beta_0 - 0) / SE_beta0\n",
    "\n",
    "t_beta_0"
   ]
  },
  {
   "cell_type": "code",
   "execution_count": 105,
   "id": "22d55385-f03e-47df-9124-4c54e6900b1b",
   "metadata": {},
   "outputs": [
    {
     "data": {
      "text/plain": [
       "17.667615230310677"
      ]
     },
     "execution_count": 105,
     "metadata": {},
     "output_type": "execute_result"
    }
   ],
   "source": [
    "t_beta_1 = (beta_1 - 0) / SE_beta1\n",
    "\n",
    "t_beta_1"
   ]
  },
  {
   "cell_type": "code",
   "execution_count": null,
   "id": "283bc764-d92e-4054-aa17-62ba14df7336",
   "metadata": {},
   "outputs": [],
   "source": []
  },
  {
   "cell_type": "markdown",
   "id": "3351c7b7-76e3-43b3-b6fb-f387278d47d2",
   "metadata": {},
   "source": [
    "La distribución t tiene forma de campana y se parece bastante a la distribución normal cuando $n > 30$. Ya sólo es cuestión de calcular la probabilidad de observar cualquier número tal que su valor absoluto sea igual o mayor que el valor absoluto del estadístico t calculado. En otras palabras:\n",
    "$$ P(|x| \\geq |t|) $$"
   ]
  },
  {
   "cell_type": "markdown",
   "id": "1e27483e-c968-4ffd-942a-4e95196a275a",
   "metadata": {},
   "source": [
    "A esta probabilidad la llamamos *p-value*. Un *p-value* pequeño indica que es poco probable que exista por puro azar una relación significativa entre predictor y respuesta, en caso de que no haya una asociación real entre predictor y respuesta. En otras palabras, el *p-value* te dice la probabilidad de que parezca que hay relación cuando no la hay.\n",
    "\n",
    "Si el *p-value* es pequeño, inferimos que sí hay una asociación entre el predictor y la respuesta, y **rechazamos la hipótesis nula**.\n",
    "  "
   ]
  },
  {
   "cell_type": "markdown",
   "id": "c81be623-6485-428f-82de-f21f3da91bbe",
   "metadata": {},
   "source": [
    "¿Qué tan pequeño? Depende de la aplicación. Un valor muy común es del $5\\%$.\n",
    "\n",
    "Utiliza el siguiente código para calcular el *p-value* para tus coeficientes\n",
    "\n",
    "`from scipy import stats`\n",
    "\n",
    "`p_bj = 2*(1 - stats.t.cdf(np.abs(t_bj), n-2))`"
   ]
  },
  {
   "cell_type": "code",
   "execution_count": 118,
   "id": "a46e19c9-249f-4910-b1fe-639f6077f02e",
   "metadata": {},
   "outputs": [
    {
     "data": {
      "text/plain": [
       "(0.0, 0.0)"
      ]
     },
     "execution_count": 118,
     "metadata": {},
     "output_type": "execute_result"
    }
   ],
   "source": [
    "from scipy import stats\n",
    "import numpy as np\n",
    "\n",
    "n = len(X) #numero de observaciones\n",
    "\n",
    "t_bj = t_beta_0\n",
    "p_beta_0 = 2 * (1 - stats.t.cdf(np.abs(t_bj), n - 2))\n",
    "t_bj = t_beta_1\n",
    "p_beta_1 = 2 * (1 - stats.t.cdf(np.abs(t_bj), n - 2))\n",
    "\n",
    "p_beta_0, p_beta_1"
   ]
  },
  {
   "cell_type": "markdown",
   "id": "fed5f2b8-0af7-40c9-8016-cebd6831935a",
   "metadata": {},
   "source": [
    "¿Se rechaza la hipótesis nula? ¿Qué significa?"
   ]
  },
  {
   "cell_type": "markdown",
   "id": "5af2fc39-4dc4-440e-8d82-4d6f67931da2",
   "metadata": {},
   "source": [
    "Sí se rechaza y significa no hay relación entre las variables (el coeficiente es cero). Dado que el p-valor es tan bajo, podemos estar seguros de que esta hipótesis no es cierta. "
   ]
  },
  {
   "cell_type": "markdown",
   "id": "67df9156-db8f-413a-87ed-b1588de8f813",
   "metadata": {},
   "source": [
    "### Verificando la precisión del modelo"
   ]
  },
  {
   "cell_type": "markdown",
   "id": "5a15f1df-fed5-4f21-9665-8f81f590f1d6",
   "metadata": {},
   "source": [
    "Si ya tenemos unos coeficientes de regresión estimados y ya verificamos que la probabilidad de que sí hay relación entre predictor y respuesta es alta. ¿Cómo medimos qué tan bueno es nuestro modelo para predecir?\n",
    "- RSE (Residual Standard Error)\n",
    "- $R^2$"
   ]
  },
  {
   "cell_type": "markdown",
   "id": "87e53256-a80b-4f88-843c-9fa9a29ee142",
   "metadata": {},
   "source": [
    "#### $R^2$"
   ]
  },
  {
   "cell_type": "markdown",
   "id": "5773edfe-16c3-4246-adce-bb003f3bb597",
   "metadata": {},
   "source": [
    "El RSE se mide con unidades de $Y$, así que no siempre se puede saber cuál es un buen valor. Imagina que tienes un $Y$ con valores entre $-1$ y $1$, y que tienes otro $Y$ con valores entre $1'000,000$ y $100'000,000$. Los errores cuadrados van a ser mucho mayores en el segundo caso que en el primero, pero esto no significa que el modelo creado en el segundo caso sea malo.\n",
    "\n",
    "El estadístico $R^2$ es una medida de ajuste. Su valor es la proporción de la varianza sí explicada, así que siempre toma valores entre $0$ y $1$. Su fórmula es:\n",
    "\n",
    "$$ R^2 = \\frac{\\text{TSS} - \\text{RSS}}{\\text{TSS}} = 1 - \\frac{\\text{RSS}}{\\text{TSS}}$$\n",
    "$$ \\text{TSS} = \\sum_{i=1}^n (y_i - \\bar{y})^2$$"
   ]
  },
  {
   "cell_type": "markdown",
   "id": "afc748e3-061a-4af7-b123-cffedfc04a2e",
   "metadata": {},
   "source": [
    "TSS mide la varianza total de $Y$. RSS mide la varianza que queda sin explicarse después de la regresión. Entonces TSS-RSS mide la varianza que sí está explicada.\n",
    "\n",
    "$R^2$ mide la proporción de la varianza en $Y$ que puede ser explicada usando $X$.\n",
    "\n",
    "Calcula el estadístico $R^2$. ¿Cuánta varianza quedó sin explicar?"
   ]
  },
  {
   "cell_type": "code",
   "execution_count": 120,
   "id": "6504e6b2-0c22-491c-8c2b-93518a11b689",
   "metadata": {},
   "outputs": [
    {
     "data": {
      "text/plain": [
       "(3.258656368651498, 0.6118750508498243)"
      ]
     },
     "execution_count": 120,
     "metadata": {},
     "output_type": "execute_result"
    }
   ],
   "source": [
    "import numpy as np\n",
    "\n",
    "RSS = ((y_vector - y_pred) ** 2).sum()\n",
    "y_mean = np.mean(y_vector)\n",
    "TSS = ((y_vector - y_mean) ** 2).sum()\n",
    "\n",
    "RSE = np.sqrt(RSS / (num_obs - 2)) #es la varianza \n",
    "\n",
    "#R^2\n",
    "R_cuadrado = 1 - (RSS / TSS)\n",
    "\n",
    "RSE, R_cuadrado\n"
   ]
  },
  {
   "cell_type": "code",
   "execution_count": 445,
   "id": "daff6aee-e0a9-477e-974d-24d1d3b22264",
   "metadata": {},
   "outputs": [
    {
     "data": {
      "text/plain": [
       "0.38812494915015994"
      ]
     },
     "execution_count": 445,
     "metadata": {},
     "output_type": "execute_result"
    }
   ],
   "source": [
    "Vari = 1- R_cuadrado\n",
    "Vari  #esta es la varianza sin explicar"
   ]
  },
  {
   "cell_type": "markdown",
   "id": "e6c2cdfd-99ff-47e1-8ab1-50abe74b594e",
   "metadata": {},
   "source": [
    "Realiza otras dos regresiones. Ya tienes hecha la regresión de ventas dado el gasto en publicidad de TV. Realiza la regresión para gastos en radio y gastos en periódico. Organiza las respuestas para que debajo de esta celda se tenga:\n",
    "- Título de regresión\n",
    "- Coeficientes estimados\n",
    "- Errores estándar de los coeficientes\n",
    "- Intervalos de confianza\n",
    "- Estadísticos t\n",
    "- p-values\n",
    "- Observaciones"
   ]
  },
  {
   "cell_type": "markdown",
   "id": "ca659fd0-1131-436c-9461-bfe598de0f84",
   "metadata": {},
   "source": [
    "### Gastos en radio"
   ]
  },
  {
   "cell_type": "code",
   "execution_count": 124,
   "id": "db3d1692-6ccf-4f91-89f8-9aadbf3ac28f",
   "metadata": {},
   "outputs": [
    {
     "data": {
      "text/plain": [
       "  message: Optimization terminated successfully.\n",
       "  success: True\n",
       "   status: 0\n",
       "      fun: 3618.4795490251045\n",
       "        x: [ 9.312e+00  2.025e-01]\n",
       "      nit: 4\n",
       "      jac: [ 0.000e+00  0.000e+00]\n",
       " hess_inv: [[ 8.669e-03 -2.652e-04]\n",
       "            [-2.652e-04  1.140e-05]]\n",
       "     nfev: 18\n",
       "     njev: 6"
      ]
     },
     "execution_count": 124,
     "metadata": {},
     "output_type": "execute_result"
    }
   ],
   "source": [
    "import numpy as np\n",
    "import scipy.optimize as opt\n",
    "\n",
    "x_radio = df['radio'].values  \n",
    "y_sales = df['sales'].values\n",
    "\n",
    "num_obs = len(y_sales)\n",
    "X_matriz = np.c_[np.ones(num_obs), x_radio]\n",
    "\n",
    "num_params = X_matriz.shape[1]\n",
    "\n",
    "beta_inicial = np.random.rand(num_params)\n",
    "\n",
    "def calcular_rss(beta, X, y):\n",
    "    y_pred = X @ beta  \n",
    "    residual = y_pred - y  \n",
    "    rss_value = residual.T @ residual  # Calcular RSS\n",
    "    return rss_value\n",
    "\n",
    "\n",
    "coef_intercepto, coef_radio = resultado_optimizado.x\n",
    "\n",
    "opt.minimize(calcular_rss, beta_inicial, args=(X_matriz, y_sales))\n"
   ]
  },
  {
   "cell_type": "code",
   "execution_count": 126,
   "id": "ed5990e1-f570-46e6-8e39-4f92eccc4c5b",
   "metadata": {},
   "outputs": [
    {
     "data": {
      "text/plain": [
       "(0.2024957833924397, 9.311638095158283)"
      ]
     },
     "execution_count": 126,
     "metadata": {},
     "output_type": "execute_result"
    }
   ],
   "source": [
    "\n",
    "x_radio_media = np.mean(x_radio)  \n",
    "y_sales_media = np.mean(y_sales)  \n",
    "\n",
    "beta_1 = (np.sum((x_radio - x_radio_media) * (y_sales - y_sales_media))) / (np.sum((x_radio - x_radio_media) ** 2))\n",
    "beta_0 = y_sales_media - beta_1 * x_radio_media\n",
    "beta_1, beta_0"
   ]
  },
  {
   "cell_type": "code",
   "execution_count": 148,
   "id": "4fb400ff-767e-480f-be4e-fefd5abd8e96",
   "metadata": {},
   "outputs": [
    {
     "data": {
      "text/plain": [
       "(0.5629004962718711, 0.020411306360090635)"
      ]
     },
     "execution_count": 148,
     "metadata": {},
     "output_type": "execute_result"
    }
   ],
   "source": [
    "residuo = y_sales - (beta_0 + beta_1 * x_radio)  \n",
    "RSS = np.sum(residuo ** 2)  \n",
    "RSE = np.sqrt(RSS / (num_obs - 2))  \n",
    "x_var = np.sum((x_radio - x_radio_media) ** 2)\n",
    "\n",
    "SE_beta1 = RSE / np.sqrt(x_var) \n",
    "SE_beta0 = RSE * np.sqrt(1 / num_obs + (x_radio_media ** 2) / x_var) \n",
    "SE_beta0, SE_beta1"
   ]
  },
  {
   "cell_type": "code",
   "execution_count": 150,
   "id": "cbc75d5f-4f15-4cc0-ba24-d4336023852e",
   "metadata": {},
   "outputs": [
    {
     "data": {
      "text/plain": [
       "(8.208353122465416,\n",
       " 10.41492306785115,\n",
       " 0.16248962292666205,\n",
       " 0.24250194385821736)"
      ]
     },
     "execution_count": 150,
     "metadata": {},
     "output_type": "execute_result"
    }
   ],
   "source": [
    "\n",
    "ICB0l = beta_0 - 1.96 * SE_beta0\n",
    "ICB0u = beta_0 + 1.96 * SE_beta0\n",
    "\n",
    "ICB1l = beta_1 - 1.96 * SE_beta1\n",
    "ICB1u = beta_1 + 1.96 * SE_beta1\n",
    "\n",
    "ICB0l, ICB0u, ICB1l, ICB1u"
   ]
  },
  {
   "cell_type": "code",
   "execution_count": 152,
   "id": "6112e006-3218-443f-9bed-0d7a3facaff6",
   "metadata": {},
   "outputs": [
    {
     "data": {
      "text/plain": [
       "(16.542245311258217, 9.92076547282496)"
      ]
     },
     "execution_count": 152,
     "metadata": {},
     "output_type": "execute_result"
    }
   ],
   "source": [
    "t_beta_0 = beta_0 / SE_beta0\n",
    "t_beta_1 = beta_1 / SE_beta1\n",
    "\n",
    "t_beta_0, t_beta_1"
   ]
  },
  {
   "cell_type": "code",
   "execution_count": 457,
   "id": "d40adf63-6400-46f5-8b29-d9d2fe52d39f",
   "metadata": {},
   "outputs": [
    {
     "data": {
      "text/plain": [
       "(0.0, 0.0)"
      ]
     },
     "execution_count": 457,
     "metadata": {},
     "output_type": "execute_result"
    }
   ],
   "source": [
    "from scipy import stats\n",
    "\n",
    "df = num_obs - 2\n",
    "\n",
    "p_beta_0 = (1 - t.cdf(abs(t_beta_0), df)) * 2  \n",
    "p_beta_1 = (1 - t.cdf(abs(t_beta_1), df)) * 2  \n",
    "\n",
    "p_beta_0, p_beta_1"
   ]
  },
  {
   "cell_type": "markdown",
   "id": "cf0fb338-59da-484e-bc80-b390a3227a8a",
   "metadata": {},
   "source": [
    "### Gastos en periodico"
   ]
  },
  {
   "cell_type": "code",
   "execution_count": 154,
   "id": "193b6cd9-f630-4a5f-99d0-a6a381b4d39a",
   "metadata": {},
   "outputs": [
    {
     "data": {
      "text/plain": [
       "  message: Desired error not necessarily achieved due to precision loss.\n",
       "  success: False\n",
       "   status: 2\n",
       "      fun: 5134.804544111961\n",
       "        x: [ 1.235e+01  5.469e-02]\n",
       "      nit: 5\n",
       "      jac: [ 0.000e+00  6.104e-05]\n",
       " hess_inv: [[ 7.272e-05 -5.277e-06]\n",
       "            [-5.277e-06  1.972e-06]]\n",
       "     nfev: 177\n",
       "     njev: 55"
      ]
     },
     "execution_count": 154,
     "metadata": {},
     "output_type": "execute_result"
    }
   ],
   "source": [
    "import numpy as np\n",
    "import scipy.optimize as opt\n",
    "\n",
    "x_peri = df['newspaper'].values  \n",
    "y_sales = df['sales'].values\n",
    "\n",
    "num_obs = len(y_sales)\n",
    "X_matriz = np.c_[np.ones(num_obs), x_peri]\n",
    "\n",
    "num_params = X_matriz.shape[1]\n",
    "\n",
    "beta_inicial = np.random.rand(num_params)\n",
    "\n",
    "def calcular_rss(beta, X, y):\n",
    "    y_pred = X @ beta  \n",
    "    residual = y_pred - y  \n",
    "    rss_value = residual.T @ residual  # Calcular RSS\n",
    "    return rss_value\n",
    "coef_intercepto, coef_peri = resultado_optimizado.x\n",
    "\n",
    "opt.minimize(calcular_rss, beta_inicial, args=(X_matriz, y_sales))\n"
   ]
  },
  {
   "cell_type": "code",
   "execution_count": 156,
   "id": "3808ac83-967f-4c70-8744-5ed7a34326ff",
   "metadata": {},
   "outputs": [
    {
     "data": {
      "text/plain": [
       "(0.054693098472273355, 12.35140706927816)"
      ]
     },
     "execution_count": 156,
     "metadata": {},
     "output_type": "execute_result"
    }
   ],
   "source": [
    "x_peri_media = np.mean(x_peri)  \n",
    "y_sales_media = np.mean(y_sales)  \n",
    "\n",
    "beta_1 = (np.sum((x_peri - x_peri_media) * (y_sales - y_sales_media))) / (np.sum((x_peri - x_peri_media) ** 2))\n",
    "beta_0 = y_sales_media - beta_1 * x_peri_media\n",
    "beta_1, beta_0\n"
   ]
  },
  {
   "cell_type": "code",
   "execution_count": 158,
   "id": "dd50685e-30a0-4468-b92d-5e7613da3bc2",
   "metadata": {},
   "outputs": [
    {
     "data": {
      "text/plain": [
       "(0.6214201876094345, 0.01657572187635816)"
      ]
     },
     "execution_count": 158,
     "metadata": {},
     "output_type": "execute_result"
    }
   ],
   "source": [
    "residuo = y_sales - (beta_0 + beta_1 * x_peri)  \n",
    "RSS = np.sum(residuo ** 2)  \n",
    "RSE = np.sqrt(RSS / (num_obs - 2))  \n",
    "x_var = np.sum((x_peri - x_peri_media) ** 2)\n",
    "\n",
    "SE_beta_1 = RSE / np.sqrt(x_var) \n",
    "SE_beta_0 = RSE * np.sqrt(1 / num_obs + (x_peri_media ** 2) / x_var) \n",
    "SE_beta_0, SE_beta_1"
   ]
  },
  {
   "cell_type": "code",
   "execution_count": 160,
   "id": "78ae5f83-373c-491a-966c-73c8396f2e1b",
   "metadata": {},
   "outputs": [
    {
     "data": {
      "text/plain": [
       "(11.13342350156367,\n",
       " 13.569390636992651,\n",
       " 0.022204683594611356,\n",
       " 0.08718151334993535)"
      ]
     },
     "execution_count": 160,
     "metadata": {},
     "output_type": "execute_result"
    }
   ],
   "source": [
    "\n",
    "ICB0l = beta_0 - 1.96 * SE_beta_0\n",
    "ICB0u = beta_0 + 1.96 * SE_beta_0\n",
    "\n",
    "ICB1l = beta_1 - 1.96 * SE_beta_1\n",
    "ICB1u = beta_1 + 1.96 * SE_beta_1\n",
    "\n",
    "ICB0l, ICB0u, ICB1l, ICB1u"
   ]
  },
  {
   "cell_type": "code",
   "execution_count": 168,
   "id": "f15f7536-4cc8-4dff-a463-1fcecc94da8a",
   "metadata": {},
   "outputs": [
    {
     "data": {
      "text/plain": [
       "(19.876095620248947, 3.299590743633419)"
      ]
     },
     "execution_count": 168,
     "metadata": {},
     "output_type": "execute_result"
    }
   ],
   "source": [
    "t_beta_0 = beta_0 / SE_beta_0\n",
    "t_beta_1 = beta_1 / SE_beta_1\n",
    "\n",
    "t_beta_0, t_beta_1"
   ]
  },
  {
   "cell_type": "code",
   "execution_count": 172,
   "id": "56c6fbb0-f117-4980-b1ee-857d453245c4",
   "metadata": {},
   "outputs": [
    {
     "data": {
      "text/plain": [
       "(0.0, 0.0011481958688881466)"
      ]
     },
     "execution_count": 172,
     "metadata": {},
     "output_type": "execute_result"
    }
   ],
   "source": [
    "from scipy import stats\n",
    "\n",
    "df = num_obs - 2\n",
    "\n",
    "p_beta_0 = (1 - stats.t.cdf(abs(t_beta_0), df)) * 2\n",
    "p_beta_1 = (1 - stats.t.cdf(abs(t_beta_1), df)) * 2\n",
    "\n",
    "p_beta_0, p_beta_1\n"
   ]
  },
  {
   "cell_type": "markdown",
   "id": "304d9a5c-92e9-4f44-898b-eaec6af135bb",
   "metadata": {},
   "source": [
    "## Regresión lineal múltiple"
   ]
  },
  {
   "cell_type": "markdown",
   "id": "69aed655-7d42-414c-a05c-7564e4010cde",
   "metadata": {},
   "source": [
    "En lugar de hacer una regresión para cada factor independiente, quizás se puede extender el modelo para que tenga varios factores dentro:\n",
    "\n",
    "$$ Y = \\beta_0 + \\beta_1 X_1 + \\beta_2 X_2 + ... + \\beta_p X_p + \\epsilon $$\n",
    "\n",
    "Para nuestro ejemplo de publicidad:\n",
    "\n",
    "$$ \\text{sales} = \\beta_0 + \\beta_1 (\\text{TV}) + \\beta_2 (\\text{radio}) + \\beta_3 (\\text{newspaper}) + \\epsilon $$"
   ]
  },
  {
   "cell_type": "markdown",
   "id": "bd93eb8c-f115-4de4-86a1-820a89f4f087",
   "metadata": {},
   "source": [
    "Utiliza la función `minimize` para estimar los coeficientes $\\beta_0$, $\\beta_1$, $\\beta_2$ y $\\beta_3$"
   ]
  },
  {
   "cell_type": "code",
   "execution_count": 182,
   "id": "8df732e0-1512-442c-88fe-2b8ca9bd1756",
   "metadata": {},
   "outputs": [
    {
     "data": {
      "text/plain": [
       "  message: Optimization terminated successfully.\n",
       "  success: True\n",
       "   status: 0\n",
       "      fun: 556.8252629034524\n",
       "        x: [ 2.939e+00  4.576e-02  1.885e-01 -1.038e-03]\n",
       "      nit: 5\n",
       "      jac: [-7.629e-06  7.629e-06  7.629e-06 -7.629e-06]\n",
       " hess_inv: [[ 1.712e-02 -4.677e-05 -1.963e-04 -1.040e-04]\n",
       "            [-4.677e-05  3.424e-07 -7.868e-08 -5.748e-08]\n",
       "            [-1.963e-04 -7.868e-08  1.305e-05 -3.133e-06]\n",
       "            [-1.040e-04 -5.748e-08 -3.133e-06  6.066e-06]]\n",
       "     nfev: 45\n",
       "     njev: 9"
      ]
     },
     "execution_count": 182,
     "metadata": {},
     "output_type": "execute_result"
    }
   ],
   "source": [
    "import numpy as np\n",
    "import scipy.optimize as opt\n",
    "\n",
    "X = df[['TV', 'radio', 'newspaper']].values  \n",
    "y = df['sales'].values  \n",
    "num_obs = len(y)\n",
    "\n",
    "X_matrix = np.c_[np.ones(num_obs), X]\n",
    "\n",
    "num_params = X_matrix.shape[1]\n",
    "\n",
    "beta_inicial = np.random.rand(num_params)\n",
    "\n",
    "def calcular_rss(beta, X, y):\n",
    "    y_pred = X @ beta \n",
    "    residual = y_pred - y  \n",
    "    rss_value = residual.T @ residual  \n",
    "    return rss_value\n",
    "\n",
    "resul = opt.minimize(calcular_rss, beta_inicial, args=(X_matrix, y))\n",
    "resul"
   ]
  },
  {
   "cell_type": "markdown",
   "id": "7f2c2714-b7f4-4e23-8499-3a191642d829",
   "metadata": {},
   "source": [
    "Calcula el RSS y RSE."
   ]
  },
  {
   "cell_type": "code",
   "execution_count": 236,
   "id": "d4b1adc2-eab4-4a1b-a4ad-7d77b9af5fcc",
   "metadata": {},
   "outputs": [
    {
     "data": {
      "text/plain": [
       "556.8252629034268"
      ]
     },
     "execution_count": 236,
     "metadata": {},
     "output_type": "execute_result"
    }
   ],
   "source": [
    "X_matriz = np.c_[np.ones(len(y)), df[['TV', 'radio', 'newspaper']].values]\n",
    "y_predi = X_matriz @ resultado_optimizado.x \n",
    "error = y - y_predi\n",
    "RSS = np.sum(error ** 2)\n",
    "\n",
    "RSS"
   ]
  },
  {
   "cell_type": "code",
   "execution_count": 234,
   "id": "2b0d40e4-6be6-4004-b61e-cb7adbd88cf3",
   "metadata": {},
   "outputs": [
    {
     "data": {
      "text/plain": [
       "1.6855103734166204"
      ]
     },
     "execution_count": 234,
     "metadata": {},
     "output_type": "execute_result"
    }
   ],
   "source": [
    "num_obs = len(y) \n",
    "num_params = X_matriz.shape[1]  \n",
    "RSE = np.sqrt(RSS / (num_obs - num_params)) \n",
    "RSE"
   ]
  },
  {
   "cell_type": "markdown",
   "id": "ec0b0118-2799-4444-9dcf-692dfbe67df5",
   "metadata": {},
   "source": [
    "Dada tu matriz $X$ que contiene todos los factores como columnas, utiliza el siguiente código para encontrar el error estándar de tus estimaciones\n",
    "\n",
    "`var_beta = np.linalg.inv(X.T @ X) * rse**2`\n",
    "\n",
    "`std_beta = np.sqrt(var_beta.diagonal())`\n",
    "\n",
    "El orden de los valores corresponde al orden de los factores en las columnas de la matriz $X$."
   ]
  },
  {
   "cell_type": "code",
   "execution_count": 238,
   "id": "f3140322-742f-434d-8ea5-becd3d2a4984",
   "metadata": {},
   "outputs": [
    {
     "data": {
      "text/plain": [
       "array([0.31190824, 0.0013949 , 0.00861123, 0.00587101])"
      ]
     },
     "execution_count": 238,
     "metadata": {},
     "output_type": "execute_result"
    }
   ],
   "source": [
    "var_beta = np.linalg.inv(X_matriz.T @ X_matriz) * RSE**2\n",
    "std_beta = np.sqrt(np.diag(var_beta))\n",
    "\n",
    "var_beta = np.linalg.inv(X_matriz.T @ X_matriz) * RSE**2\n",
    "\n",
    "std_beta = np.sqrt(np.diag(var_beta))\n",
    "std_beta\n"
   ]
  },
  {
   "cell_type": "markdown",
   "id": "1b266483-3d08-4f75-9c0e-98eb770605cf",
   "metadata": {},
   "source": [
    "Calcula los estadísticos t y *p-values* de tus estimaciones."
   ]
  },
  {
   "cell_type": "code",
   "execution_count": 329,
   "id": "190bff68-39b4-47cd-9c4a-4d79396d9469",
   "metadata": {},
   "outputs": [
    {
     "data": {
      "text/plain": [
       "array([ 9.42229821, 32.80861607, 21.8934952 , -0.17671484])"
      ]
     },
     "execution_count": 329,
     "metadata": {},
     "output_type": "execute_result"
    }
   ],
   "source": [
    "coeficientes_estimados = resultado_optimizado.x\n",
    "t_estadisticos = coeficientes_estimados / std_beta\n",
    "t_estadisticos"
   ]
  },
  {
   "cell_type": "code",
   "execution_count": 412,
   "id": "40a6d442-1b81-46d1-a4a2-a5e0b4bb6e35",
   "metadata": {},
   "outputs": [
    {
     "data": {
      "text/plain": [
       "array([0.        , 0.        , 0.        , 0.85991485])"
      ]
     },
     "execution_count": 412,
     "metadata": {},
     "output_type": "execute_result"
    }
   ],
   "source": [
    "from scipy import stats\n",
    "\n",
    "df = num_obs - num_params\n",
    "p_values = (1 - t.cdf(abs(t_estadisticos), df)) * 2 \n",
    "p_values\n"
   ]
  },
  {
   "cell_type": "markdown",
   "id": "c72cd4fd-3670-47d8-84a0-4375bd6b0a81",
   "metadata": {},
   "source": [
    "¿Qué diferencias puedes observar entre los *p-values* de una regresión múltiple y los encontrados en regresiones simples? ¿Por qué crees que existen estas diferencias?"
   ]
  },
  {
   "cell_type": "markdown",
   "id": "c6c4d945-5a9c-462c-bd3c-446f01839ad6",
   "metadata": {},
   "source": [
    "Los p-values de una regresión múltiple tienden a ser diferentes (a menudo más altos) que los de las regresiones simples porque la significancia de cada predictor se evalúa después de controlar por la influencia de otros predictores, lo que puede aumentar la varianza de sus coeficientes."
   ]
  },
  {
   "cell_type": "markdown",
   "id": "92356829-60cc-495f-9464-215c652cacf8",
   "metadata": {},
   "source": [
    "## Referencia\n",
    "\n",
    "James, G., Witten, D., Hastie, T., Tibshirani, R.,, Taylor, J. (2023). An Introduction to Statistical Learning with Applications in Python. Cham: Springer. ISBN: 978-3-031-38746-3"
   ]
  },
  {
   "cell_type": "code",
   "execution_count": null,
   "id": "ce7cf453-0e4f-49c9-be6e-c402a2fc7946",
   "metadata": {},
   "outputs": [],
   "source": []
  }
 ],
 "metadata": {
  "kernelspec": {
   "display_name": "Python 3 (ipykernel)",
   "language": "python",
   "name": "python3"
  },
  "language_info": {
   "codemirror_mode": {
    "name": "ipython",
    "version": 3
   },
   "file_extension": ".py",
   "mimetype": "text/x-python",
   "name": "python",
   "nbconvert_exporter": "python",
   "pygments_lexer": "ipython3",
   "version": "3.12.4"
  }
 },
 "nbformat": 4,
 "nbformat_minor": 5
}
