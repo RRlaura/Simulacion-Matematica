{
 "cells": [
  {
   "cell_type": "markdown",
   "id": "8b8d68bd-b8bd-433b-bfbf-c7e04f1f4f0c",
   "metadata": {},
   "source": [
    "# Python"
   ]
  },
  {
   "cell_type": "code",
   "execution_count": null,
   "id": "267051c1-becd-4070-9683-91c6a821377f",
   "metadata": {},
   "outputs": [],
   "source": []
  },
  {
   "cell_type": "code",
   "execution_count": null,
   "id": "07127d91-4bcb-4945-83c3-5d6e90f0d164",
   "metadata": {},
   "outputs": [],
   "source": []
  },
  {
   "cell_type": "markdown",
   "id": "184cdca7-3c67-4a38-be91-9680d6c33dd5",
   "metadata": {},
   "source": [
    "# Tipos de variables"
   ]
  },
  {
   "cell_type": "code",
   "execution_count": 24,
   "id": "11da0101-10e9-4bcf-a609-872366543df8",
   "metadata": {},
   "outputs": [
    {
     "name": "stdout",
     "output_type": "stream",
     "text": [
      "3.141592\n"
     ]
    },
    {
     "data": {
      "text/plain": [
       "float"
      ]
     },
     "execution_count": 24,
     "metadata": {},
     "output_type": "execute_result"
    }
   ],
   "source": [
    "pi = 3.141592\n",
    "print(pi)\n",
    "type(pi)"
   ]
  },
  {
   "cell_type": "code",
   "execution_count": 26,
   "id": "5b1ad5b2-af99-4b86-bc1c-4ad9fb51d537",
   "metadata": {},
   "outputs": [
    {
     "name": "stdout",
     "output_type": "stream",
     "text": [
      "G\n"
     ]
    },
    {
     "data": {
      "text/plain": [
       "str"
      ]
     },
     "execution_count": 26,
     "metadata": {},
     "output_type": "execute_result"
    }
   ],
   "source": [
    "inicial = 'G'\n",
    "print(inicial)\n",
    "type(inicial)"
   ]
  },
  {
   "cell_type": "code",
   "execution_count": 28,
   "id": "dbf4f8fc-92b2-41bf-af19-624055d78ac9",
   "metadata": {},
   "outputs": [
    {
     "name": "stdout",
     "output_type": "stream",
     "text": [
      "Morales\n"
     ]
    },
    {
     "data": {
      "text/plain": [
       "str"
      ]
     },
     "execution_count": 28,
     "metadata": {},
     "output_type": "execute_result"
    }
   ],
   "source": [
    "apellido = \"Morales\"\n",
    "print(apellido)\n",
    "type(apellido)"
   ]
  },
  {
   "cell_type": "code",
   "execution_count": 22,
   "id": "f0569731-9139-4135-b447-eff1e7d1f384",
   "metadata": {},
   "outputs": [
    {
     "name": "stdout",
     "output_type": "stream",
     "text": [
      "4\n"
     ]
    },
    {
     "data": {
      "text/plain": [
       "int"
      ]
     },
     "execution_count": 22,
     "metadata": {},
     "output_type": "execute_result"
    }
   ],
   "source": [
    "no_intentos = 4\n",
    "print(no_intentos)\n",
    "type(no_intentos)"
   ]
  },
  {
   "cell_type": "code",
   "execution_count": 30,
   "id": "af496bd8-6adb-4a15-8bbc-91d682bf7f54",
   "metadata": {},
   "outputs": [
    {
     "name": "stdout",
     "output_type": "stream",
     "text": [
      "True\n"
     ]
    },
    {
     "data": {
      "text/plain": [
       "bool"
      ]
     },
     "execution_count": 30,
     "metadata": {},
     "output_type": "execute_result"
    }
   ],
   "source": [
    "desayuno = True\n",
    "print(desayuno)\n",
    "type(desayuno)"
   ]
  },
  {
   "cell_type": "markdown",
   "id": "0fe2b704-5394-48cf-985e-4c8a20cd5a25",
   "metadata": {},
   "source": [
    "# Matemáticos"
   ]
  },
  {
   "cell_type": "markdown",
   "id": "aabbc3ec-fbf6-4bdc-a7d6-433dc902852e",
   "metadata": {},
   "source": [
    "$$ + $$\n",
    "$$ - $$\n",
    "$$ * $$\n",
    "$$ / $$\n",
    "$$ // $$\n",
    "$$ ** $$\n",
    "$$ \\% $$"
   ]
  },
  {
   "cell_type": "code",
   "execution_count": 44,
   "id": "47b7b744-cecd-4852-ad35-c9c2cc18491b",
   "metadata": {},
   "outputs": [
    {
     "data": {
      "text/plain": [
       "8.2"
      ]
     },
     "execution_count": 44,
     "metadata": {},
     "output_type": "execute_result"
    }
   ],
   "source": [
    "a = 3\n",
    "b = 5.2\n",
    "\n",
    "a + b"
   ]
  },
  {
   "cell_type": "code",
   "execution_count": 46,
   "id": "1b37afc6-5126-419e-b986-1bf3f06c8e44",
   "metadata": {},
   "outputs": [
    {
     "data": {
      "text/plain": [
       "-2.2"
      ]
     },
     "execution_count": 46,
     "metadata": {},
     "output_type": "execute_result"
    }
   ],
   "source": [
    "a - b"
   ]
  },
  {
   "cell_type": "code",
   "execution_count": 48,
   "id": "256a254f-1990-49ff-ae27-bff3e0cb7e77",
   "metadata": {},
   "outputs": [
    {
     "data": {
      "text/plain": [
       "15.600000000000001"
      ]
     },
     "execution_count": 48,
     "metadata": {},
     "output_type": "execute_result"
    }
   ],
   "source": [
    "a*b"
   ]
  },
  {
   "cell_type": "code",
   "execution_count": 50,
   "id": "1ec177ca-9733-401f-a717-cac70121662d",
   "metadata": {},
   "outputs": [
    {
     "data": {
      "text/plain": [
       "0.5769230769230769"
      ]
     },
     "execution_count": 50,
     "metadata": {},
     "output_type": "execute_result"
    }
   ],
   "source": [
    "a/b"
   ]
  },
  {
   "cell_type": "code",
   "execution_count": 52,
   "id": "65600514-016d-40d6-a2eb-9efa1525ef5b",
   "metadata": {},
   "outputs": [
    {
     "data": {
      "text/plain": [
       "302.71261832657075"
      ]
     },
     "execution_count": 52,
     "metadata": {},
     "output_type": "execute_result"
    }
   ],
   "source": [
    "a**b"
   ]
  },
  {
   "cell_type": "code",
   "execution_count": 57,
   "id": "56e3211a-2989-4f9b-a1ab-6a322bdbdcf4",
   "metadata": {},
   "outputs": [
    {
     "data": {
      "text/plain": [
       "0.0"
      ]
     },
     "execution_count": 57,
     "metadata": {},
     "output_type": "execute_result"
    }
   ],
   "source": [
    "a // b"
   ]
  },
  {
   "cell_type": "code",
   "execution_count": 59,
   "id": "6b0e0eb5-039f-4607-b18a-7ce774bb0b16",
   "metadata": {},
   "outputs": [
    {
     "data": {
      "text/plain": [
       "3.0"
      ]
     },
     "execution_count": 59,
     "metadata": {},
     "output_type": "execute_result"
    }
   ],
   "source": [
    "a % b"
   ]
  },
  {
   "cell_type": "code",
   "execution_count": 64,
   "id": "171fe36c-e1d1-448e-93b7-1586580e49c4",
   "metadata": {},
   "outputs": [
    {
     "data": {
      "text/plain": [
       "'Gabrielmorales'"
      ]
     },
     "execution_count": 64,
     "metadata": {},
     "output_type": "execute_result"
    }
   ],
   "source": [
    "nombre = \"Gabriel\"\n",
    "apellido = \"morales\"\n",
    "\n",
    "nombre + apellido"
   ]
  },
  {
   "cell_type": "code",
   "execution_count": 66,
   "id": "c31c498b-0841-4d69-8d71-7f70b3c8a72b",
   "metadata": {},
   "outputs": [
    {
     "name": "stdout",
     "output_type": "stream",
     "text": [
      "El resultado de sumar a y b es: 8.2\n"
     ]
    }
   ],
   "source": [
    "c = a + b\n",
    "print(\"El resultado de sumar a y b es: \" + str(c))"
   ]
  },
  {
   "cell_type": "code",
   "execution_count": 68,
   "id": "4a95f935-1ac7-4bf8-b7a5-2866be5074e8",
   "metadata": {},
   "outputs": [
    {
     "data": {
      "text/plain": [
       "float"
      ]
     },
     "execution_count": 68,
     "metadata": {},
     "output_type": "execute_result"
    }
   ],
   "source": [
    "a = 3\n",
    "type(float(a))"
   ]
  },
  {
   "cell_type": "markdown",
   "id": "7a0642ca-2806-4058-a544-e3b422fbec18",
   "metadata": {},
   "source": [
    "# Booleanos\n"
   ]
  },
  {
   "cell_type": "markdown",
   "id": "36cb748c-f29a-4f7a-bddf-9a36d96344e5",
   "metadata": {},
   "source": [
    "$$ > $$\n",
    "$$ < $$\n",
    "$$ >= $$\n",
    "$$ <= $$\n",
    "$$ != $$\n",
    "$$ == $$\n",
    "$$ && $$\n",
    "$$ || $$"
   ]
  },
  {
   "cell_type": "code",
   "execution_count": 72,
   "id": "713a54d2-2fd9-4c62-bed8-37158a9aa26f",
   "metadata": {},
   "outputs": [
    {
     "data": {
      "text/plain": [
       "3"
      ]
     },
     "execution_count": 72,
     "metadata": {},
     "output_type": "execute_result"
    }
   ],
   "source": [
    "a\n"
   ]
  },
  {
   "cell_type": "code",
   "execution_count": 74,
   "id": "6403fc86-0c4e-4d42-9484-c460b90f73e5",
   "metadata": {},
   "outputs": [
    {
     "data": {
      "text/plain": [
       "5.2"
      ]
     },
     "execution_count": 74,
     "metadata": {},
     "output_type": "execute_result"
    }
   ],
   "source": [
    "b"
   ]
  },
  {
   "cell_type": "code",
   "execution_count": 76,
   "id": "7f65af1f-2945-4a91-822b-74da6d599beb",
   "metadata": {},
   "outputs": [
    {
     "data": {
      "text/plain": [
       "True"
      ]
     },
     "execution_count": 76,
     "metadata": {},
     "output_type": "execute_result"
    }
   ],
   "source": [
    "a < b"
   ]
  },
  {
   "cell_type": "code",
   "execution_count": 78,
   "id": "3a4e3132-82ec-4687-b4ab-6335916875a0",
   "metadata": {},
   "outputs": [
    {
     "data": {
      "text/plain": [
       "False"
      ]
     },
     "execution_count": 78,
     "metadata": {},
     "output_type": "execute_result"
    }
   ],
   "source": [
    "a > b"
   ]
  },
  {
   "cell_type": "code",
   "execution_count": 82,
   "id": "71472797-f80a-423b-893c-57ffe7992ee5",
   "metadata": {},
   "outputs": [
    {
     "data": {
      "text/plain": [
       "'morales'"
      ]
     },
     "execution_count": 82,
     "metadata": {},
     "output_type": "execute_result"
    }
   ],
   "source": [
    "apellido "
   ]
  },
  {
   "cell_type": "code",
   "execution_count": 80,
   "id": "66330745-2f47-4170-ade5-1efbebfc2c64",
   "metadata": {},
   "outputs": [
    {
     "data": {
      "text/plain": [
       "True"
      ]
     },
     "execution_count": 80,
     "metadata": {},
     "output_type": "execute_result"
    }
   ],
   "source": [
    "apellido != \"ruiz\""
   ]
  },
  {
   "cell_type": "code",
   "execution_count": 84,
   "id": "8574809b-71a6-45cc-bd93-8a07e07e4979",
   "metadata": {},
   "outputs": [
    {
     "data": {
      "text/plain": [
       "True"
      ]
     },
     "execution_count": 84,
     "metadata": {},
     "output_type": "execute_result"
    }
   ],
   "source": [
    "apellido == \"morales\""
   ]
  },
  {
   "cell_type": "code",
   "execution_count": 86,
   "id": "0170a6f5-75f4-41ee-b6c7-117f1421918a",
   "metadata": {},
   "outputs": [
    {
     "data": {
      "text/plain": [
       "True"
      ]
     },
     "execution_count": 86,
     "metadata": {},
     "output_type": "execute_result"
    }
   ],
   "source": [
    "a = 3\n",
    "b = 3\n",
    "c = 4\n",
    "a == b"
   ]
  },
  {
   "cell_type": "code",
   "execution_count": 88,
   "id": "deb0919e-cc4d-4937-becf-2b5bd766cedd",
   "metadata": {},
   "outputs": [
    {
     "data": {
      "text/plain": [
       "False"
      ]
     },
     "execution_count": 88,
     "metadata": {},
     "output_type": "execute_result"
    }
   ],
   "source": [
    "a == c"
   ]
  },
  {
   "cell_type": "code",
   "execution_count": 96,
   "id": "bdbe816e-8815-4861-ac0a-cd3e2d8070e2",
   "metadata": {},
   "outputs": [
    {
     "data": {
      "text/plain": [
       "False"
      ]
     },
     "execution_count": 96,
     "metadata": {},
     "output_type": "execute_result"
    }
   ],
   "source": [
    "((apellido == \"morales\") & (a == 4))"
   ]
  },
  {
   "cell_type": "markdown",
   "id": "ede98d87-e8b8-42c8-89a0-b72c99720117",
   "metadata": {},
   "source": []
  },
  {
   "cell_type": "markdown",
   "id": "1dae9a2a-8d88-4ecb-b57a-2424265f7da1",
   "metadata": {},
   "source": [
    "# Control de flujo"
   ]
  },
  {
   "cell_type": "code",
   "execution_count": 110,
   "id": "4ff32c71-7be1-49c9-9deb-8921628c5584",
   "metadata": {
    "jp-MarkdownHeadingCollapsed": true
   },
   "outputs": [
    {
     "name": "stdout",
     "output_type": "stream",
     "text": [
      "'b' no puede ser 0\n"
     ]
    }
   ],
   "source": [
    "# inicio\n",
    "\n",
    "a = 88\n",
    "b = 0\n",
    "\n",
    "\n",
    "if (b != 0) :\n",
    "    if (a % b == 0) :\n",
    "        print(str(a) + \" sí es múltiplo de \" + str(b))\n",
    "    else :\n",
    "        print(str(a) + \" no es múltiplo de \" + str(b))\n",
    "else :\n",
    "    print(\"'b' no puede ser 0\")\n"
   ]
  },
  {
   "cell_type": "code",
   "execution_count": null,
   "id": "774e9b27-1d05-4290-a08d-75e4949f0a79",
   "metadata": {},
   "outputs": [],
   "source": []
  },
  {
   "cell_type": "code",
   "execution_count": 112,
   "id": "ef6a9c54-ff65-49aa-8ca4-2a27713f2004",
   "metadata": {},
   "outputs": [
    {
     "name": "stdout",
     "output_type": "stream",
     "text": [
      "0\n",
      "1\n",
      "2\n",
      "3\n",
      "4\n",
      "5\n",
      "6\n",
      "7\n",
      "8\n",
      "9\n",
      "10\n"
     ]
    }
   ],
   "source": [
    "a = 10\n",
    "i = 0\n",
    "while(i <= a) :\n",
    "    print(i)\n",
    "    i += 1\n",
    "\n",
    "    "
   ]
  },
  {
   "cell_type": "code",
   "execution_count": 114,
   "id": "6cf7c6a9-7e70-4070-ac0c-142bdeb8650d",
   "metadata": {},
   "outputs": [],
   "source": [
    "# Ejercicio 1.  factorial entrando a y saliendo a! "
   ]
  },
  {
   "cell_type": "code",
   "execution_count": 154,
   "id": "e70083d2-8dc5-4bbb-8e4e-cd2989d3e3ec",
   "metadata": {},
   "outputs": [
    {
     "name": "stdout",
     "output_type": "stream",
     "text": [
      "El factorial de  4  es:  24\n"
     ]
    }
   ],
   "source": [
    "a = 4\n",
    "if a >= 0: \n",
    "    x = 1 #para controlar el ciclo\n",
    "    f = 1 #para cacular el factorial\n",
    "    while x <= a:\n",
    "        f = f * x\n",
    "        x += 1\n",
    "    print(\"El factorial de \",a,\" es: \",f)\n",
    "else:\n",
    "    print(\"no se puede calcular\")\n",
    " \n"
   ]
  },
  {
   "cell_type": "code",
   "execution_count": null,
   "id": "08ea9bc3-82d6-4654-80c7-379299156d8b",
   "metadata": {},
   "outputs": [],
   "source": [
    "#Ejercicio 2. numeros primos. a .. es primo o no\n"
   ]
  },
  {
   "cell_type": "code",
   "execution_count": 160,
   "id": "bca78916-fc99-461b-92ce-989d84380609",
   "metadata": {},
   "outputs": [
    {
     "name": "stdout",
     "output_type": "stream",
     "text": [
      "El numero  3 Es primo\n"
     ]
    }
   ],
   "source": [
    "a = 3\n",
    "x = 1\n",
    "c = 0\n",
    "while x <= a:\n",
    "    if a % x == 0:\n",
    "        c = c + 1\n",
    "    x = x + 1 #esto es para que el ciclo tenga movimiento y no se haga infinito \n",
    "if c == 2:\n",
    "    print(\"El numero \", a, \"Es primo\")\n",
    "else:\n",
    "    print(\"El numero \", a, \"No es primo\")\n"
   ]
  },
  {
   "cell_type": "code",
   "execution_count": null,
   "id": "7539c223-68ec-4f87-a63f-5d7d97c68dda",
   "metadata": {},
   "outputs": [],
   "source": []
  }
 ],
 "metadata": {
  "kernelspec": {
   "display_name": "Python 3 (ipykernel)",
   "language": "python",
   "name": "python3"
  },
  "language_info": {
   "codemirror_mode": {
    "name": "ipython",
    "version": 3
   },
   "file_extension": ".py",
   "mimetype": "text/x-python",
   "name": "python",
   "nbconvert_exporter": "python",
   "pygments_lexer": "ipython3",
   "version": "3.12.4"
  }
 },
 "nbformat": 4,
 "nbformat_minor": 5
}
